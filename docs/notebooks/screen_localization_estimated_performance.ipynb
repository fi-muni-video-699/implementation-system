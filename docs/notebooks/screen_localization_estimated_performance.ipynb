{
 "cells": [
  {
   "cell_type": "code",
   "execution_count": 1,
   "metadata": {},
   "outputs": [
    {
     "name": "stdout",
     "output_type": "stream",
     "text": [
      "CPU times: user 5.76 s, sys: 860 ms, total: 6.62 s\n",
      "Wall time: 6.09 s\n"
     ]
    }
   ],
   "source": [
    "%%time\n",
    "from functools import partial\n",
    "from collections import defaultdict\n",
    "import numpy as np\n",
    "import pandas as pd\n",
    "import scipy\n",
    "from sklearn.model_selection import KFold\n",
    "from tqdm.notebook import tqdm\n",
    "from itertools import product\n",
    "import time\n",
    "\n",
    "from video699.screen.semantic_segmentation.fastai_detector import *\n",
    "from video699.screen.semantic_segmentation.common import *\n",
    "from video699.screen.semantic_segmentation.postprocessing import *\n",
    "from video699.screen.semantic_segmentation.evaluation import *"
   ]
  },
  {
   "cell_type": "code",
   "execution_count": 2,
   "metadata": {},
   "outputs": [],
   "source": [
    "detector = FastAIScreenDetector()\n",
    "method_params = list(detector.methods.keys())\n",
    "train_params = list(detector.train_params.keys())\n",
    "all_params = train_params + method_params\n",
    "\n",
    "base = [True]\n",
    "base_lower_bounds = [7]\n",
    "base_upper_bounds = [70]\n",
    "base_factors = [[0.1, 0.01]]\n",
    "\n",
    "erode_dilate = [True]\n",
    "erode_dilate_lower_bounds = [7]\n",
    "erode_dilate_upper_bounds = [70]\n",
    "erode_dilate_factors = [[0.1, 0.01]]\n",
    "erode_dilate_iterations = [40, 100]\n",
    "\n",
    "ratio_split = [True]\n",
    "ratio_split_lower_bounds = [0.7, 0.9]\n",
    "ratio_split_upper_bounds = [1.5]\n",
    "\n",
    "methods_values = [base] + [erode_dilate] + [ratio_split] + [base_lower_bounds] + [base_upper_bounds] \\\n",
    "        + [base_factors] + [erode_dilate_lower_bounds] + [erode_dilate_upper_bounds] + [erode_dilate_factors] \\\n",
    "        + [erode_dilate_iterations] + [ratio_split_lower_bounds] + [ratio_split_upper_bounds]\n",
    "\n",
    "batch_size = [8]\n",
    "resize_factor = [2]\n",
    "frozen_epochs = [2, 6, 9]\n",
    "unfrozen_epochs = [3, 7, 10]\n",
    "frozen_lr = [1e-3, 1e-4]\n",
    "unfrozen_lr = [slice(1e-4, 2e-4)]\n",
    "\n",
    "train_params_values = [batch_size] + [resize_factor] + [frozen_epochs] + [unfrozen_epochs] + [frozen_lr] + [unfrozen_lr]"
   ]
  },
  {
   "cell_type": "code",
   "execution_count": 3,
   "metadata": {},
   "outputs": [],
   "source": [
    "method_settings = list(product(*methods_values))\n",
    "train_settings = list(product(*train_params_values))\n",
    "all_lectures = [video.filename for video in ALL_VIDEOS]\n",
    "all_frames = [frame for video in ALL_VIDEOS for frame in video]\n",
    "all_frames_grouped_by_videos = {video.filename: [frame for frame in video] for video in ALL_VIDEOS}\n",
    "test_lectures = ['PB069-D2-20140305.mp4']\n",
    "test_frames = [frame for lecture in test_lectures for frame in all_frames_grouped_by_videos[lecture]]\n",
    "actual_detector = AnnotatedSampledVideoScreenDetector()"
   ]
  },
  {
   "cell_type": "code",
   "execution_count": 4,
   "metadata": {},
   "outputs": [
    {
     "name": "stderr",
     "output_type": "stream",
     "text": [
      "0it [00:00, ?it/s]\n",
      "  0%|          | 0/18 [00:00<?, ?it/s]\u001b[A"
     ]
    },
    {
     "name": "stdout",
     "output_type": "stream",
     "text": [
      "█\r"
     ]
    },
    {
     "name": "stderr",
     "output_type": "stream",
     "text": [
      "\n",
      "  6%|▌         | 1/18 [06:37<1:52:41, 397.76s/it]\u001b[A"
     ]
    },
    {
     "name": "stdout",
     "output_type": "stream",
     "text": [
      "█\r"
     ]
    },
    {
     "name": "stderr",
     "output_type": "stream",
     "text": [
      "\n",
      " 11%|█         | 2/18 [12:53<1:44:20, 391.30s/it]\u001b[A"
     ]
    },
    {
     "name": "stdout",
     "output_type": "stream",
     "text": [
      "█\r"
     ]
    },
    {
     "name": "stderr",
     "output_type": "stream",
     "text": [
      "\n",
      " 28%|██▊       | 5/18 [48:43<2:14:38, 621.40s/it]\u001b[A"
     ]
    },
    {
     "name": "stdout",
     "output_type": "stream",
     "text": [
      "█\r"
     ]
    },
    {
     "name": "stderr",
     "output_type": "stream",
     "text": [
      "\n",
      " 33%|███▎      | 6/18 [1:02:58<2:18:18, 691.56s/it]\u001b[A"
     ]
    },
    {
     "name": "stdout",
     "output_type": "stream",
     "text": [
      "█\r"
     ]
    },
    {
     "name": "stderr",
     "output_type": "stream",
     "text": [
      "\n",
      " 39%|███▉      | 7/18 [1:13:41<2:04:07, 677.07s/it]\u001b[A"
     ]
    },
    {
     "name": "stdout",
     "output_type": "stream",
     "text": [
      "█\r"
     ]
    },
    {
     "name": "stderr",
     "output_type": "stream",
     "text": [
      "\n",
      " 44%|████▍     | 8/18 [1:24:25<1:51:09, 666.95s/it]\u001b[A"
     ]
    },
    {
     "name": "stdout",
     "output_type": "stream",
     "text": [
      "█\r"
     ]
    },
    {
     "name": "stderr",
     "output_type": "stream",
     "text": [
      "\n",
      " 50%|█████     | 9/18 [1:39:40<1:51:12, 741.41s/it]\u001b[A"
     ]
    },
    {
     "name": "stdout",
     "output_type": "stream",
     "text": [
      "█\r"
     ]
    },
    {
     "name": "stderr",
     "output_type": "stream",
     "text": [
      "\n",
      " 56%|█████▌    | 10/18 [1:54:56<1:45:50, 793.87s/it]\u001b[A"
     ]
    },
    {
     "name": "stdout",
     "output_type": "stream",
     "text": [
      "█\r"
     ]
    },
    {
     "name": "stderr",
     "output_type": "stream",
     "text": [
      "\n",
      " 61%|██████    | 11/18 [2:13:39<1:44:07, 892.56s/it]\u001b[A"
     ]
    },
    {
     "name": "stdout",
     "output_type": "stream",
     "text": [
      "█\r"
     ]
    },
    {
     "name": "stderr",
     "output_type": "stream",
     "text": [
      "\n",
      " 67%|██████▋   | 12/18 [2:32:25<1:36:16, 962.75s/it]\u001b[A"
     ]
    },
    {
     "name": "stdout",
     "output_type": "stream",
     "text": [
      "█\r"
     ]
    },
    {
     "name": "stderr",
     "output_type": "stream",
     "text": [
      "\n",
      " 72%|███████▏  | 13/18 [2:46:32<1:17:19, 927.94s/it]\u001b[A"
     ]
    },
    {
     "name": "stdout",
     "output_type": "stream",
     "text": [
      "█\r"
     ]
    },
    {
     "name": "stderr",
     "output_type": "stream",
     "text": [
      "\n",
      " 78%|███████▊  | 14/18 [3:00:39<1:00:15, 903.76s/it]\u001b[A"
     ]
    },
    {
     "name": "stdout",
     "output_type": "stream",
     "text": [
      "█\r"
     ]
    },
    {
     "name": "stderr",
     "output_type": "stream",
     "text": [
      "\n",
      " 83%|████████▎ | 15/18 [3:19:18<48:24, 968.26s/it]  \u001b[A"
     ]
    },
    {
     "name": "stdout",
     "output_type": "stream",
     "text": [
      "█\r"
     ]
    },
    {
     "name": "stderr",
     "output_type": "stream",
     "text": [
      "\n",
      " 89%|████████▉ | 16/18 [3:37:55<33:45, 1012.83s/it]\u001b[A"
     ]
    },
    {
     "name": "stdout",
     "output_type": "stream",
     "text": [
      "█\r"
     ]
    },
    {
     "name": "stderr",
     "output_type": "stream",
     "text": [
      "\n",
      " 94%|█████████▍| 17/18 [3:59:59<18:26, 1106.04s/it]\u001b[A"
     ]
    },
    {
     "name": "stdout",
     "output_type": "stream",
     "text": [
      "█\r"
     ]
    },
    {
     "name": "stderr",
     "output_type": "stream",
     "text": [
      "\n",
      "100%|██████████| 18/18 [4:22:13<00:00, 874.06s/it] \u001b[A\n"
     ]
    },
    {
     "data": {
      "text/html": [
       "<table border=\"1\" class=\"dataframe\">\n",
       "  <thead>\n",
       "    <tr style=\"text-align: left;\">\n",
       "      <th>epoch</th>\n",
       "      <th>train_loss</th>\n",
       "      <th>valid_loss</th>\n",
       "      <th>acc</th>\n",
       "      <th>dice</th>\n",
       "      <th>iou</th>\n",
       "      <th>time</th>\n",
       "    </tr>\n",
       "  </thead>\n",
       "  <tbody>\n",
       "    <tr>\n",
       "      <td>0</td>\n",
       "      <td>0.339358</td>\n",
       "      <td>0.137502</td>\n",
       "      <td>0.950038</td>\n",
       "      <td>0.861033</td>\n",
       "      <td>0.796631</td>\n",
       "      <td>00:17</td>\n",
       "    </tr>\n",
       "    <tr>\n",
       "      <td>1</td>\n",
       "      <td>0.199227</td>\n",
       "      <td>0.064911</td>\n",
       "      <td>0.977297</td>\n",
       "      <td>0.941446</td>\n",
       "      <td>0.903370</td>\n",
       "      <td>00:17</td>\n",
       "    </tr>\n",
       "    <tr>\n",
       "      <td>2</td>\n",
       "      <td>0.132205</td>\n",
       "      <td>0.042738</td>\n",
       "      <td>0.987287</td>\n",
       "      <td>0.966501</td>\n",
       "      <td>0.945082</td>\n",
       "      <td>00:17</td>\n",
       "    </tr>\n",
       "    <tr>\n",
       "      <td>3</td>\n",
       "      <td>0.101230</td>\n",
       "      <td>0.034727</td>\n",
       "      <td>0.987904</td>\n",
       "      <td>0.966345</td>\n",
       "      <td>0.945406</td>\n",
       "      <td>00:17</td>\n",
       "    </tr>\n",
       "    <tr>\n",
       "      <td>4</td>\n",
       "      <td>0.088352</td>\n",
       "      <td>0.038240</td>\n",
       "      <td>0.989803</td>\n",
       "      <td>0.971224</td>\n",
       "      <td>0.953785</td>\n",
       "      <td>00:17</td>\n",
       "    </tr>\n",
       "    <tr>\n",
       "      <td>5</td>\n",
       "      <td>0.070047</td>\n",
       "      <td>0.030055</td>\n",
       "      <td>0.990330</td>\n",
       "      <td>0.971995</td>\n",
       "      <td>0.955211</td>\n",
       "      <td>00:17</td>\n",
       "    </tr>\n",
       "    <tr>\n",
       "      <td>6</td>\n",
       "      <td>0.053798</td>\n",
       "      <td>0.029860</td>\n",
       "      <td>0.988796</td>\n",
       "      <td>0.967685</td>\n",
       "      <td>0.947864</td>\n",
       "      <td>00:17</td>\n",
       "    </tr>\n",
       "    <tr>\n",
       "      <td>7</td>\n",
       "      <td>0.044685</td>\n",
       "      <td>0.029722</td>\n",
       "      <td>0.989419</td>\n",
       "      <td>0.969491</td>\n",
       "      <td>0.950762</td>\n",
       "      <td>00:17</td>\n",
       "    </tr>\n",
       "    <tr>\n",
       "      <td>8</td>\n",
       "      <td>0.040183</td>\n",
       "      <td>0.029020</td>\n",
       "      <td>0.989774</td>\n",
       "      <td>0.970418</td>\n",
       "      <td>0.952354</td>\n",
       "      <td>00:17</td>\n",
       "    </tr>\n",
       "  </tbody>\n",
       "</table>"
      ],
      "text/plain": [
       "<IPython.core.display.HTML object>"
      ]
     },
     "metadata": {},
     "output_type": "display_data"
    },
    {
     "data": {
      "text/html": [
       "<table border=\"1\" class=\"dataframe\">\n",
       "  <thead>\n",
       "    <tr style=\"text-align: left;\">\n",
       "      <th>epoch</th>\n",
       "      <th>train_loss</th>\n",
       "      <th>valid_loss</th>\n",
       "      <th>acc</th>\n",
       "      <th>dice</th>\n",
       "      <th>iou</th>\n",
       "      <th>time</th>\n",
       "    </tr>\n",
       "  </thead>\n",
       "  <tbody>\n",
       "    <tr>\n",
       "      <td>0</td>\n",
       "      <td>0.057786</td>\n",
       "      <td>0.042605</td>\n",
       "      <td>0.989130</td>\n",
       "      <td>0.968152</td>\n",
       "      <td>0.950916</td>\n",
       "      <td>00:17</td>\n",
       "    </tr>\n",
       "    <tr>\n",
       "      <td>1</td>\n",
       "      <td>0.068453</td>\n",
       "      <td>0.066378</td>\n",
       "      <td>0.980555</td>\n",
       "      <td>0.956950</td>\n",
       "      <td>0.927205</td>\n",
       "      <td>00:17</td>\n",
       "    </tr>\n",
       "    <tr>\n",
       "      <td>2</td>\n",
       "      <td>0.052656</td>\n",
       "      <td>0.035328</td>\n",
       "      <td>0.987416</td>\n",
       "      <td>0.965015</td>\n",
       "      <td>0.943267</td>\n",
       "      <td>00:17</td>\n",
       "    </tr>\n",
       "  </tbody>\n",
       "</table>"
      ],
      "text/plain": [
       "<IPython.core.display.HTML object>"
      ]
     },
     "metadata": {},
     "output_type": "display_data"
    },
    {
     "name": "stderr",
     "output_type": "stream",
     "text": [
      "1it [4:25:47, 15947.99s/it]\n",
      "  0%|          | 0/18 [00:00<?, ?it/s]\u001b[A"
     ]
    },
    {
     "name": "stdout",
     "output_type": "stream",
     "text": [
      "█\r"
     ]
    },
    {
     "name": "stderr",
     "output_type": "stream",
     "text": [
      "\n",
      "  6%|▌         | 1/18 [06:29<1:50:22, 389.56s/it]\u001b[A"
     ]
    },
    {
     "name": "stdout",
     "output_type": "stream",
     "text": [
      "█\r"
     ]
    },
    {
     "name": "stderr",
     "output_type": "stream",
     "text": [
      "\n",
      " 11%|█         | 2/18 [12:59<1:43:56, 389.81s/it]\u001b[A"
     ]
    },
    {
     "name": "stdout",
     "output_type": "stream",
     "text": [
      "█\r"
     ]
    },
    {
     "name": "stderr",
     "output_type": "stream",
     "text": [
      "\n",
      " 17%|█▋        | 3/18 [24:08<1:58:22, 473.47s/it]\u001b[A"
     ]
    },
    {
     "name": "stdout",
     "output_type": "stream",
     "text": [
      "█\r"
     ]
    },
    {
     "name": "stderr",
     "output_type": "stream",
     "text": [
      "\n",
      " 22%|██▏       | 4/18 [35:12<2:03:49, 530.67s/it]\u001b[A"
     ]
    },
    {
     "name": "stdout",
     "output_type": "stream",
     "text": [
      "█\r"
     ]
    },
    {
     "name": "stderr",
     "output_type": "stream",
     "text": [
      "\n",
      " 28%|██▊       | 5/18 [49:42<2:17:02, 632.54s/it]\u001b[A"
     ]
    },
    {
     "name": "stdout",
     "output_type": "stream",
     "text": [
      "█\r"
     ]
    },
    {
     "name": "stderr",
     "output_type": "stream",
     "text": [
      "\n",
      " 33%|███▎      | 6/18 [1:04:16<2:20:56, 704.69s/it]\u001b[A"
     ]
    },
    {
     "name": "stdout",
     "output_type": "stream",
     "text": [
      "█\r"
     ]
    },
    {
     "name": "stderr",
     "output_type": "stream",
     "text": [
      "\n",
      " 39%|███▉      | 7/18 [1:15:20<2:06:58, 692.56s/it]\u001b[A"
     ]
    },
    {
     "name": "stdout",
     "output_type": "stream",
     "text": [
      "█\r"
     ]
    },
    {
     "name": "stderr",
     "output_type": "stream",
     "text": [
      "\n",
      " 44%|████▍     | 8/18 [1:26:30<1:54:17, 685.77s/it]\u001b[A"
     ]
    },
    {
     "name": "stdout",
     "output_type": "stream",
     "text": [
      "█\r"
     ]
    },
    {
     "name": "stderr",
     "output_type": "stream",
     "text": [
      "\n",
      " 50%|█████     | 9/18 [1:42:17<1:54:39, 764.37s/it]\u001b[A"
     ]
    },
    {
     "name": "stdout",
     "output_type": "stream",
     "text": [
      "█\r"
     ]
    },
    {
     "name": "stderr",
     "output_type": "stream",
     "text": [
      "\n",
      " 56%|█████▌    | 10/18 [1:58:01<1:49:05, 818.22s/it]\u001b[A"
     ]
    },
    {
     "name": "stdout",
     "output_type": "stream",
     "text": [
      "█\r"
     ]
    },
    {
     "name": "stderr",
     "output_type": "stream",
     "text": [
      "\n",
      " 61%|██████    | 11/18 [2:17:12<1:47:06, 918.05s/it]\u001b[A"
     ]
    },
    {
     "name": "stdout",
     "output_type": "stream",
     "text": [
      "█\r"
     ]
    },
    {
     "name": "stderr",
     "output_type": "stream",
     "text": [
      "\n",
      " 67%|██████▋   | 12/18 [2:36:18<1:38:38, 986.46s/it]\u001b[A"
     ]
    },
    {
     "name": "stdout",
     "output_type": "stream",
     "text": [
      "█\r"
     ]
    },
    {
     "name": "stderr",
     "output_type": "stream",
     "text": [
      "\n",
      " 72%|███████▏  | 13/18 [2:50:36<1:18:58, 947.77s/it]\u001b[A"
     ]
    },
    {
     "name": "stdout",
     "output_type": "stream",
     "text": [
      "█\r"
     ]
    },
    {
     "name": "stderr",
     "output_type": "stream",
     "text": [
      "\n",
      " 78%|███████▊  | 14/18 [3:04:52<1:01:20, 920.19s/it]\u001b[A"
     ]
    },
    {
     "name": "stdout",
     "output_type": "stream",
     "text": [
      "█\r"
     ]
    },
    {
     "name": "stderr",
     "output_type": "stream",
     "text": [
      "\n",
      " 83%|████████▎ | 15/18 [3:23:50<49:16, 985.66s/it]  \u001b[A"
     ]
    },
    {
     "name": "stdout",
     "output_type": "stream",
     "text": [
      "█\r"
     ]
    },
    {
     "name": "stderr",
     "output_type": "stream",
     "text": [
      "\n",
      " 89%|████████▉ | 16/18 [3:42:47<34:21, 1030.94s/it]\u001b[A"
     ]
    },
    {
     "name": "stdout",
     "output_type": "stream",
     "text": [
      "█\r"
     ]
    },
    {
     "name": "stderr",
     "output_type": "stream",
     "text": [
      "\n",
      " 94%|█████████▍| 17/18 [4:05:11<18:44, 1124.81s/it]\u001b[A"
     ]
    },
    {
     "name": "stdout",
     "output_type": "stream",
     "text": [
      "█\r"
     ]
    },
    {
     "name": "stderr",
     "output_type": "stream",
     "text": [
      "\n",
      "100%|██████████| 18/18 [4:27:37<00:00, 892.07s/it] \u001b[A\n"
     ]
    },
    {
     "data": {
      "text/html": [
       "<table border=\"1\" class=\"dataframe\">\n",
       "  <thead>\n",
       "    <tr style=\"text-align: left;\">\n",
       "      <th>epoch</th>\n",
       "      <th>train_loss</th>\n",
       "      <th>valid_loss</th>\n",
       "      <th>acc</th>\n",
       "      <th>dice</th>\n",
       "      <th>iou</th>\n",
       "      <th>time</th>\n",
       "    </tr>\n",
       "  </thead>\n",
       "  <tbody>\n",
       "    <tr>\n",
       "      <td>0</td>\n",
       "      <td>0.169093</td>\n",
       "      <td>0.079754</td>\n",
       "      <td>0.970421</td>\n",
       "      <td>0.954109</td>\n",
       "      <td>0.914919</td>\n",
       "      <td>00:20</td>\n",
       "    </tr>\n",
       "    <tr>\n",
       "      <td>1</td>\n",
       "      <td>0.146467</td>\n",
       "      <td>0.141869</td>\n",
       "      <td>0.935264</td>\n",
       "      <td>0.902468</td>\n",
       "      <td>0.834138</td>\n",
       "      <td>00:17</td>\n",
       "    </tr>\n",
       "    <tr>\n",
       "      <td>2</td>\n",
       "      <td>0.131756</td>\n",
       "      <td>0.161775</td>\n",
       "      <td>0.929699</td>\n",
       "      <td>0.883426</td>\n",
       "      <td>0.803574</td>\n",
       "      <td>00:17</td>\n",
       "    </tr>\n",
       "    <tr>\n",
       "      <td>3</td>\n",
       "      <td>0.114882</td>\n",
       "      <td>0.182910</td>\n",
       "      <td>0.919840</td>\n",
       "      <td>0.895189</td>\n",
       "      <td>0.836094</td>\n",
       "      <td>00:17</td>\n",
       "    </tr>\n",
       "    <tr>\n",
       "      <td>4</td>\n",
       "      <td>0.095437</td>\n",
       "      <td>0.152145</td>\n",
       "      <td>0.933923</td>\n",
       "      <td>0.908522</td>\n",
       "      <td>0.852732</td>\n",
       "      <td>00:17</td>\n",
       "    </tr>\n",
       "    <tr>\n",
       "      <td>5</td>\n",
       "      <td>0.084418</td>\n",
       "      <td>0.122772</td>\n",
       "      <td>0.944264</td>\n",
       "      <td>0.912572</td>\n",
       "      <td>0.846358</td>\n",
       "      <td>00:17</td>\n",
       "    </tr>\n",
       "    <tr>\n",
       "      <td>6</td>\n",
       "      <td>0.060537</td>\n",
       "      <td>0.068189</td>\n",
       "      <td>0.969096</td>\n",
       "      <td>0.950149</td>\n",
       "      <td>0.907134</td>\n",
       "      <td>00:17</td>\n",
       "    </tr>\n",
       "    <tr>\n",
       "      <td>7</td>\n",
       "      <td>0.043727</td>\n",
       "      <td>0.064354</td>\n",
       "      <td>0.969312</td>\n",
       "      <td>0.950676</td>\n",
       "      <td>0.909452</td>\n",
       "      <td>00:17</td>\n",
       "    </tr>\n",
       "    <tr>\n",
       "      <td>8</td>\n",
       "      <td>0.038120</td>\n",
       "      <td>0.061064</td>\n",
       "      <td>0.971764</td>\n",
       "      <td>0.954564</td>\n",
       "      <td>0.916245</td>\n",
       "      <td>00:17</td>\n",
       "    </tr>\n",
       "  </tbody>\n",
       "</table>"
      ],
      "text/plain": [
       "<IPython.core.display.HTML object>"
      ]
     },
     "metadata": {},
     "output_type": "display_data"
    },
    {
     "data": {
      "text/html": [
       "<table border=\"1\" class=\"dataframe\">\n",
       "  <thead>\n",
       "    <tr style=\"text-align: left;\">\n",
       "      <th>epoch</th>\n",
       "      <th>train_loss</th>\n",
       "      <th>valid_loss</th>\n",
       "      <th>acc</th>\n",
       "      <th>dice</th>\n",
       "      <th>iou</th>\n",
       "      <th>time</th>\n",
       "    </tr>\n",
       "  </thead>\n",
       "  <tbody>\n",
       "    <tr>\n",
       "      <td>0</td>\n",
       "      <td>0.025072</td>\n",
       "      <td>0.108170</td>\n",
       "      <td>0.961391</td>\n",
       "      <td>0.939132</td>\n",
       "      <td>0.892083</td>\n",
       "      <td>00:17</td>\n",
       "    </tr>\n",
       "    <tr>\n",
       "      <td>1</td>\n",
       "      <td>0.035551</td>\n",
       "      <td>0.056559</td>\n",
       "      <td>0.977005</td>\n",
       "      <td>0.962433</td>\n",
       "      <td>0.929998</td>\n",
       "      <td>00:17</td>\n",
       "    </tr>\n",
       "    <tr>\n",
       "      <td>2</td>\n",
       "      <td>0.039263</td>\n",
       "      <td>0.039236</td>\n",
       "      <td>0.985789</td>\n",
       "      <td>0.977735</td>\n",
       "      <td>0.957058</td>\n",
       "      <td>00:17</td>\n",
       "    </tr>\n",
       "    <tr>\n",
       "      <td>3</td>\n",
       "      <td>0.028950</td>\n",
       "      <td>0.079233</td>\n",
       "      <td>0.970914</td>\n",
       "      <td>0.952856</td>\n",
       "      <td>0.913430</td>\n",
       "      <td>00:17</td>\n",
       "    </tr>\n",
       "    <tr>\n",
       "      <td>4</td>\n",
       "      <td>0.022265</td>\n",
       "      <td>0.031251</td>\n",
       "      <td>0.988307</td>\n",
       "      <td>0.982094</td>\n",
       "      <td>0.965449</td>\n",
       "      <td>00:17</td>\n",
       "    </tr>\n",
       "    <tr>\n",
       "      <td>5</td>\n",
       "      <td>0.022340</td>\n",
       "      <td>0.025484</td>\n",
       "      <td>0.991263</td>\n",
       "      <td>0.987104</td>\n",
       "      <td>0.974845</td>\n",
       "      <td>00:17</td>\n",
       "    </tr>\n",
       "    <tr>\n",
       "      <td>6</td>\n",
       "      <td>0.019071</td>\n",
       "      <td>0.028257</td>\n",
       "      <td>0.989955</td>\n",
       "      <td>0.985143</td>\n",
       "      <td>0.971016</td>\n",
       "      <td>00:17</td>\n",
       "    </tr>\n",
       "  </tbody>\n",
       "</table>"
      ],
      "text/plain": [
       "<IPython.core.display.HTML object>"
      ]
     },
     "metadata": {},
     "output_type": "display_data"
    },
    {
     "name": "stderr",
     "output_type": "stream",
     "text": [
      "2it [8:58:14, 16067.61s/it]\n",
      "  0%|          | 0/18 [00:00<?, ?it/s]\u001b[A"
     ]
    },
    {
     "name": "stdout",
     "output_type": "stream",
     "text": [
      "█\r"
     ]
    },
    {
     "name": "stderr",
     "output_type": "stream",
     "text": [
      "\n",
      "  6%|▌         | 1/18 [06:52<1:56:44, 412.04s/it]\u001b[A"
     ]
    },
    {
     "name": "stdout",
     "output_type": "stream",
     "text": [
      "█\r"
     ]
    },
    {
     "name": "stderr",
     "output_type": "stream",
     "text": [
      "\n",
      " 11%|█         | 2/18 [13:44<1:49:56, 412.25s/it]\u001b[A"
     ]
    },
    {
     "name": "stdout",
     "output_type": "stream",
     "text": [
      "█\r"
     ]
    },
    {
     "name": "stderr",
     "output_type": "stream",
     "text": [
      "\n",
      " 17%|█▋        | 3/18 [25:38<2:05:40, 502.67s/it]\u001b[A"
     ]
    },
    {
     "name": "stdout",
     "output_type": "stream",
     "text": [
      "█\r"
     ]
    },
    {
     "name": "stderr",
     "output_type": "stream",
     "text": [
      "\n",
      " 22%|██▏       | 4/18 [37:34<2:12:14, 566.75s/it]\u001b[A"
     ]
    },
    {
     "name": "stdout",
     "output_type": "stream",
     "text": [
      "█\r"
     ]
    },
    {
     "name": "stderr",
     "output_type": "stream",
     "text": [
      "\n",
      " 28%|██▊       | 5/18 [53:24<2:27:42, 681.70s/it]\u001b[A"
     ]
    },
    {
     "name": "stdout",
     "output_type": "stream",
     "text": [
      "█\r"
     ]
    },
    {
     "name": "stderr",
     "output_type": "stream",
     "text": [
      "\n",
      " 33%|███▎      | 6/18 [1:09:18<2:32:41, 763.46s/it]\u001b[A"
     ]
    },
    {
     "name": "stdout",
     "output_type": "stream",
     "text": [
      "█\r"
     ]
    },
    {
     "name": "stderr",
     "output_type": "stream",
     "text": [
      "\n",
      " 39%|███▉      | 7/18 [1:21:21<2:17:41, 751.09s/it]\u001b[A"
     ]
    },
    {
     "name": "stdout",
     "output_type": "stream",
     "text": [
      "█\r"
     ]
    },
    {
     "name": "stderr",
     "output_type": "stream",
     "text": [
      "\n",
      " 44%|████▍     | 8/18 [1:33:21<2:03:37, 741.78s/it]\u001b[A"
     ]
    },
    {
     "name": "stdout",
     "output_type": "stream",
     "text": [
      "█\r"
     ]
    },
    {
     "name": "stderr",
     "output_type": "stream",
     "text": [
      "\n",
      " 50%|█████     | 9/18 [1:50:29<2:04:10, 827.80s/it]\u001b[A"
     ]
    },
    {
     "name": "stdout",
     "output_type": "stream",
     "text": [
      "█\r"
     ]
    },
    {
     "name": "stderr",
     "output_type": "stream",
     "text": [
      "\n",
      " 56%|█████▌    | 10/18 [2:07:42<1:58:34, 889.31s/it]\u001b[A"
     ]
    },
    {
     "name": "stdout",
     "output_type": "stream",
     "text": [
      "█\r"
     ]
    },
    {
     "name": "stderr",
     "output_type": "stream",
     "text": [
      "\n",
      " 61%|██████    | 11/18 [2:28:40<1:56:40, 1000.03s/it]\u001b[A"
     ]
    },
    {
     "name": "stdout",
     "output_type": "stream",
     "text": [
      "█\r"
     ]
    },
    {
     "name": "stderr",
     "output_type": "stream",
     "text": [
      "\n",
      " 67%|██████▋   | 12/18 [2:49:38<1:47:43, 1077.25s/it]\u001b[A"
     ]
    },
    {
     "name": "stdout",
     "output_type": "stream",
     "text": [
      "█\r"
     ]
    },
    {
     "name": "stderr",
     "output_type": "stream",
     "text": [
      "\n",
      " 72%|███████▏  | 13/18 [3:05:25<1:26:31, 1038.35s/it]\u001b[A"
     ]
    },
    {
     "name": "stdout",
     "output_type": "stream",
     "text": [
      "█\r"
     ]
    },
    {
     "name": "stderr",
     "output_type": "stream",
     "text": [
      "\n",
      " 78%|███████▊  | 14/18 [3:21:13<1:07:23, 1010.98s/it]\u001b[A"
     ]
    },
    {
     "name": "stdout",
     "output_type": "stream",
     "text": [
      "█\r"
     ]
    },
    {
     "name": "stderr",
     "output_type": "stream",
     "text": [
      "\n",
      " 83%|████████▎ | 15/18 [3:42:03<54:08, 1082.73s/it]  \u001b[A"
     ]
    },
    {
     "name": "stdout",
     "output_type": "stream",
     "text": [
      "█\r"
     ]
    },
    {
     "name": "stderr",
     "output_type": "stream",
     "text": [
      "\n",
      " 89%|████████▉ | 16/18 [4:03:04<37:52, 1136.23s/it]\u001b[A"
     ]
    },
    {
     "name": "stdout",
     "output_type": "stream",
     "text": [
      "█\r"
     ]
    },
    {
     "name": "stderr",
     "output_type": "stream",
     "text": [
      "\n",
      "100%|██████████| 18/18 [4:52:29<00:00, 975.00s/it] \u001b[A\n"
     ]
    },
    {
     "data": {
      "text/html": [
       "<table border=\"1\" class=\"dataframe\">\n",
       "  <thead>\n",
       "    <tr style=\"text-align: left;\">\n",
       "      <th>epoch</th>\n",
       "      <th>train_loss</th>\n",
       "      <th>valid_loss</th>\n",
       "      <th>acc</th>\n",
       "      <th>dice</th>\n",
       "      <th>iou</th>\n",
       "      <th>time</th>\n",
       "    </tr>\n",
       "  </thead>\n",
       "  <tbody>\n",
       "    <tr>\n",
       "      <td>0</td>\n",
       "      <td>0.279195</td>\n",
       "      <td>0.122180</td>\n",
       "      <td>0.969078</td>\n",
       "      <td>0.925670</td>\n",
       "      <td>0.890459</td>\n",
       "      <td>00:20</td>\n",
       "    </tr>\n",
       "    <tr>\n",
       "      <td>1</td>\n",
       "      <td>0.159708</td>\n",
       "      <td>0.090428</td>\n",
       "      <td>0.974153</td>\n",
       "      <td>0.939431</td>\n",
       "      <td>0.908416</td>\n",
       "      <td>00:18</td>\n",
       "    </tr>\n",
       "  </tbody>\n",
       "</table>"
      ],
      "text/plain": [
       "<IPython.core.display.HTML object>"
      ]
     },
     "metadata": {},
     "output_type": "display_data"
    },
    {
     "data": {
      "text/html": [
       "<table border=\"1\" class=\"dataframe\">\n",
       "  <thead>\n",
       "    <tr style=\"text-align: left;\">\n",
       "      <th>epoch</th>\n",
       "      <th>train_loss</th>\n",
       "      <th>valid_loss</th>\n",
       "      <th>acc</th>\n",
       "      <th>dice</th>\n",
       "      <th>iou</th>\n",
       "      <th>time</th>\n",
       "    </tr>\n",
       "  </thead>\n",
       "  <tbody>\n",
       "    <tr>\n",
       "      <td>0</td>\n",
       "      <td>0.065353</td>\n",
       "      <td>0.099961</td>\n",
       "      <td>0.975049</td>\n",
       "      <td>0.956458</td>\n",
       "      <td>0.925770</td>\n",
       "      <td>00:18</td>\n",
       "    </tr>\n",
       "    <tr>\n",
       "      <td>1</td>\n",
       "      <td>0.051377</td>\n",
       "      <td>0.111108</td>\n",
       "      <td>0.973217</td>\n",
       "      <td>0.954959</td>\n",
       "      <td>0.921679</td>\n",
       "      <td>00:18</td>\n",
       "    </tr>\n",
       "    <tr>\n",
       "      <td>2</td>\n",
       "      <td>0.046192</td>\n",
       "      <td>0.097865</td>\n",
       "      <td>0.976712</td>\n",
       "      <td>0.960689</td>\n",
       "      <td>0.932324</td>\n",
       "      <td>00:18</td>\n",
       "    </tr>\n",
       "    <tr>\n",
       "      <td>3</td>\n",
       "      <td>0.038218</td>\n",
       "      <td>0.107283</td>\n",
       "      <td>0.980153</td>\n",
       "      <td>0.965331</td>\n",
       "      <td>0.940639</td>\n",
       "      <td>00:18</td>\n",
       "    </tr>\n",
       "    <tr>\n",
       "      <td>4</td>\n",
       "      <td>0.033161</td>\n",
       "      <td>0.111029</td>\n",
       "      <td>0.977238</td>\n",
       "      <td>0.960648</td>\n",
       "      <td>0.933313</td>\n",
       "      <td>00:18</td>\n",
       "    </tr>\n",
       "    <tr>\n",
       "      <td>5</td>\n",
       "      <td>0.027052</td>\n",
       "      <td>0.106592</td>\n",
       "      <td>0.978978</td>\n",
       "      <td>0.948200</td>\n",
       "      <td>0.922166</td>\n",
       "      <td>00:18</td>\n",
       "    </tr>\n",
       "    <tr>\n",
       "      <td>6</td>\n",
       "      <td>0.022411</td>\n",
       "      <td>0.116105</td>\n",
       "      <td>0.980262</td>\n",
       "      <td>0.965605</td>\n",
       "      <td>0.941277</td>\n",
       "      <td>00:18</td>\n",
       "    </tr>\n",
       "    <tr>\n",
       "      <td>7</td>\n",
       "      <td>0.018189</td>\n",
       "      <td>0.118714</td>\n",
       "      <td>0.981329</td>\n",
       "      <td>0.967623</td>\n",
       "      <td>0.944699</td>\n",
       "      <td>00:18</td>\n",
       "    </tr>\n",
       "    <tr>\n",
       "      <td>8</td>\n",
       "      <td>0.015753</td>\n",
       "      <td>0.145748</td>\n",
       "      <td>0.981535</td>\n",
       "      <td>0.967931</td>\n",
       "      <td>0.945203</td>\n",
       "      <td>00:18</td>\n",
       "    </tr>\n",
       "    <tr>\n",
       "      <td>9</td>\n",
       "      <td>0.013692</td>\n",
       "      <td>0.133455</td>\n",
       "      <td>0.981784</td>\n",
       "      <td>0.968256</td>\n",
       "      <td>0.945863</td>\n",
       "      <td>00:18</td>\n",
       "    </tr>\n",
       "  </tbody>\n",
       "</table>"
      ],
      "text/plain": [
       "<IPython.core.display.HTML object>"
      ]
     },
     "metadata": {},
     "output_type": "display_data"
    },
    {
     "name": "stderr",
     "output_type": "stream",
     "text": [
      "3it [13:54:33, 16580.88s/it]\n",
      "  0%|          | 0/18 [00:00<?, ?it/s]\u001b[A"
     ]
    },
    {
     "name": "stdout",
     "output_type": "stream",
     "text": [
      "█\r"
     ]
    },
    {
     "name": "stderr",
     "output_type": "stream",
     "text": [
      "\n",
      "  6%|▌         | 1/18 [06:56<1:57:56, 416.27s/it]\u001b[A"
     ]
    },
    {
     "name": "stdout",
     "output_type": "stream",
     "text": [
      "█\r"
     ]
    },
    {
     "name": "stderr",
     "output_type": "stream",
     "text": [
      "\n",
      " 11%|█         | 2/18 [13:48<1:50:42, 415.13s/it]\u001b[A"
     ]
    },
    {
     "name": "stdout",
     "output_type": "stream",
     "text": [
      "█\r"
     ]
    },
    {
     "name": "stderr",
     "output_type": "stream",
     "text": [
      "\n",
      " 17%|█▋        | 3/18 [25:38<2:05:52, 503.52s/it]\u001b[A"
     ]
    },
    {
     "name": "stdout",
     "output_type": "stream",
     "text": [
      "█\r"
     ]
    },
    {
     "name": "stderr",
     "output_type": "stream",
     "text": [
      "\n",
      " 22%|██▏       | 4/18 [37:26<2:11:48, 564.88s/it]\u001b[A"
     ]
    },
    {
     "name": "stdout",
     "output_type": "stream",
     "text": [
      "█\r"
     ]
    },
    {
     "name": "stderr",
     "output_type": "stream",
     "text": [
      "\n",
      " 28%|██▊       | 5/18 [53:01<2:26:27, 675.98s/it]\u001b[A"
     ]
    },
    {
     "name": "stdout",
     "output_type": "stream",
     "text": [
      "█\r"
     ]
    },
    {
     "name": "stderr",
     "output_type": "stream",
     "text": [
      "\n",
      " 33%|███▎      | 6/18 [1:08:37<2:30:46, 753.86s/it]\u001b[A"
     ]
    },
    {
     "name": "stdout",
     "output_type": "stream",
     "text": [
      "█\r"
     ]
    },
    {
     "name": "stderr",
     "output_type": "stream",
     "text": [
      "\n",
      " 39%|███▉      | 7/18 [1:20:20<2:15:26, 738.78s/it]\u001b[A"
     ]
    },
    {
     "name": "stdout",
     "output_type": "stream",
     "text": [
      "█\r"
     ]
    },
    {
     "name": "stderr",
     "output_type": "stream",
     "text": [
      "\n",
      " 44%|████▍     | 8/18 [1:32:05<2:01:26, 728.60s/it]\u001b[A"
     ]
    },
    {
     "name": "stdout",
     "output_type": "stream",
     "text": [
      "█\r"
     ]
    },
    {
     "name": "stderr",
     "output_type": "stream",
     "text": [
      "\n",
      " 50%|█████     | 9/18 [1:48:47<2:01:34, 810.55s/it]\u001b[A"
     ]
    },
    {
     "name": "stdout",
     "output_type": "stream",
     "text": [
      "█\r"
     ]
    },
    {
     "name": "stderr",
     "output_type": "stream",
     "text": [
      "\n",
      " 56%|█████▌    | 10/18 [2:05:33<1:55:54, 869.30s/it]\u001b[A"
     ]
    },
    {
     "name": "stdout",
     "output_type": "stream",
     "text": [
      "█\r"
     ]
    },
    {
     "name": "stderr",
     "output_type": "stream",
     "text": [
      "\n",
      " 61%|██████    | 11/18 [2:26:03<1:54:01, 977.40s/it]\u001b[A"
     ]
    },
    {
     "name": "stdout",
     "output_type": "stream",
     "text": [
      "█\r"
     ]
    },
    {
     "name": "stderr",
     "output_type": "stream",
     "text": [
      "\n",
      " 67%|██████▋   | 12/18 [2:46:28<1:45:10, 1051.73s/it]\u001b[A"
     ]
    },
    {
     "name": "stdout",
     "output_type": "stream",
     "text": [
      "█\r"
     ]
    },
    {
     "name": "stderr",
     "output_type": "stream",
     "text": [
      "\n",
      " 72%|███████▏  | 13/18 [3:01:49<1:24:22, 1012.52s/it]\u001b[A"
     ]
    },
    {
     "name": "stdout",
     "output_type": "stream",
     "text": [
      "█\r"
     ]
    },
    {
     "name": "stderr",
     "output_type": "stream",
     "text": [
      "\n",
      " 78%|███████▊  | 14/18 [3:17:06<1:05:35, 983.92s/it] \u001b[A"
     ]
    },
    {
     "name": "stdout",
     "output_type": "stream",
     "text": [
      "█\r"
     ]
    },
    {
     "name": "stderr",
     "output_type": "stream",
     "text": [
      "\n",
      " 83%|████████▎ | 15/18 [3:37:21<52:39, 1053.06s/it] \u001b[A"
     ]
    },
    {
     "name": "stdout",
     "output_type": "stream",
     "text": [
      "█\r"
     ]
    },
    {
     "name": "stderr",
     "output_type": "stream",
     "text": [
      "\n",
      " 89%|████████▉ | 16/18 [3:57:37<36:43, 1101.89s/it]\u001b[A"
     ]
    },
    {
     "name": "stdout",
     "output_type": "stream",
     "text": [
      "█\r"
     ]
    },
    {
     "name": "stderr",
     "output_type": "stream",
     "text": [
      "\n",
      " 94%|█████████▍| 17/18 [4:21:40<20:04, 1204.46s/it]\u001b[A"
     ]
    },
    {
     "name": "stdout",
     "output_type": "stream",
     "text": [
      "█\r"
     ]
    },
    {
     "name": "stderr",
     "output_type": "stream",
     "text": [
      "\n",
      "100%|██████████| 18/18 [4:45:44<00:00, 952.49s/it] \u001b[A\n"
     ]
    },
    {
     "data": {
      "text/html": [
       "<table border=\"1\" class=\"dataframe\">\n",
       "  <thead>\n",
       "    <tr style=\"text-align: left;\">\n",
       "      <th>epoch</th>\n",
       "      <th>train_loss</th>\n",
       "      <th>valid_loss</th>\n",
       "      <th>acc</th>\n",
       "      <th>dice</th>\n",
       "      <th>iou</th>\n",
       "      <th>time</th>\n",
       "    </tr>\n",
       "  </thead>\n",
       "  <tbody>\n",
       "    <tr>\n",
       "      <td>0</td>\n",
       "      <td>0.255325</td>\n",
       "      <td>0.127602</td>\n",
       "      <td>0.954977</td>\n",
       "      <td>0.934940</td>\n",
       "      <td>0.885137</td>\n",
       "      <td>00:17</td>\n",
       "    </tr>\n",
       "    <tr>\n",
       "      <td>1</td>\n",
       "      <td>0.166541</td>\n",
       "      <td>0.124251</td>\n",
       "      <td>0.952900</td>\n",
       "      <td>0.931847</td>\n",
       "      <td>0.879311</td>\n",
       "      <td>00:17</td>\n",
       "    </tr>\n",
       "  </tbody>\n",
       "</table>"
      ],
      "text/plain": [
       "<IPython.core.display.HTML object>"
      ]
     },
     "metadata": {},
     "output_type": "display_data"
    },
    {
     "data": {
      "text/html": [
       "<table border=\"1\" class=\"dataframe\">\n",
       "  <thead>\n",
       "    <tr style=\"text-align: left;\">\n",
       "      <th>epoch</th>\n",
       "      <th>train_loss</th>\n",
       "      <th>valid_loss</th>\n",
       "      <th>acc</th>\n",
       "      <th>dice</th>\n",
       "      <th>iou</th>\n",
       "      <th>time</th>\n",
       "    </tr>\n",
       "  </thead>\n",
       "  <tbody>\n",
       "    <tr>\n",
       "      <td>0</td>\n",
       "      <td>0.092396</td>\n",
       "      <td>0.091333</td>\n",
       "      <td>0.971807</td>\n",
       "      <td>0.962533</td>\n",
       "      <td>0.931492</td>\n",
       "      <td>00:18</td>\n",
       "    </tr>\n",
       "    <tr>\n",
       "      <td>1</td>\n",
       "      <td>0.058454</td>\n",
       "      <td>0.084820</td>\n",
       "      <td>0.978133</td>\n",
       "      <td>0.970878</td>\n",
       "      <td>0.946812</td>\n",
       "      <td>00:18</td>\n",
       "    </tr>\n",
       "    <tr>\n",
       "      <td>2</td>\n",
       "      <td>0.043485</td>\n",
       "      <td>0.101154</td>\n",
       "      <td>0.976331</td>\n",
       "      <td>0.968286</td>\n",
       "      <td>0.942560</td>\n",
       "      <td>00:18</td>\n",
       "    </tr>\n",
       "  </tbody>\n",
       "</table>"
      ],
      "text/plain": [
       "<IPython.core.display.HTML object>"
      ]
     },
     "metadata": {},
     "output_type": "display_data"
    },
    {
     "name": "stderr",
     "output_type": "stream",
     "text": [
      "4it [18:41:54, 16778.98s/it]\n",
      "  0%|          | 0/18 [00:00<?, ?it/s]\u001b[A"
     ]
    },
    {
     "name": "stdout",
     "output_type": "stream",
     "text": [
      "█\r"
     ]
    },
    {
     "name": "stderr",
     "output_type": "stream",
     "text": [
      "\n",
      "  6%|▌         | 1/18 [06:54<1:57:21, 414.18s/it]\u001b[A"
     ]
    },
    {
     "name": "stdout",
     "output_type": "stream",
     "text": [
      "█\r"
     ]
    },
    {
     "name": "stderr",
     "output_type": "stream",
     "text": [
      "\n",
      " 11%|█         | 2/18 [13:47<1:50:20, 413.80s/it]\u001b[A"
     ]
    },
    {
     "name": "stdout",
     "output_type": "stream",
     "text": [
      "█\r"
     ]
    },
    {
     "name": "stderr",
     "output_type": "stream",
     "text": [
      "\n",
      " 17%|█▋        | 3/18 [25:34<2:05:28, 501.93s/it]\u001b[A"
     ]
    },
    {
     "name": "stdout",
     "output_type": "stream",
     "text": [
      "█\r"
     ]
    },
    {
     "name": "stderr",
     "output_type": "stream",
     "text": [
      "\n",
      " 22%|██▏       | 4/18 [37:21<2:11:25, 563.25s/it]\u001b[A"
     ]
    },
    {
     "name": "stdout",
     "output_type": "stream",
     "text": [
      "█\r"
     ]
    },
    {
     "name": "stderr",
     "output_type": "stream",
     "text": [
      "\n",
      " 28%|██▊       | 5/18 [52:49<2:25:48, 672.93s/it]\u001b[A"
     ]
    },
    {
     "name": "stdout",
     "output_type": "stream",
     "text": [
      "█\r"
     ]
    },
    {
     "name": "stderr",
     "output_type": "stream",
     "text": [
      "\n",
      " 33%|███▎      | 6/18 [1:08:17<2:29:51, 749.29s/it]\u001b[A"
     ]
    },
    {
     "name": "stdout",
     "output_type": "stream",
     "text": [
      "█\r"
     ]
    },
    {
     "name": "stderr",
     "output_type": "stream",
     "text": [
      "\n",
      " 39%|███▉      | 7/18 [1:19:56<2:14:37, 734.30s/it]\u001b[A"
     ]
    },
    {
     "name": "stdout",
     "output_type": "stream",
     "text": [
      "█\r"
     ]
    },
    {
     "name": "stderr",
     "output_type": "stream",
     "text": [
      "\n",
      " 44%|████▍     | 8/18 [1:31:33<2:00:29, 722.95s/it]\u001b[A"
     ]
    },
    {
     "name": "stdout",
     "output_type": "stream",
     "text": [
      "█\r"
     ]
    },
    {
     "name": "stderr",
     "output_type": "stream",
     "text": [
      "\n",
      " 50%|█████     | 9/18 [1:48:06<2:00:37, 804.18s/it]\u001b[A"
     ]
    },
    {
     "name": "stdout",
     "output_type": "stream",
     "text": [
      "█\r"
     ]
    },
    {
     "name": "stderr",
     "output_type": "stream",
     "text": [
      "\n",
      " 56%|█████▌    | 10/18 [2:04:41<1:54:50, 861.30s/it]\u001b[A"
     ]
    },
    {
     "name": "stdout",
     "output_type": "stream",
     "text": [
      "█\r"
     ]
    },
    {
     "name": "stderr",
     "output_type": "stream",
     "text": [
      "\n",
      " 61%|██████    | 11/18 [2:24:56<1:52:51, 967.40s/it]\u001b[A"
     ]
    },
    {
     "name": "stdout",
     "output_type": "stream",
     "text": [
      "█\r"
     ]
    },
    {
     "name": "stderr",
     "output_type": "stream",
     "text": [
      "\n",
      " 67%|██████▋   | 12/18 [2:45:12<1:44:12, 1042.02s/it]\u001b[A"
     ]
    },
    {
     "name": "stdout",
     "output_type": "stream",
     "text": [
      "█\r"
     ]
    },
    {
     "name": "stderr",
     "output_type": "stream",
     "text": [
      "\n",
      " 72%|███████▏  | 13/18 [3:00:31<1:23:44, 1004.96s/it]\u001b[A"
     ]
    },
    {
     "name": "stdout",
     "output_type": "stream",
     "text": [
      "█\r"
     ]
    },
    {
     "name": "stderr",
     "output_type": "stream",
     "text": [
      "\n",
      " 78%|███████▊  | 14/18 [3:15:47<1:05:14, 978.52s/it] \u001b[A"
     ]
    },
    {
     "name": "stdout",
     "output_type": "stream",
     "text": [
      "█\r"
     ]
    },
    {
     "name": "stderr",
     "output_type": "stream",
     "text": [
      "\n",
      " 83%|████████▎ | 15/18 [3:35:47<52:14, 1044.99s/it] \u001b[A"
     ]
    },
    {
     "name": "stdout",
     "output_type": "stream",
     "text": [
      "█\r"
     ]
    },
    {
     "name": "stderr",
     "output_type": "stream",
     "text": [
      "\n",
      " 89%|████████▉ | 16/18 [3:55:39<36:18, 1089.11s/it]\u001b[A"
     ]
    },
    {
     "name": "stdout",
     "output_type": "stream",
     "text": [
      "█\r"
     ]
    },
    {
     "name": "stderr",
     "output_type": "stream",
     "text": [
      "\n",
      " 94%|█████████▍| 17/18 [4:19:16<19:47, 1187.21s/it]\u001b[A"
     ]
    },
    {
     "name": "stdout",
     "output_type": "stream",
     "text": [
      "█\r"
     ]
    },
    {
     "name": "stderr",
     "output_type": "stream",
     "text": [
      "\n",
      "100%|██████████| 18/18 [4:43:16<00:00, 944.24s/it] \u001b[A\n"
     ]
    },
    {
     "data": {
      "text/html": [
       "<table border=\"1\" class=\"dataframe\">\n",
       "  <thead>\n",
       "    <tr style=\"text-align: left;\">\n",
       "      <th>epoch</th>\n",
       "      <th>train_loss</th>\n",
       "      <th>valid_loss</th>\n",
       "      <th>acc</th>\n",
       "      <th>dice</th>\n",
       "      <th>iou</th>\n",
       "      <th>time</th>\n",
       "    </tr>\n",
       "  </thead>\n",
       "  <tbody>\n",
       "    <tr>\n",
       "      <td>0</td>\n",
       "      <td>0.232944</td>\n",
       "      <td>0.109097</td>\n",
       "      <td>0.946056</td>\n",
       "      <td>0.892640</td>\n",
       "      <td>0.819051</td>\n",
       "      <td>00:18</td>\n",
       "    </tr>\n",
       "    <tr>\n",
       "      <td>1</td>\n",
       "      <td>0.131544</td>\n",
       "      <td>0.060144</td>\n",
       "      <td>0.974024</td>\n",
       "      <td>0.942271</td>\n",
       "      <td>0.895718</td>\n",
       "      <td>00:17</td>\n",
       "    </tr>\n",
       "  </tbody>\n",
       "</table>"
      ],
      "text/plain": [
       "<IPython.core.display.HTML object>"
      ]
     },
     "metadata": {},
     "output_type": "display_data"
    },
    {
     "data": {
      "text/html": [
       "<table border=\"1\" class=\"dataframe\">\n",
       "  <thead>\n",
       "    <tr style=\"text-align: left;\">\n",
       "      <th>epoch</th>\n",
       "      <th>train_loss</th>\n",
       "      <th>valid_loss</th>\n",
       "      <th>acc</th>\n",
       "      <th>dice</th>\n",
       "      <th>iou</th>\n",
       "      <th>time</th>\n",
       "    </tr>\n",
       "  </thead>\n",
       "  <tbody>\n",
       "    <tr>\n",
       "      <td>0</td>\n",
       "      <td>0.082832</td>\n",
       "      <td>0.156206</td>\n",
       "      <td>0.951223</td>\n",
       "      <td>0.903428</td>\n",
       "      <td>0.839400</td>\n",
       "      <td>00:18</td>\n",
       "    </tr>\n",
       "    <tr>\n",
       "      <td>1</td>\n",
       "      <td>0.068399</td>\n",
       "      <td>0.124386</td>\n",
       "      <td>0.954879</td>\n",
       "      <td>0.908860</td>\n",
       "      <td>0.845913</td>\n",
       "      <td>00:18</td>\n",
       "    </tr>\n",
       "    <tr>\n",
       "      <td>2</td>\n",
       "      <td>0.048719</td>\n",
       "      <td>0.053915</td>\n",
       "      <td>0.979603</td>\n",
       "      <td>0.953867</td>\n",
       "      <td>0.914846</td>\n",
       "      <td>00:18</td>\n",
       "    </tr>\n",
       "  </tbody>\n",
       "</table>"
      ],
      "text/plain": [
       "<IPython.core.display.HTML object>"
      ]
     },
     "metadata": {},
     "output_type": "display_data"
    },
    {
     "name": "stderr",
     "output_type": "stream",
     "text": [
      "5it [23:26:47, 16881.43s/it]"
     ]
    },
    {
     "name": "stdout",
     "output_type": "stream",
     "text": [
      "CPU times: user 12h 19min 6s, sys: 3h 15min 10s, total: 15h 34min 17s\n",
      "Wall time: 23h 26min 47s\n"
     ]
    },
    {
     "name": "stderr",
     "output_type": "stream",
     "text": [
      "\n"
     ]
    }
   ],
   "source": [
    "%%time\n",
    "kf = KFold(n_splits=5, shuffle=True, random_state=123)\n",
    "df_best_models = pd.DataFrame(columns=all_params + ['iou', 'wrong_count'])\n",
    "for i, split in tqdm(enumerate(kf.split(all_lectures))):\n",
    "    other_lectures = [all_lectures[index] for index in split[0]]\n",
    "    test_lectures = [all_lectures[index] for index in split[1]]\n",
    "    \n",
    "    # Model selection\n",
    "    df_all = pd.DataFrame(columns=all_params + ['iou', 'wrong_count', 'kfold_split'])\n",
    "    \n",
    "    for train_setting in tqdm(train_settings):\n",
    "        train_params_dict = dict(zip(train_params, train_setting))\n",
    "        for j, split in enumerate(kf.split(other_lectures)):\n",
    "            train_lectures = [other_lectures[index] for index in split[0]]\n",
    "            valid_lectures = [other_lectures[index] for index in split[1]]\n",
    "            valid_frames = [frame for lecture in valid_lectures for frame in all_frames_grouped_by_videos[lecture]]\n",
    "\n",
    "            filtered_by = lambda name: any([lecture in str(name) for lecture in train_lectures + valid_lectures])  \\\n",
    "                            and 'frame' in str(name)\n",
    "            split_by = lambda name: any([lecture in str(name) for lecture in valid_lectures])\n",
    "            \n",
    "            detector = FastAIScreenDetector(train_params=train_params_dict, methods=None, filtered_by=filtered_by,\n",
    "                                        valid_func=split_by, progressbar=False, device='cuda')\n",
    "        \n",
    "            detector.train()\n",
    "            \n",
    "            actuals = [actual_detector.detect(frame) for frame in valid_frames]\n",
    "            sem_preds = detector.semantic_segmentation_batch(valid_frames)\n",
    "            \n",
    "            for i, method_setting in enumerate(method_settings):    \n",
    "                preds = detector.post_processing_batch(sem_preds, valid_frames, dict(zip(method_params, method_setting)))\n",
    "                wrong_count, ious, _ = evaluate(actuals, preds)\n",
    "                \n",
    "                iou_score = np.nanmean(ious)\n",
    "                wrong_count = len(wrong_count)\n",
    "                df_all.loc[len(df_all)] = train_setting + method_setting + (iou_score, wrong_count, j)\n",
    "    \n",
    "    unhashable_columns = ['frozen_lr', 'unfrozen_lr', 'base_factors', 'erode_dilate_factors']\n",
    "    df_all[unhashable_columns] = df_all[unhashable_columns].astype(str)\n",
    "    df_all['wrong_count'] = df_all['wrong_count'].astype(int)\n",
    "    \n",
    "    best_params = df_all.groupby(train_params + method_params).mean().sort_values(by=['wrong_count', 'iou']).iloc[0].name\n",
    "    converted_params = []\n",
    "    for i, par in enumerate(best_params):\n",
    "        if isinstance(par, np.int64) or isinstance(par, np.float64):\n",
    "            converted_params.append(par.item())\n",
    "        else:\n",
    "            converted_params.append(par)\n",
    "    best_params = tuple(converted_params)\n",
    "    \n",
    "    best_methods = dict(zip(method_params, best_params[-len(method_params):]))\n",
    "    best_train_params_dict = dict(zip(train_params, best_params[:len(train_params)]))\n",
    "    best_train_params_dict['frozen_lr'] = eval(best_train_params_dict['frozen_lr'])\n",
    "    best_train_params_dict['unfrozen_lr'] = eval(best_train_params_dict['unfrozen_lr'])\n",
    "    best_methods['base_factors'] = eval(best_methods['base_factors'])\n",
    "    best_methods['erode_dilate_factors'] = eval(best_methods['erode_dilate_factors'])\n",
    "    \n",
    "    \n",
    "    filtered_by = lambda name: 'frame' in str(name)\n",
    "    split_by = lambda name: any([lecture in str(name) for lecture in test_lectures])\n",
    "    \n",
    "    best_detector = FastAIScreenDetector(train_params=best_train_params_dict, methods=best_methods, \n",
    "                                         filtered_by=filtered_by, valid_func=split_by, progressbar=True, device='cuda')\n",
    "    best_detector.train()\n",
    "\n",
    "    actuals = [actual_detector.detect(frame) for frame in valid_frames]\n",
    "    preds = [best_detector.detect(frame) for frame in valid_frames]\n",
    "    wrong_count, iou, _ = evaluate(actuals, preds)\n",
    "    iou_score = np.nanmean(ious)\n",
    "    wrong_count = len(wrong_count)\n",
    "    df_best_models.loc[len(df_best_models)] = train_setting + method_setting + (iou_score, wrong_count)\n",
    "    df_best_models.to_csv('cross_validation_results.csv', index=False)\n",
    "df_best_models.to_csv('cross_validation_results.csv')"
   ]
  }
 ],
 "metadata": {
  "kernelspec": {
   "display_name": "Python 3",
   "language": "python",
   "name": "python3"
  },
  "language_info": {
   "codemirror_mode": {
    "name": "ipython",
    "version": 3
   },
   "file_extension": ".py",
   "mimetype": "text/x-python",
   "name": "python",
   "nbconvert_exporter": "python",
   "pygments_lexer": "ipython3",
   "version": "3.7.6"
  }
 },
 "nbformat": 4,
 "nbformat_minor": 4
}
