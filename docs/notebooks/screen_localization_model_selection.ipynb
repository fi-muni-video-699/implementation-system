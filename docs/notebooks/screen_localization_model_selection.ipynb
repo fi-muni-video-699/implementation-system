{
 "cells": [
  {
   "cell_type": "code",
   "execution_count": null,
   "metadata": {
    "colab": {
     "base_uri": "https://localhost:8080/",
     "height": 990
    },
    "colab_type": "code",
    "id": "dTSNs4D-YCX4",
    "outputId": "1aa1d720-639a-4874-802e-0d8a6a9e2bfa"
   },
   "outputs": [],
   "source": [
    "%%time\n",
    "\n",
    "from functools import partial\n",
    "from collections import defaultdict, namedtuple\n",
    "import numpy as np\n",
    "import pandas as pd\n",
    "import scipy\n",
    "from sklearn.model_selection import KFold\n",
    "from tqdm.notebook import tqdm\n",
    "from itertools import product\n",
    "\n",
    "from video699.screen.semantic_segmentation.fastai_detector import *\n",
    "from video699.screen.semantic_segmentation.common import *\n",
    "from video699.screen.semantic_segmentation.postprocessing import *\n",
    "from video699.screen.semantic_segmentation.evaluation import *"
   ]
  },
  {
   "cell_type": "code",
   "execution_count": null,
   "metadata": {
    "colab": {},
    "colab_type": "code",
    "id": "6mFt_2PfYiU8"
   },
   "outputs": [],
   "source": [
    "detector = FastAIScreenDetector()\n",
    "method_params = list(detector.methods.keys())\n",
    "train_params = list(detector.train_params.keys())\n",
    "all_params = train_params + method_params\n",
    "\n",
    "# MODEL PARAMETERS\n",
    "\n",
    "batch_size = [8]\n",
    "resize_factor = [2]\n",
    "frozen_epochs = [6]\n",
    "unfrozen_epochs = [7]\n",
    "frozen_lr = [1e-3]\n",
    "unfrozen_lr = [slice(1e-4, 2e-4)]\n",
    "\n",
    "train_params_values = [batch_size] + [resize_factor] + [frozen_epochs] + [unfrozen_epochs] + [frozen_lr] + [unfrozen_lr]\n",
    "\n",
    "# POST PROCESSING PARAMETERS\n",
    "base = [True]\n",
    "base_lower_bounds = [5, 7, 10]\n",
    "base_upper_bounds = [40, 50, 60]\n",
    "base_factors = [[0.1, 0.01]]\n",
    "\n",
    "erode_dilate = [True]\n",
    "erode_dilate_lower_bounds = [5]\n",
    "erode_dilate_upper_bounds = [40]\n",
    "erode_dilate_factors = [[0.1, 0.01]]\n",
    "erode_dilate_iterations = [40, 100]\n",
    "\n",
    "ratio_split = [True]\n",
    "ratio_split_lower_bounds = [0.7, 0.9]\n",
    "ratio_split_upper_bounds = [1.5]\n",
    "\n",
    "methods_values = [base] + [erode_dilate] + [ratio_split] + [base_lower_bounds] + [base_upper_bounds] \\\n",
    "        + [base_factors] + [erode_dilate_lower_bounds] + [erode_dilate_upper_bounds] + [erode_dilate_factors] \\\n",
    "        + [erode_dilate_iterations] + [ratio_split_lower_bounds] + [ratio_split_upper_bounds]"
   ]
  },
  {
   "cell_type": "code",
   "execution_count": null,
   "metadata": {
    "colab": {},
    "colab_type": "code",
    "id": "Mm-VLP10criJ"
   },
   "outputs": [],
   "source": [
    "method_settings = list(product(*methods_values))\n",
    "train_settings = list(product(*train_params_values))\n",
    "all_lectures = [video.filename for video in ALL_VIDEOS]\n",
    "all_frames = [frame for video in ALL_VIDEOS for frame in video]\n",
    "all_frames_grouped_by_videos = {video.filename: [frame for frame in video] for video in ALL_VIDEOS}\n",
    "test_lectures = ['PB069-D2-20140305.mp4']\n",
    "test_frames = [frame for lecture in test_lectures for frame in all_frames_grouped_by_videos[lecture]]\n",
    "actual_detector = AnnotatedSampledVideoScreenDetector()"
   ]
  },
  {
   "cell_type": "code",
   "execution_count": null,
   "metadata": {
    "colab": {},
    "colab_type": "code",
    "id": "O9RuE8mIwVgh"
   },
   "outputs": [],
   "source": [
    "Split = namedtuple('Split', ['train', 'valid'])\n",
    "kf = KFold(n_splits=5, shuffle=True, random_state=123)\n",
    "splits = {}\n",
    "for j, split in enumerate(kf.split(all_lectures)):    \n",
    "    train_lectures = [all_lectures[index] for index in split[0]]\n",
    "    valid_lectures = [all_lectures[index] for index in split[1]]\n",
    "    valid_frames = [frame for lecture in valid_lectures for frame in all_frames_grouped_by_videos[lecture]]\n",
    "    splits[j] = Split(train=train_lectures, valid=valid_lectures)"
   ]
  },
  {
   "cell_type": "code",
   "execution_count": null,
   "metadata": {
    "colab": {
     "base_uri": "https://localhost:8080/",
     "height": 547,
     "referenced_widgets": [
      "1ee90e6c6fac44d3ac7f1380512b4f5a",
      "6770cda89cdc44cfab331bec39fde924",
      "b157a18af5524744913e20afe42984dd",
      "f9b5091bd60b4cf08e3e5b4bc1ef94e6",
      "2d3b732e92f74a3982896fa5b3006f68",
      "a4a3c3f4c0ff4843ba5bb34fb5e8da21",
      "fd1f3a86603846ebab1976e6b11f2e84",
      "11ac3fd1eb5b49ab8f7898101defc615"
     ]
    },
    "colab_type": "code",
    "id": "w6YqRWescrp1",
    "outputId": "61939b6e-258c-4a23-b322-7ec1fbde6516"
   },
   "outputs": [],
   "source": [
    "%%time\n",
    "# Model selection\n",
    "method_settings = list(product(*methods_values))\n",
    "train_settings = list(product(*train_params_values))\n",
    "df_all = pd.DataFrame(columns=all_params + ['iou', 'wrong_count', 'kfold_split'])\n",
    "\n",
    "for train_setting in tqdm(train_settings):\n",
    "    train_params_dict = dict(zip(train_params, train_setting))\n",
    "    for i in splits.keys():\n",
    "        train_lectures = splits[i].train\n",
    "        valid_lectures = splits[i].valid\n",
    "        valid_frames = [frame for lecture in valid_lectures for frame in all_frames_grouped_by_videos[lecture]]\n",
    "\n",
    "        filtered_by = lambda name: any([lecture in str(name) for lecture in train_lectures + valid_lectures])  \\\n",
    "                        and 'frame' in str(name)\n",
    "        split_by = lambda name: any([lecture in str(name) for lecture in valid_lectures])\n",
    "        \n",
    "        detector = FastAIScreenDetector(train_params=train_params_dict, methods=None, filtered_by=filtered_by,\n",
    "                                    valid_func=split_by, device='cuda')\n",
    "    \n",
    "        detector.train()\n",
    "        \n",
    "        actuals = [actual_detector.detect(frame) for frame in valid_frames]\n",
    "        sem_preds = detector.semantic_segmentation_batch(valid_frames)\n",
    "        \n",
    "        print(f\"Iterating through {len(method_settings)} methods in split {j}.\")    \n",
    "        for i, method_setting in enumerate(method_settings):    \n",
    "            preds = detector.post_processing_batch(sem_preds, valid_frames, dict(zip(method_params, method_setting)))\n",
    "            wrong_count, ious, _ = evaluate(actuals, preds)\n",
    "            \n",
    "            iou_score = np.nanmean(ious)\n",
    "            wrong_count = len(wrong_count)\n",
    "            df_all.loc[len(df_all)] = train_setting + method_setting + (iou_score, wrong_count, j)"
   ]
  },
  {
   "cell_type": "code",
   "execution_count": null,
   "metadata": {
    "colab": {},
    "colab_type": "code",
    "id": "Rnm5Uys789dr"
   },
   "outputs": [],
   "source": [
    "df_all.to_csv(\"model_selection.csv\")"
   ]
  }
 ],
 "metadata": {
  "accelerator": "GPU",
  "colab": {
   "name": "model_selection.ipynb",
   "provenance": []
  },
  "kernelspec": {
   "display_name": "Python 3",
   "language": "python",
   "name": "python3"
  },
  "language_info": {
   "codemirror_mode": {
    "name": "ipython",
    "version": 3
   },
   "file_extension": ".py",
   "mimetype": "text/x-python",
   "name": "python",
   "nbconvert_exporter": "python",
   "pygments_lexer": "ipython3",
   "version": "3.7.6"
  },
  "widgets": {
   "application/vnd.jupyter.widget-state+json": {
    "11ac3fd1eb5b49ab8f7898101defc615": {
     "model_module": "@jupyter-widgets/base",
     "model_name": "LayoutModel",
     "state": {
      "_model_module": "@jupyter-widgets/base",
      "_model_module_version": "1.2.0",
      "_model_name": "LayoutModel",
      "_view_count": null,
      "_view_module": "@jupyter-widgets/base",
      "_view_module_version": "1.2.0",
      "_view_name": "LayoutView",
      "align_content": null,
      "align_items": null,
      "align_self": null,
      "border": null,
      "bottom": null,
      "display": null,
      "flex": null,
      "flex_flow": null,
      "grid_area": null,
      "grid_auto_columns": null,
      "grid_auto_flow": null,
      "grid_auto_rows": null,
      "grid_column": null,
      "grid_gap": null,
      "grid_row": null,
      "grid_template_areas": null,
      "grid_template_columns": null,
      "grid_template_rows": null,
      "height": null,
      "justify_content": null,
      "justify_items": null,
      "left": null,
      "margin": null,
      "max_height": null,
      "max_width": null,
      "min_height": null,
      "min_width": null,
      "object_fit": null,
      "object_position": null,
      "order": null,
      "overflow": null,
      "overflow_x": null,
      "overflow_y": null,
      "padding": null,
      "right": null,
      "top": null,
      "visibility": null,
      "width": null
     }
    },
    "1ee90e6c6fac44d3ac7f1380512b4f5a": {
     "model_module": "@jupyter-widgets/controls",
     "model_name": "HBoxModel",
     "state": {
      "_dom_classes": [],
      "_model_module": "@jupyter-widgets/controls",
      "_model_module_version": "1.5.0",
      "_model_name": "HBoxModel",
      "_view_count": null,
      "_view_module": "@jupyter-widgets/controls",
      "_view_module_version": "1.5.0",
      "_view_name": "HBoxView",
      "box_style": "",
      "children": [
       "IPY_MODEL_b157a18af5524744913e20afe42984dd",
       "IPY_MODEL_f9b5091bd60b4cf08e3e5b4bc1ef94e6"
      ],
      "layout": "IPY_MODEL_6770cda89cdc44cfab331bec39fde924"
     }
    },
    "2d3b732e92f74a3982896fa5b3006f68": {
     "model_module": "@jupyter-widgets/controls",
     "model_name": "ProgressStyleModel",
     "state": {
      "_model_module": "@jupyter-widgets/controls",
      "_model_module_version": "1.5.0",
      "_model_name": "ProgressStyleModel",
      "_view_count": null,
      "_view_module": "@jupyter-widgets/base",
      "_view_module_version": "1.2.0",
      "_view_name": "StyleView",
      "bar_color": null,
      "description_width": "initial"
     }
    },
    "6770cda89cdc44cfab331bec39fde924": {
     "model_module": "@jupyter-widgets/base",
     "model_name": "LayoutModel",
     "state": {
      "_model_module": "@jupyter-widgets/base",
      "_model_module_version": "1.2.0",
      "_model_name": "LayoutModel",
      "_view_count": null,
      "_view_module": "@jupyter-widgets/base",
      "_view_module_version": "1.2.0",
      "_view_name": "LayoutView",
      "align_content": null,
      "align_items": null,
      "align_self": null,
      "border": null,
      "bottom": null,
      "display": null,
      "flex": null,
      "flex_flow": null,
      "grid_area": null,
      "grid_auto_columns": null,
      "grid_auto_flow": null,
      "grid_auto_rows": null,
      "grid_column": null,
      "grid_gap": null,
      "grid_row": null,
      "grid_template_areas": null,
      "grid_template_columns": null,
      "grid_template_rows": null,
      "height": null,
      "justify_content": null,
      "justify_items": null,
      "left": null,
      "margin": null,
      "max_height": null,
      "max_width": null,
      "min_height": null,
      "min_width": null,
      "object_fit": null,
      "object_position": null,
      "order": null,
      "overflow": null,
      "overflow_x": null,
      "overflow_y": null,
      "padding": null,
      "right": null,
      "top": null,
      "visibility": null,
      "width": null
     }
    },
    "a4a3c3f4c0ff4843ba5bb34fb5e8da21": {
     "model_module": "@jupyter-widgets/base",
     "model_name": "LayoutModel",
     "state": {
      "_model_module": "@jupyter-widgets/base",
      "_model_module_version": "1.2.0",
      "_model_name": "LayoutModel",
      "_view_count": null,
      "_view_module": "@jupyter-widgets/base",
      "_view_module_version": "1.2.0",
      "_view_name": "LayoutView",
      "align_content": null,
      "align_items": null,
      "align_self": null,
      "border": null,
      "bottom": null,
      "display": null,
      "flex": null,
      "flex_flow": null,
      "grid_area": null,
      "grid_auto_columns": null,
      "grid_auto_flow": null,
      "grid_auto_rows": null,
      "grid_column": null,
      "grid_gap": null,
      "grid_row": null,
      "grid_template_areas": null,
      "grid_template_columns": null,
      "grid_template_rows": null,
      "height": null,
      "justify_content": null,
      "justify_items": null,
      "left": null,
      "margin": null,
      "max_height": null,
      "max_width": null,
      "min_height": null,
      "min_width": null,
      "object_fit": null,
      "object_position": null,
      "order": null,
      "overflow": null,
      "overflow_x": null,
      "overflow_y": null,
      "padding": null,
      "right": null,
      "top": null,
      "visibility": null,
      "width": null
     }
    },
    "b157a18af5524744913e20afe42984dd": {
     "model_module": "@jupyter-widgets/controls",
     "model_name": "IntProgressModel",
     "state": {
      "_dom_classes": [],
      "_model_module": "@jupyter-widgets/controls",
      "_model_module_version": "1.5.0",
      "_model_name": "IntProgressModel",
      "_view_count": null,
      "_view_module": "@jupyter-widgets/controls",
      "_view_module_version": "1.5.0",
      "_view_name": "ProgressView",
      "bar_style": "success",
      "description": "100%",
      "description_tooltip": null,
      "layout": "IPY_MODEL_a4a3c3f4c0ff4843ba5bb34fb5e8da21",
      "max": 46827520,
      "min": 0,
      "orientation": "horizontal",
      "style": "IPY_MODEL_2d3b732e92f74a3982896fa5b3006f68",
      "value": 46827520
     }
    },
    "f9b5091bd60b4cf08e3e5b4bc1ef94e6": {
     "model_module": "@jupyter-widgets/controls",
     "model_name": "HTMLModel",
     "state": {
      "_dom_classes": [],
      "_model_module": "@jupyter-widgets/controls",
      "_model_module_version": "1.5.0",
      "_model_name": "HTMLModel",
      "_view_count": null,
      "_view_module": "@jupyter-widgets/controls",
      "_view_module_version": "1.5.0",
      "_view_name": "HTMLView",
      "description": "",
      "description_tooltip": null,
      "layout": "IPY_MODEL_11ac3fd1eb5b49ab8f7898101defc615",
      "placeholder": "​",
      "style": "IPY_MODEL_fd1f3a86603846ebab1976e6b11f2e84",
      "value": " 44.7M/44.7M [00:14&lt;00:00, 3.32MB/s]"
     }
    },
    "fd1f3a86603846ebab1976e6b11f2e84": {
     "model_module": "@jupyter-widgets/controls",
     "model_name": "DescriptionStyleModel",
     "state": {
      "_model_module": "@jupyter-widgets/controls",
      "_model_module_version": "1.5.0",
      "_model_name": "DescriptionStyleModel",
      "_view_count": null,
      "_view_module": "@jupyter-widgets/base",
      "_view_module_version": "1.2.0",
      "_view_name": "StyleView",
      "description_width": ""
     }
    }
   }
  }
 },
 "nbformat": 4,
 "nbformat_minor": 1
}
