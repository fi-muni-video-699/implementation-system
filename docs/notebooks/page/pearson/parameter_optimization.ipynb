{
 "cells": [
  {
   "cell_type": "markdown",
   "metadata": {},
   "source": [
    "## Optimizing `significance_level`, `correlation_threshold`, `use_homography`, `num_features`, `good_match_percentage` parameters of `RollingPearsonPageDetector`"
   ]
  },
  {
   "cell_type": "code",
   "execution_count": null,
   "metadata": {},
   "outputs": [],
   "source": [
    "from itertools import product\n",
    "\n",
    "from video699.configuration import get_configuration\n",
    "from video699.video.annotated import (\n",
    "    AnnotatedSampledVideoScreenDetector,\n",
    "    evaluate_event_detector,\n",
    "    get_videos,\n",
    ")\n",
    "from video699.page.pearson import RollingPearsonPageDetector\n",
    "from video699.quadrangle.rtree import RTreeDequeConvexQuadrangleTracker\n",
    "from video699.event.screen import ScreenEventDetector\n",
    "\n",
    "import numpy as np\n",
    "\n",
    "\n",
    "CONFIGURATION = get_configuration()['RollingPearsonPageDetector']"
   ]
  },
  {
   "cell_type": "code",
   "execution_count": null,
   "metadata": {},
   "outputs": [],
   "source": [
    "def accuracy(significance_level, correlation_threshold, use_homography, num_features, good_match_percentage):\n",
    "    CONFIGURATION['significance_level'] = str(significance_level)\n",
    "    CONFIGURATION['correlation_threshold'] = str(correlation_threshold)\n",
    "    CONFIGURATION['use_homography'] = str(use_homography)\n",
    "    CONFIGURATION['num_features'] = str(num_features)\n",
    "    CONFIGURATION['good_match_percentage'] = str(good_match_percentage)\n",
    "    num_successes_total = 0\n",
    "    num_trials_total = 0\n",
    "    for annotated_video in get_videos().values():\n",
    "        convex_quadrangle_tracker = RTreeDequeConvexQuadrangleTracker(2)\n",
    "        screen_detector = AnnotatedSampledVideoScreenDetector()\n",
    "        documents = annotated_video.documents.values()\n",
    "        page_detector = RollingPearsonPageDetector(documents)\n",
    "        screen_event_detector = ScreenEventDetector(\n",
    "            annotated_video,\n",
    "            convex_quadrangle_tracker,\n",
    "            screen_detector,\n",
    "            page_detector\n",
    "        )\n",
    "        num_successes, num_trials = evaluate_event_detector(annotated_video, screen_event_detector)\n",
    "        num_successes_total += num_successes\n",
    "        num_trials_total += num_trials\n",
    "    accuracy = 1.0 * num_successes_total / num_trials_total\n",
    "    return accuracy"
   ]
  },
  {
   "cell_type": "code",
   "execution_count": null,
   "metadata": {},
   "outputs": [],
   "source": [
    "%%time\n",
    "significance_levels = [0.01, 0.05, 0.1]\n",
    "correlation_thresholds = np.linspace(0.0, 1.0, num=10)\n",
    "uses_homography = [True, False]\n",
    "nums_features = [5, 10, 20, 40, 80, 160, 320, 640, 1280]\n",
    "good_match_percentages = np.linspace(0.0, 1.0, num=10)\n",
    "\n",
    "parameters = []\n",
    "for significance_level in significance_levels:\n",
    "    for correlation_threshold in correlation_thresholds:\n",
    "        for use_homography in uses_homography:\n",
    "            for num_features in nums_features if use_homography else [nums_features[0]]:\n",
    "                for good_match_percentage in good_match_percentages if use_homography else [good_match_percentages[0]]:\n",
    "                    parameter = (significance_level, correlation_threshold, use_homography, num_features, good_match_percentage)\n",
    "                    parameters.append(parameter)\n",
    "accuracies = [accuracy(*parameter) for parameter in parameters]\n",
    "\n",
    "best_accuracy, (\n",
    "    best_significance_level,\n",
    "    best_correlation_threshold,\n",
    "    best_use_homography,\n",
    "    best_num_features,\n",
    "    best_good_match_percentage,\n",
    ") = max(zip(accuracies, parameters))\n",
    "print('Optimal parameters (accuracy {}):'.format(best_accuracy))\n",
    "print('- significance_level:    {}'.format(best_significance_level))\n",
    "print('- correlation_threshold: {}'.format(best_correlation_threshold))\n",
    "print('- use_homography:        {}'.format(best_use_homography))\n",
    "if best_use_homography:\n",
    "    print('- num_features:          {}'.format(best_num_features))\n",
    "    print('- good_match_percentage: {}'.format(best_good_match_percentage))"
   ]
  }
 ],
 "metadata": {
  "kernelspec": {
   "display_name": "Python 3",
   "language": "python",
   "name": "python3"
  },
  "language_info": {
   "codemirror_mode": {
    "name": "ipython",
    "version": 3
   },
   "file_extension": ".py",
   "mimetype": "text/x-python",
   "name": "python",
   "nbconvert_exporter": "python",
   "pygments_lexer": "ipython3",
   "version": "3.7.3"
  }
 },
 "nbformat": 4,
 "nbformat_minor": 4
}
