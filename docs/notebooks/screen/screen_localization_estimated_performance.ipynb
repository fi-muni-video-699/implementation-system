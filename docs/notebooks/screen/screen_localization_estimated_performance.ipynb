{
 "cells": [
  {
   "cell_type": "code",
   "execution_count": 1,
   "metadata": {},
   "outputs": [
    {
     "name": "stdout",
     "output_type": "stream",
     "text": [
      "CPU times: user 5.9 s, sys: 1.14 s, total: 7.03 s\n",
      "Wall time: 19.9 s\n"
     ]
    }
   ],
   "source": [
    "%%time\n",
    "from functools import partial\n",
    "from collections import defaultdict\n",
    "import numpy as np\n",
    "import pandas as pd\n",
    "import scipy\n",
    "from sklearn.model_selection import KFold\n",
    "from tqdm.notebook import tqdm\n",
    "from itertools import product\n",
    "import time\n",
    "\n",
    "from video699.screen.semantic_segmentation.fastai_detector import *\n",
    "from video699.screen.semantic_segmentation.common import *\n",
    "from video699.screen.semantic_segmentation.postprocessing import *\n",
    "from video699.screen.semantic_segmentation.evaluation import *"
   ]
  },
  {
   "cell_type": "code",
   "execution_count": 2,
   "metadata": {},
   "outputs": [],
   "source": [
    "detector = FastAIScreenDetector()\n",
    "method_params = list(detector.methods.keys())\n",
    "train_params = list(detector.train_params.keys())\n",
    "all_params = train_params + method_params\n",
    "\n",
    "base = [True]\n",
    "base_lower_bounds = [7, 10]\n",
    "base_upper_bounds = [30, 40, 50, 60, 70]\n",
    "base_factors = [[0.1, 0.01]]\n",
    "\n",
    "erode_dilate = [True]\n",
    "erode_dilate_lower_bounds = [5]\n",
    "erode_dilate_upper_bounds = [40]\n",
    "erode_dilate_factors = [[0.1, 0.01]]\n",
    "erode_dilate_iterations = [40, 100]\n",
    "\n",
    "ratio_split = [True]\n",
    "ratio_split_lower_bounds = [0.7, 0.9]\n",
    "ratio_split_upper_bounds = [1.5]\n",
    "\n",
    "methods_values = [base] + [erode_dilate] + [ratio_split] + [base_lower_bounds] + [base_upper_bounds] \\\n",
    "        + [base_factors] + [erode_dilate_lower_bounds] + [erode_dilate_upper_bounds] + [erode_dilate_factors] \\\n",
    "        + [erode_dilate_iterations] + [ratio_split_lower_bounds] + [ratio_split_upper_bounds]\n",
    "\n",
    "batch_size = [8]\n",
    "resize_factor = [2]\n",
    "frozen_epochs = [2, 6, 9]\n",
    "unfrozen_epochs = [3, 7, 10]\n",
    "frozen_lr = [1e-3]\n",
    "unfrozen_lr = [slice(1e-4, 2e-4)]\n",
    "\n",
    "train_params_values = [batch_size] + [resize_factor] + [frozen_epochs] + [unfrozen_epochs] + [frozen_lr] + [unfrozen_lr]"
   ]
  },
  {
   "cell_type": "code",
   "execution_count": 3,
   "metadata": {},
   "outputs": [],
   "source": [
    "method_settings = list(product(*methods_values))\n",
    "train_settings = list(product(*train_params_values))\n",
    "all_lectures = [video.filename for video in ALL_VIDEOS]\n",
    "all_frames = [frame for video in ALL_VIDEOS for frame in video]\n",
    "all_frames_grouped_by_videos = {video.filename: [frame for frame in video] for video in ALL_VIDEOS}\n",
    "test_lectures = ['PB069-D2-20140305.mp4']\n",
    "test_frames = [frame for lecture in test_lectures for frame in all_frames_grouped_by_videos[lecture]]\n",
    "actual_detector = AnnotatedSampledVideoScreenDetector()"
   ]
  },
  {
   "cell_type": "code",
   "execution_count": 4,
   "metadata": {},
   "outputs": [
    {
     "name": "stderr",
     "output_type": "stream",
     "text": [
      "0it [00:00, ?it/s]\n",
      "  0%|          | 0/9 [00:00<?, ?it/s]\u001b[A"
     ]
    },
    {
     "name": "stdout",
     "output_type": "stream",
     "text": [
      "█\r"
     ]
    },
    {
     "name": "stderr",
     "output_type": "stream",
     "text": [
      "\n",
      " 11%|█         | 1/9 [07:40<1:01:24, 460.55s/it]\u001b[A"
     ]
    },
    {
     "name": "stdout",
     "output_type": "stream",
     "text": [
      "█\r"
     ]
    },
    {
     "name": "stderr",
     "output_type": "stream",
     "text": [
      "\n",
      " 22%|██▏       | 2/9 [19:33<1:02:34, 536.30s/it]\u001b[A"
     ]
    },
    {
     "name": "stdout",
     "output_type": "stream",
     "text": [
      "█\r"
     ]
    },
    {
     "name": "stderr",
     "output_type": "stream",
     "text": [
      "\n",
      " 33%|███▎      | 3/9 [34:46<1:04:55, 649.25s/it]\u001b[A"
     ]
    },
    {
     "name": "stdout",
     "output_type": "stream",
     "text": [
      "█\r"
     ]
    },
    {
     "name": "stderr",
     "output_type": "stream",
     "text": [
      "\n",
      " 44%|████▍     | 4/9 [46:45<55:51, 670.21s/it]  \u001b[A"
     ]
    },
    {
     "name": "stdout",
     "output_type": "stream",
     "text": [
      "█\r"
     ]
    },
    {
     "name": "stderr",
     "output_type": "stream",
     "text": [
      "\n",
      " 56%|█████▌    | 5/9 [1:03:21<51:12, 768.01s/it]\u001b[A"
     ]
    },
    {
     "name": "stdout",
     "output_type": "stream",
     "text": [
      "█\r"
     ]
    },
    {
     "name": "stderr",
     "output_type": "stream",
     "text": [
      "\n",
      " 67%|██████▋   | 6/9 [1:23:22<44:53, 897.76s/it]\u001b[A"
     ]
    },
    {
     "name": "stdout",
     "output_type": "stream",
     "text": [
      "█\r"
     ]
    },
    {
     "name": "stderr",
     "output_type": "stream",
     "text": [
      "\n",
      " 78%|███████▊  | 7/9 [1:38:44<30:09, 904.98s/it]\u001b[A"
     ]
    },
    {
     "name": "stdout",
     "output_type": "stream",
     "text": [
      "█\r"
     ]
    },
    {
     "name": "stderr",
     "output_type": "stream",
     "text": [
      "\n",
      " 89%|████████▉ | 8/9 [1:58:34<16:30, 990.68s/it]\u001b[A"
     ]
    },
    {
     "name": "stdout",
     "output_type": "stream",
     "text": [
      "█\r"
     ]
    },
    {
     "name": "stderr",
     "output_type": "stream",
     "text": [
      "\n",
      "100%|██████████| 9/9 [2:21:31<00:00, 943.48s/it] \u001b[A\n"
     ]
    },
    {
     "data": {
      "text/html": [
       "<table border=\"1\" class=\"dataframe\">\n",
       "  <thead>\n",
       "    <tr style=\"text-align: left;\">\n",
       "      <th>epoch</th>\n",
       "      <th>train_loss</th>\n",
       "      <th>valid_loss</th>\n",
       "      <th>acc</th>\n",
       "      <th>dice</th>\n",
       "      <th>iou</th>\n",
       "      <th>time</th>\n",
       "    </tr>\n",
       "  </thead>\n",
       "  <tbody>\n",
       "    <tr>\n",
       "      <td>0</td>\n",
       "      <td>0.276048</td>\n",
       "      <td>0.188290</td>\n",
       "      <td>0.951700</td>\n",
       "      <td>0.883129</td>\n",
       "      <td>0.815287</td>\n",
       "      <td>00:19</td>\n",
       "    </tr>\n",
       "    <tr>\n",
       "      <td>1</td>\n",
       "      <td>0.213969</td>\n",
       "      <td>0.185705</td>\n",
       "      <td>0.936252</td>\n",
       "      <td>0.806059</td>\n",
       "      <td>0.734579</td>\n",
       "      <td>00:16</td>\n",
       "    </tr>\n",
       "  </tbody>\n",
       "</table>"
      ],
      "text/plain": [
       "<IPython.core.display.HTML object>"
      ]
     },
     "metadata": {},
     "output_type": "display_data"
    },
    {
     "data": {
      "text/html": [
       "<table border=\"1\" class=\"dataframe\">\n",
       "  <thead>\n",
       "    <tr style=\"text-align: left;\">\n",
       "      <th>epoch</th>\n",
       "      <th>train_loss</th>\n",
       "      <th>valid_loss</th>\n",
       "      <th>acc</th>\n",
       "      <th>dice</th>\n",
       "      <th>iou</th>\n",
       "      <th>time</th>\n",
       "    </tr>\n",
       "  </thead>\n",
       "  <tbody>\n",
       "    <tr>\n",
       "      <td>0</td>\n",
       "      <td>0.134757</td>\n",
       "      <td>0.145559</td>\n",
       "      <td>0.947237</td>\n",
       "      <td>0.849309</td>\n",
       "      <td>0.779710</td>\n",
       "      <td>00:17</td>\n",
       "    </tr>\n",
       "    <tr>\n",
       "      <td>1</td>\n",
       "      <td>0.082689</td>\n",
       "      <td>0.110258</td>\n",
       "      <td>0.957836</td>\n",
       "      <td>0.898050</td>\n",
       "      <td>0.834278</td>\n",
       "      <td>00:17</td>\n",
       "    </tr>\n",
       "    <tr>\n",
       "      <td>2</td>\n",
       "      <td>0.058024</td>\n",
       "      <td>0.059513</td>\n",
       "      <td>0.976537</td>\n",
       "      <td>0.948460</td>\n",
       "      <td>0.908540</td>\n",
       "      <td>00:16</td>\n",
       "    </tr>\n",
       "  </tbody>\n",
       "</table>"
      ],
      "text/plain": [
       "<IPython.core.display.HTML object>"
      ]
     },
     "metadata": {},
     "output_type": "display_data"
    },
    {
     "name": "stderr",
     "output_type": "stream",
     "text": [
      "1it [2:23:03, 8583.88s/it]\n",
      "  0%|          | 0/9 [00:00<?, ?it/s]\u001b[A"
     ]
    },
    {
     "name": "stdout",
     "output_type": "stream",
     "text": [
      "█\r"
     ]
    },
    {
     "name": "stderr",
     "output_type": "stream",
     "text": [
      "\n",
      " 11%|█         | 1/9 [07:18<58:24, 438.04s/it]\u001b[A"
     ]
    },
    {
     "name": "stdout",
     "output_type": "stream",
     "text": [
      "█\r"
     ]
    },
    {
     "name": "stderr",
     "output_type": "stream",
     "text": [
      "\n",
      " 22%|██▏       | 2/9 [19:08<1:00:37, 519.71s/it]\u001b[A"
     ]
    },
    {
     "name": "stdout",
     "output_type": "stream",
     "text": [
      "█\r"
     ]
    },
    {
     "name": "stderr",
     "output_type": "stream",
     "text": [
      "\n",
      " 33%|███▎      | 3/9 [34:17<1:03:38, 636.49s/it]\u001b[A"
     ]
    },
    {
     "name": "stdout",
     "output_type": "stream",
     "text": [
      "█\r"
     ]
    },
    {
     "name": "stderr",
     "output_type": "stream",
     "text": [
      "\n",
      " 44%|████▍     | 4/9 [45:58<54:39, 655.97s/it]  \u001b[A"
     ]
    },
    {
     "name": "stdout",
     "output_type": "stream",
     "text": [
      "█\r"
     ]
    },
    {
     "name": "stderr",
     "output_type": "stream",
     "text": [
      "\n",
      " 56%|█████▌    | 5/9 [1:02:11<50:04, 751.07s/it]\u001b[A"
     ]
    },
    {
     "name": "stdout",
     "output_type": "stream",
     "text": [
      "█\r"
     ]
    },
    {
     "name": "stderr",
     "output_type": "stream",
     "text": [
      "\n",
      " 67%|██████▋   | 6/9 [1:21:47<43:55, 878.39s/it]\u001b[A"
     ]
    },
    {
     "name": "stdout",
     "output_type": "stream",
     "text": [
      "█\r"
     ]
    },
    {
     "name": "stderr",
     "output_type": "stream",
     "text": [
      "\n",
      " 78%|███████▊  | 7/9 [1:36:40<29:26, 883.02s/it]\u001b[A"
     ]
    },
    {
     "name": "stdout",
     "output_type": "stream",
     "text": [
      "█\r"
     ]
    },
    {
     "name": "stderr",
     "output_type": "stream",
     "text": [
      "\n",
      " 89%|████████▉ | 8/9 [1:56:09<16:08, 968.55s/it]\u001b[A"
     ]
    },
    {
     "name": "stdout",
     "output_type": "stream",
     "text": [
      "█\r"
     ]
    },
    {
     "name": "stderr",
     "output_type": "stream",
     "text": [
      "\n",
      "100%|██████████| 9/9 [2:19:07<00:00, 927.47s/it] \u001b[A\n"
     ]
    },
    {
     "data": {
      "text/html": [
       "<table border=\"1\" class=\"dataframe\">\n",
       "  <thead>\n",
       "    <tr style=\"text-align: left;\">\n",
       "      <th>epoch</th>\n",
       "      <th>train_loss</th>\n",
       "      <th>valid_loss</th>\n",
       "      <th>acc</th>\n",
       "      <th>dice</th>\n",
       "      <th>iou</th>\n",
       "      <th>time</th>\n",
       "    </tr>\n",
       "  </thead>\n",
       "  <tbody>\n",
       "    <tr>\n",
       "      <td>0</td>\n",
       "      <td>0.288883</td>\n",
       "      <td>0.176154</td>\n",
       "      <td>0.928801</td>\n",
       "      <td>0.886271</td>\n",
       "      <td>0.798361</td>\n",
       "      <td>00:19</td>\n",
       "    </tr>\n",
       "    <tr>\n",
       "      <td>1</td>\n",
       "      <td>0.148883</td>\n",
       "      <td>0.121931</td>\n",
       "      <td>0.951135</td>\n",
       "      <td>0.916517</td>\n",
       "      <td>0.848964</td>\n",
       "      <td>00:16</td>\n",
       "    </tr>\n",
       "    <tr>\n",
       "      <td>2</td>\n",
       "      <td>0.125821</td>\n",
       "      <td>0.046052</td>\n",
       "      <td>0.982866</td>\n",
       "      <td>0.969636</td>\n",
       "      <td>0.941763</td>\n",
       "      <td>00:16</td>\n",
       "    </tr>\n",
       "    <tr>\n",
       "      <td>3</td>\n",
       "      <td>0.076314</td>\n",
       "      <td>0.023623</td>\n",
       "      <td>0.989430</td>\n",
       "      <td>0.980982</td>\n",
       "      <td>0.962797</td>\n",
       "      <td>00:16</td>\n",
       "    </tr>\n",
       "    <tr>\n",
       "      <td>4</td>\n",
       "      <td>0.050700</td>\n",
       "      <td>0.018960</td>\n",
       "      <td>0.991736</td>\n",
       "      <td>0.985081</td>\n",
       "      <td>0.970684</td>\n",
       "      <td>00:16</td>\n",
       "    </tr>\n",
       "    <tr>\n",
       "      <td>5</td>\n",
       "      <td>0.033555</td>\n",
       "      <td>0.018326</td>\n",
       "      <td>0.992159</td>\n",
       "      <td>0.985309</td>\n",
       "      <td>0.971161</td>\n",
       "      <td>00:16</td>\n",
       "    </tr>\n",
       "  </tbody>\n",
       "</table>"
      ],
      "text/plain": [
       "<IPython.core.display.HTML object>"
      ]
     },
     "metadata": {},
     "output_type": "display_data"
    },
    {
     "data": {
      "text/html": [
       "<table border=\"1\" class=\"dataframe\">\n",
       "  <thead>\n",
       "    <tr style=\"text-align: left;\">\n",
       "      <th>epoch</th>\n",
       "      <th>train_loss</th>\n",
       "      <th>valid_loss</th>\n",
       "      <th>acc</th>\n",
       "      <th>dice</th>\n",
       "      <th>iou</th>\n",
       "      <th>time</th>\n",
       "    </tr>\n",
       "  </thead>\n",
       "  <tbody>\n",
       "    <tr>\n",
       "      <td>0</td>\n",
       "      <td>0.020300</td>\n",
       "      <td>0.022165</td>\n",
       "      <td>0.990598</td>\n",
       "      <td>0.981637</td>\n",
       "      <td>0.964339</td>\n",
       "      <td>00:16</td>\n",
       "    </tr>\n",
       "    <tr>\n",
       "      <td>1</td>\n",
       "      <td>0.026920</td>\n",
       "      <td>0.021192</td>\n",
       "      <td>0.991865</td>\n",
       "      <td>0.985455</td>\n",
       "      <td>0.971450</td>\n",
       "      <td>00:16</td>\n",
       "    </tr>\n",
       "    <tr>\n",
       "      <td>2</td>\n",
       "      <td>0.023910</td>\n",
       "      <td>0.017667</td>\n",
       "      <td>0.992418</td>\n",
       "      <td>0.986198</td>\n",
       "      <td>0.972853</td>\n",
       "      <td>00:16</td>\n",
       "    </tr>\n",
       "    <tr>\n",
       "      <td>3</td>\n",
       "      <td>0.027716</td>\n",
       "      <td>0.048512</td>\n",
       "      <td>0.986876</td>\n",
       "      <td>0.974463</td>\n",
       "      <td>0.950902</td>\n",
       "      <td>00:16</td>\n",
       "    </tr>\n",
       "    <tr>\n",
       "      <td>4</td>\n",
       "      <td>0.021645</td>\n",
       "      <td>0.018773</td>\n",
       "      <td>0.991926</td>\n",
       "      <td>0.985510</td>\n",
       "      <td>0.971510</td>\n",
       "      <td>00:16</td>\n",
       "    </tr>\n",
       "    <tr>\n",
       "      <td>5</td>\n",
       "      <td>0.025183</td>\n",
       "      <td>0.019446</td>\n",
       "      <td>0.992341</td>\n",
       "      <td>0.985320</td>\n",
       "      <td>0.971183</td>\n",
       "      <td>00:16</td>\n",
       "    </tr>\n",
       "    <tr>\n",
       "      <td>6</td>\n",
       "      <td>0.024716</td>\n",
       "      <td>0.014681</td>\n",
       "      <td>0.993899</td>\n",
       "      <td>0.988805</td>\n",
       "      <td>0.977904</td>\n",
       "      <td>00:16</td>\n",
       "    </tr>\n",
       "    <tr>\n",
       "      <td>7</td>\n",
       "      <td>0.016468</td>\n",
       "      <td>0.016065</td>\n",
       "      <td>0.993312</td>\n",
       "      <td>0.987918</td>\n",
       "      <td>0.976162</td>\n",
       "      <td>00:16</td>\n",
       "    </tr>\n",
       "    <tr>\n",
       "      <td>8</td>\n",
       "      <td>0.013915</td>\n",
       "      <td>0.016104</td>\n",
       "      <td>0.993485</td>\n",
       "      <td>0.988132</td>\n",
       "      <td>0.976583</td>\n",
       "      <td>00:16</td>\n",
       "    </tr>\n",
       "    <tr>\n",
       "      <td>9</td>\n",
       "      <td>0.010914</td>\n",
       "      <td>0.017760</td>\n",
       "      <td>0.992915</td>\n",
       "      <td>0.987258</td>\n",
       "      <td>0.974879</td>\n",
       "      <td>00:16</td>\n",
       "    </tr>\n",
       "  </tbody>\n",
       "</table>"
      ],
      "text/plain": [
       "<IPython.core.display.HTML object>"
      ]
     },
     "metadata": {},
     "output_type": "display_data"
    },
    {
     "name": "stderr",
     "output_type": "stream",
     "text": [
      "2it [4:46:48, 8596.10s/it]\n",
      "  0%|          | 0/9 [00:00<?, ?it/s]\u001b[A"
     ]
    },
    {
     "name": "stdout",
     "output_type": "stream",
     "text": [
      "█\r"
     ]
    },
    {
     "name": "stderr",
     "output_type": "stream",
     "text": [
      "\n",
      " 11%|█         | 1/9 [07:37<1:01:03, 457.90s/it]\u001b[A"
     ]
    },
    {
     "name": "stdout",
     "output_type": "stream",
     "text": [
      "█\r"
     ]
    },
    {
     "name": "stderr",
     "output_type": "stream",
     "text": [
      "\n",
      " 22%|██▏       | 2/9 [20:02<1:03:27, 543.87s/it]\u001b[A"
     ]
    },
    {
     "name": "stdout",
     "output_type": "stream",
     "text": [
      "█\r"
     ]
    },
    {
     "name": "stderr",
     "output_type": "stream",
     "text": [
      "\n",
      " 33%|███▎      | 3/9 [35:54<1:06:37, 666.27s/it]\u001b[A"
     ]
    },
    {
     "name": "stdout",
     "output_type": "stream",
     "text": [
      "█\r"
     ]
    },
    {
     "name": "stderr",
     "output_type": "stream",
     "text": [
      "\n",
      " 44%|████▍     | 4/9 [48:12<57:19, 687.82s/it]  \u001b[A"
     ]
    },
    {
     "name": "stdout",
     "output_type": "stream",
     "text": [
      "█\r"
     ]
    },
    {
     "name": "stderr",
     "output_type": "stream",
     "text": [
      "\n",
      " 56%|█████▌    | 5/9 [1:05:23<52:43, 790.83s/it]\u001b[A"
     ]
    },
    {
     "name": "stdout",
     "output_type": "stream",
     "text": [
      "█\r"
     ]
    },
    {
     "name": "stderr",
     "output_type": "stream",
     "text": [
      "\n",
      " 67%|██████▋   | 6/9 [1:26:10<46:22, 927.66s/it]\u001b[A"
     ]
    },
    {
     "name": "stdout",
     "output_type": "stream",
     "text": [
      "█\r"
     ]
    },
    {
     "name": "stderr",
     "output_type": "stream",
     "text": [
      "\n",
      " 78%|███████▊  | 7/9 [1:42:10<31:14, 937.40s/it]\u001b[A"
     ]
    },
    {
     "name": "stdout",
     "output_type": "stream",
     "text": [
      "█\r"
     ]
    },
    {
     "name": "stderr",
     "output_type": "stream",
     "text": [
      "\n",
      " 89%|████████▉ | 8/9 [2:02:54<17:09, 1029.44s/it]\u001b[A"
     ]
    },
    {
     "name": "stdout",
     "output_type": "stream",
     "text": [
      "█\r"
     ]
    },
    {
     "name": "stderr",
     "output_type": "stream",
     "text": [
      "\n",
      "100%|██████████| 9/9 [2:27:19<00:00, 982.19s/it] \u001b[A\n"
     ]
    },
    {
     "data": {
      "text/html": [
       "<table border=\"1\" class=\"dataframe\">\n",
       "  <thead>\n",
       "    <tr style=\"text-align: left;\">\n",
       "      <th>epoch</th>\n",
       "      <th>train_loss</th>\n",
       "      <th>valid_loss</th>\n",
       "      <th>acc</th>\n",
       "      <th>dice</th>\n",
       "      <th>iou</th>\n",
       "      <th>time</th>\n",
       "    </tr>\n",
       "  </thead>\n",
       "  <tbody>\n",
       "    <tr>\n",
       "      <td>0</td>\n",
       "      <td>0.310782</td>\n",
       "      <td>0.121355</td>\n",
       "      <td>0.948854</td>\n",
       "      <td>0.895898</td>\n",
       "      <td>0.817388</td>\n",
       "      <td>00:17</td>\n",
       "    </tr>\n",
       "    <tr>\n",
       "      <td>1</td>\n",
       "      <td>0.161234</td>\n",
       "      <td>0.043402</td>\n",
       "      <td>0.983315</td>\n",
       "      <td>0.967219</td>\n",
       "      <td>0.938411</td>\n",
       "      <td>00:17</td>\n",
       "    </tr>\n",
       "    <tr>\n",
       "      <td>2</td>\n",
       "      <td>0.093186</td>\n",
       "      <td>0.038647</td>\n",
       "      <td>0.987380</td>\n",
       "      <td>0.975257</td>\n",
       "      <td>0.955510</td>\n",
       "      <td>00:17</td>\n",
       "    </tr>\n",
       "    <tr>\n",
       "      <td>3</td>\n",
       "      <td>0.056860</td>\n",
       "      <td>0.029298</td>\n",
       "      <td>0.988633</td>\n",
       "      <td>0.977736</td>\n",
       "      <td>0.958718</td>\n",
       "      <td>00:17</td>\n",
       "    </tr>\n",
       "    <tr>\n",
       "      <td>4</td>\n",
       "      <td>0.039098</td>\n",
       "      <td>0.018202</td>\n",
       "      <td>0.992794</td>\n",
       "      <td>0.985662</td>\n",
       "      <td>0.971914</td>\n",
       "      <td>00:17</td>\n",
       "    </tr>\n",
       "    <tr>\n",
       "      <td>5</td>\n",
       "      <td>0.028582</td>\n",
       "      <td>0.018146</td>\n",
       "      <td>0.992910</td>\n",
       "      <td>0.985873</td>\n",
       "      <td>0.972282</td>\n",
       "      <td>00:17</td>\n",
       "    </tr>\n",
       "  </tbody>\n",
       "</table>"
      ],
      "text/plain": [
       "<IPython.core.display.HTML object>"
      ]
     },
     "metadata": {},
     "output_type": "display_data"
    },
    {
     "data": {
      "text/html": [
       "<table border=\"1\" class=\"dataframe\">\n",
       "  <thead>\n",
       "    <tr style=\"text-align: left;\">\n",
       "      <th>epoch</th>\n",
       "      <th>train_loss</th>\n",
       "      <th>valid_loss</th>\n",
       "      <th>acc</th>\n",
       "      <th>dice</th>\n",
       "      <th>iou</th>\n",
       "      <th>time</th>\n",
       "    </tr>\n",
       "  </thead>\n",
       "  <tbody>\n",
       "    <tr>\n",
       "      <td>0</td>\n",
       "      <td>0.024208</td>\n",
       "      <td>0.028330</td>\n",
       "      <td>0.989141</td>\n",
       "      <td>0.978985</td>\n",
       "      <td>0.961118</td>\n",
       "      <td>00:17</td>\n",
       "    </tr>\n",
       "    <tr>\n",
       "      <td>1</td>\n",
       "      <td>0.018554</td>\n",
       "      <td>0.015262</td>\n",
       "      <td>0.993736</td>\n",
       "      <td>0.987878</td>\n",
       "      <td>0.976115</td>\n",
       "      <td>00:17</td>\n",
       "    </tr>\n",
       "    <tr>\n",
       "      <td>2</td>\n",
       "      <td>0.017293</td>\n",
       "      <td>0.026035</td>\n",
       "      <td>0.991016</td>\n",
       "      <td>0.982874</td>\n",
       "      <td>0.967192</td>\n",
       "      <td>00:17</td>\n",
       "    </tr>\n",
       "  </tbody>\n",
       "</table>"
      ],
      "text/plain": [
       "<IPython.core.display.HTML object>"
      ]
     },
     "metadata": {},
     "output_type": "display_data"
    },
    {
     "name": "stderr",
     "output_type": "stream",
     "text": [
      "3it [7:16:48, 8717.29s/it]\n",
      "  0%|          | 0/9 [00:00<?, ?it/s]\u001b[A"
     ]
    },
    {
     "name": "stdout",
     "output_type": "stream",
     "text": [
      "█\r"
     ]
    },
    {
     "name": "stderr",
     "output_type": "stream",
     "text": [
      "\n",
      " 11%|█         | 1/9 [07:49<1:02:37, 469.74s/it]\u001b[A"
     ]
    },
    {
     "name": "stdout",
     "output_type": "stream",
     "text": [
      "█\r"
     ]
    },
    {
     "name": "stderr",
     "output_type": "stream",
     "text": [
      "\n",
      " 22%|██▏       | 2/9 [20:23<1:04:44, 554.86s/it]\u001b[A"
     ]
    },
    {
     "name": "stdout",
     "output_type": "stream",
     "text": [
      "█\r"
     ]
    },
    {
     "name": "stderr",
     "output_type": "stream",
     "text": [
      "/opt/anaconda3/lib/python3.7/site-packages/ipykernel_launcher.py:33: RuntimeWarning: Mean of empty slice\n",
      "\n",
      " 33%|███▎      | 3/9 [36:30<1:07:51, 678.63s/it]\u001b[A"
     ]
    },
    {
     "name": "stdout",
     "output_type": "stream",
     "text": [
      "█\r"
     ]
    },
    {
     "name": "stderr",
     "output_type": "stream",
     "text": [
      "\n",
      " 44%|████▍     | 4/9 [49:01<58:21, 700.39s/it]  \u001b[A"
     ]
    },
    {
     "name": "stdout",
     "output_type": "stream",
     "text": [
      "█\r"
     ]
    },
    {
     "name": "stderr",
     "output_type": "stream",
     "text": [
      "\n",
      " 56%|█████▌    | 5/9 [1:06:19<53:25, 801.45s/it]\u001b[A"
     ]
    },
    {
     "name": "stdout",
     "output_type": "stream",
     "text": [
      "█\r"
     ]
    },
    {
     "name": "stderr",
     "output_type": "stream",
     "text": [
      "\n",
      " 67%|██████▋   | 6/9 [1:27:11<46:49, 936.61s/it]\u001b[A"
     ]
    },
    {
     "name": "stdout",
     "output_type": "stream",
     "text": [
      "█\r"
     ]
    },
    {
     "name": "stderr",
     "output_type": "stream",
     "text": [
      "\n",
      " 78%|███████▊  | 7/9 [1:43:12<31:28, 944.03s/it]\u001b[A"
     ]
    },
    {
     "name": "stdout",
     "output_type": "stream",
     "text": [
      "█\r"
     ]
    },
    {
     "name": "stderr",
     "output_type": "stream",
     "text": [
      "\n",
      " 89%|████████▉ | 8/9 [2:03:57<17:14, 1034.48s/it]\u001b[A"
     ]
    },
    {
     "name": "stdout",
     "output_type": "stream",
     "text": [
      "█\r"
     ]
    },
    {
     "name": "stderr",
     "output_type": "stream",
     "text": [
      "/opt/anaconda3/lib/python3.7/site-packages/ipykernel_launcher.py:33: RuntimeWarning: Mean of empty slice\n",
      "\n",
      "100%|██████████| 9/9 [2:28:18<00:00, 988.70s/it] \u001b[A\n"
     ]
    },
    {
     "data": {
      "text/html": [
       "<table border=\"1\" class=\"dataframe\">\n",
       "  <thead>\n",
       "    <tr style=\"text-align: left;\">\n",
       "      <th>epoch</th>\n",
       "      <th>train_loss</th>\n",
       "      <th>valid_loss</th>\n",
       "      <th>acc</th>\n",
       "      <th>dice</th>\n",
       "      <th>iou</th>\n",
       "      <th>time</th>\n",
       "    </tr>\n",
       "  </thead>\n",
       "  <tbody>\n",
       "    <tr>\n",
       "      <td>0</td>\n",
       "      <td>0.267262</td>\n",
       "      <td>0.066469</td>\n",
       "      <td>0.973211</td>\n",
       "      <td>0.950454</td>\n",
       "      <td>0.908248</td>\n",
       "      <td>00:17</td>\n",
       "    </tr>\n",
       "    <tr>\n",
       "      <td>1</td>\n",
       "      <td>0.134130</td>\n",
       "      <td>0.049202</td>\n",
       "      <td>0.981159</td>\n",
       "      <td>0.941849</td>\n",
       "      <td>0.905310</td>\n",
       "      <td>00:17</td>\n",
       "    </tr>\n",
       "    <tr>\n",
       "      <td>2</td>\n",
       "      <td>0.288057</td>\n",
       "      <td>0.051490</td>\n",
       "      <td>0.985224</td>\n",
       "      <td>0.957237</td>\n",
       "      <td>0.932019</td>\n",
       "      <td>00:17</td>\n",
       "    </tr>\n",
       "    <tr>\n",
       "      <td>3</td>\n",
       "      <td>0.219998</td>\n",
       "      <td>0.033496</td>\n",
       "      <td>0.988991</td>\n",
       "      <td>0.977147</td>\n",
       "      <td>0.955663</td>\n",
       "      <td>00:17</td>\n",
       "    </tr>\n",
       "    <tr>\n",
       "      <td>4</td>\n",
       "      <td>0.130161</td>\n",
       "      <td>0.021372</td>\n",
       "      <td>0.991697</td>\n",
       "      <td>0.982628</td>\n",
       "      <td>0.967303</td>\n",
       "      <td>00:17</td>\n",
       "    </tr>\n",
       "    <tr>\n",
       "      <td>5</td>\n",
       "      <td>0.084979</td>\n",
       "      <td>0.021068</td>\n",
       "      <td>0.991715</td>\n",
       "      <td>0.982574</td>\n",
       "      <td>0.967209</td>\n",
       "      <td>00:17</td>\n",
       "    </tr>\n",
       "  </tbody>\n",
       "</table>"
      ],
      "text/plain": [
       "<IPython.core.display.HTML object>"
      ]
     },
     "metadata": {},
     "output_type": "display_data"
    },
    {
     "data": {
      "text/html": [
       "<table border=\"1\" class=\"dataframe\">\n",
       "  <thead>\n",
       "    <tr style=\"text-align: left;\">\n",
       "      <th>epoch</th>\n",
       "      <th>train_loss</th>\n",
       "      <th>valid_loss</th>\n",
       "      <th>acc</th>\n",
       "      <th>dice</th>\n",
       "      <th>iou</th>\n",
       "      <th>time</th>\n",
       "    </tr>\n",
       "  </thead>\n",
       "  <tbody>\n",
       "    <tr>\n",
       "      <td>0</td>\n",
       "      <td>0.032645</td>\n",
       "      <td>0.015130</td>\n",
       "      <td>0.994044</td>\n",
       "      <td>0.987929</td>\n",
       "      <td>0.976215</td>\n",
       "      <td>00:17</td>\n",
       "    </tr>\n",
       "    <tr>\n",
       "      <td>1</td>\n",
       "      <td>0.036641</td>\n",
       "      <td>0.012872</td>\n",
       "      <td>0.994928</td>\n",
       "      <td>0.989748</td>\n",
       "      <td>0.979716</td>\n",
       "      <td>00:17</td>\n",
       "    </tr>\n",
       "    <tr>\n",
       "      <td>2</td>\n",
       "      <td>0.029573</td>\n",
       "      <td>0.010858</td>\n",
       "      <td>0.996092</td>\n",
       "      <td>0.991987</td>\n",
       "      <td>0.984122</td>\n",
       "      <td>00:17</td>\n",
       "    </tr>\n",
       "    <tr>\n",
       "      <td>3</td>\n",
       "      <td>0.028150</td>\n",
       "      <td>0.011825</td>\n",
       "      <td>0.995070</td>\n",
       "      <td>0.989575</td>\n",
       "      <td>0.979448</td>\n",
       "      <td>00:17</td>\n",
       "    </tr>\n",
       "    <tr>\n",
       "      <td>4</td>\n",
       "      <td>0.020419</td>\n",
       "      <td>0.008886</td>\n",
       "      <td>0.996153</td>\n",
       "      <td>0.992134</td>\n",
       "      <td>0.984419</td>\n",
       "      <td>00:17</td>\n",
       "    </tr>\n",
       "    <tr>\n",
       "      <td>5</td>\n",
       "      <td>0.015815</td>\n",
       "      <td>0.008707</td>\n",
       "      <td>0.996552</td>\n",
       "      <td>0.993022</td>\n",
       "      <td>0.986162</td>\n",
       "      <td>00:17</td>\n",
       "    </tr>\n",
       "    <tr>\n",
       "      <td>6</td>\n",
       "      <td>0.013224</td>\n",
       "      <td>0.009043</td>\n",
       "      <td>0.995949</td>\n",
       "      <td>0.991798</td>\n",
       "      <td>0.983749</td>\n",
       "      <td>00:17</td>\n",
       "    </tr>\n",
       "    <tr>\n",
       "      <td>7</td>\n",
       "      <td>0.013315</td>\n",
       "      <td>0.009153</td>\n",
       "      <td>0.996109</td>\n",
       "      <td>0.991875</td>\n",
       "      <td>0.984061</td>\n",
       "      <td>00:17</td>\n",
       "    </tr>\n",
       "    <tr>\n",
       "      <td>8</td>\n",
       "      <td>0.010423</td>\n",
       "      <td>0.010462</td>\n",
       "      <td>0.995630</td>\n",
       "      <td>0.990688</td>\n",
       "      <td>0.982090</td>\n",
       "      <td>00:17</td>\n",
       "    </tr>\n",
       "    <tr>\n",
       "      <td>9</td>\n",
       "      <td>0.010114</td>\n",
       "      <td>0.014815</td>\n",
       "      <td>0.994332</td>\n",
       "      <td>0.988250</td>\n",
       "      <td>0.978793</td>\n",
       "      <td>00:17</td>\n",
       "    </tr>\n",
       "  </tbody>\n",
       "</table>"
      ],
      "text/plain": [
       "<IPython.core.display.HTML object>"
      ]
     },
     "metadata": {},
     "output_type": "display_data"
    },
    {
     "name": "stderr",
     "output_type": "stream",
     "text": [
      "4it [9:49:53, 8857.61s/it]\n",
      "  0%|          | 0/9 [00:00<?, ?it/s]\u001b[A"
     ]
    },
    {
     "name": "stdout",
     "output_type": "stream",
     "text": [
      "█\r"
     ]
    },
    {
     "name": "stderr",
     "output_type": "stream",
     "text": [
      "\n",
      " 11%|█         | 1/9 [07:44<1:01:55, 464.42s/it]\u001b[A"
     ]
    },
    {
     "name": "stdout",
     "output_type": "stream",
     "text": [
      "█\r"
     ]
    },
    {
     "name": "stderr",
     "output_type": "stream",
     "text": [
      "\n",
      " 22%|██▏       | 2/9 [20:17<1:04:16, 550.97s/it]\u001b[A"
     ]
    },
    {
     "name": "stdout",
     "output_type": "stream",
     "text": [
      "█\r"
     ]
    },
    {
     "name": "stderr",
     "output_type": "stream",
     "text": [
      "\n",
      " 33%|███▎      | 3/9 [36:22<1:07:31, 675.17s/it]\u001b[A"
     ]
    },
    {
     "name": "stdout",
     "output_type": "stream",
     "text": [
      "█\r"
     ]
    },
    {
     "name": "stderr",
     "output_type": "stream",
     "text": [
      "\n",
      " 44%|████▍     | 4/9 [48:46<57:58, 695.78s/it]  \u001b[A"
     ]
    },
    {
     "name": "stdout",
     "output_type": "stream",
     "text": [
      "█\r"
     ]
    },
    {
     "name": "stderr",
     "output_type": "stream",
     "text": [
      "\n",
      " 67%|██████▋   | 6/9 [1:26:42<46:33, 931.28s/it]\u001b[A"
     ]
    },
    {
     "name": "stdout",
     "output_type": "stream",
     "text": [
      "█\r"
     ]
    },
    {
     "name": "stderr",
     "output_type": "stream",
     "text": [
      "\n",
      " 78%|███████▊  | 7/9 [1:42:31<31:13, 936.63s/it]\u001b[A"
     ]
    },
    {
     "name": "stdout",
     "output_type": "stream",
     "text": [
      "█\r"
     ]
    },
    {
     "name": "stderr",
     "output_type": "stream",
     "text": [
      "\n",
      " 89%|████████▉ | 8/9 [2:03:06<17:06, 1026.35s/it]\u001b[A"
     ]
    },
    {
     "name": "stdout",
     "output_type": "stream",
     "text": [
      "█\r"
     ]
    },
    {
     "name": "stderr",
     "output_type": "stream",
     "text": [
      "\n",
      "100%|██████████| 9/9 [2:27:14<00:00, 981.64s/it] \u001b[A\n"
     ]
    },
    {
     "data": {
      "text/html": [
       "<table border=\"1\" class=\"dataframe\">\n",
       "  <thead>\n",
       "    <tr style=\"text-align: left;\">\n",
       "      <th>epoch</th>\n",
       "      <th>train_loss</th>\n",
       "      <th>valid_loss</th>\n",
       "      <th>acc</th>\n",
       "      <th>dice</th>\n",
       "      <th>iou</th>\n",
       "      <th>time</th>\n",
       "    </tr>\n",
       "  </thead>\n",
       "  <tbody>\n",
       "    <tr>\n",
       "      <td>0</td>\n",
       "      <td>0.337639</td>\n",
       "      <td>0.166160</td>\n",
       "      <td>0.904206</td>\n",
       "      <td>0.834766</td>\n",
       "      <td>0.759246</td>\n",
       "      <td>00:17</td>\n",
       "    </tr>\n",
       "    <tr>\n",
       "      <td>1</td>\n",
       "      <td>0.191064</td>\n",
       "      <td>0.079999</td>\n",
       "      <td>0.979892</td>\n",
       "      <td>0.951992</td>\n",
       "      <td>0.919810</td>\n",
       "      <td>00:17</td>\n",
       "    </tr>\n",
       "  </tbody>\n",
       "</table>"
      ],
      "text/plain": [
       "<IPython.core.display.HTML object>"
      ]
     },
     "metadata": {},
     "output_type": "display_data"
    },
    {
     "data": {
      "text/html": [
       "<table border=\"1\" class=\"dataframe\">\n",
       "  <thead>\n",
       "    <tr style=\"text-align: left;\">\n",
       "      <th>epoch</th>\n",
       "      <th>train_loss</th>\n",
       "      <th>valid_loss</th>\n",
       "      <th>acc</th>\n",
       "      <th>dice</th>\n",
       "      <th>iou</th>\n",
       "      <th>time</th>\n",
       "    </tr>\n",
       "  </thead>\n",
       "  <tbody>\n",
       "    <tr>\n",
       "      <td>0</td>\n",
       "      <td>0.084899</td>\n",
       "      <td>0.053519</td>\n",
       "      <td>0.983677</td>\n",
       "      <td>0.958577</td>\n",
       "      <td>0.932177</td>\n",
       "      <td>00:17</td>\n",
       "    </tr>\n",
       "    <tr>\n",
       "      <td>1</td>\n",
       "      <td>0.060548</td>\n",
       "      <td>0.032533</td>\n",
       "      <td>0.989308</td>\n",
       "      <td>0.966680</td>\n",
       "      <td>0.947760</td>\n",
       "      <td>00:17</td>\n",
       "    </tr>\n",
       "    <tr>\n",
       "      <td>2</td>\n",
       "      <td>0.047564</td>\n",
       "      <td>0.064651</td>\n",
       "      <td>0.980075</td>\n",
       "      <td>0.955695</td>\n",
       "      <td>0.926819</td>\n",
       "      <td>00:17</td>\n",
       "    </tr>\n",
       "    <tr>\n",
       "      <td>3</td>\n",
       "      <td>0.042504</td>\n",
       "      <td>0.022390</td>\n",
       "      <td>0.990919</td>\n",
       "      <td>0.967391</td>\n",
       "      <td>0.949460</td>\n",
       "      <td>00:17</td>\n",
       "    </tr>\n",
       "    <tr>\n",
       "      <td>4</td>\n",
       "      <td>0.034587</td>\n",
       "      <td>0.086912</td>\n",
       "      <td>0.977897</td>\n",
       "      <td>0.950310</td>\n",
       "      <td>0.917816</td>\n",
       "      <td>00:17</td>\n",
       "    </tr>\n",
       "    <tr>\n",
       "      <td>5</td>\n",
       "      <td>0.025196</td>\n",
       "      <td>0.023109</td>\n",
       "      <td>0.992688</td>\n",
       "      <td>0.972955</td>\n",
       "      <td>0.959688</td>\n",
       "      <td>00:17</td>\n",
       "    </tr>\n",
       "    <tr>\n",
       "      <td>6</td>\n",
       "      <td>0.021220</td>\n",
       "      <td>0.017067</td>\n",
       "      <td>0.994430</td>\n",
       "      <td>0.977163</td>\n",
       "      <td>0.967890</td>\n",
       "      <td>00:17</td>\n",
       "    </tr>\n",
       "    <tr>\n",
       "      <td>7</td>\n",
       "      <td>0.016796</td>\n",
       "      <td>0.011445</td>\n",
       "      <td>0.995355</td>\n",
       "      <td>0.978281</td>\n",
       "      <td>0.970058</td>\n",
       "      <td>00:17</td>\n",
       "    </tr>\n",
       "    <tr>\n",
       "      <td>8</td>\n",
       "      <td>0.014509</td>\n",
       "      <td>0.010906</td>\n",
       "      <td>0.995517</td>\n",
       "      <td>0.978336</td>\n",
       "      <td>0.970179</td>\n",
       "      <td>00:17</td>\n",
       "    </tr>\n",
       "    <tr>\n",
       "      <td>9</td>\n",
       "      <td>0.013038</td>\n",
       "      <td>0.010151</td>\n",
       "      <td>0.995869</td>\n",
       "      <td>0.979120</td>\n",
       "      <td>0.971711</td>\n",
       "      <td>00:17</td>\n",
       "    </tr>\n",
       "  </tbody>\n",
       "</table>"
      ],
      "text/plain": [
       "<IPython.core.display.HTML object>"
      ]
     },
     "metadata": {},
     "output_type": "display_data"
    },
    {
     "name": "stderr",
     "output_type": "stream",
     "text": [
      "5it [12:20:44, 8888.85s/it]"
     ]
    },
    {
     "name": "stdout",
     "output_type": "stream",
     "text": [
      "CPU times: user 8h 44min 5s, sys: 2h 14min 28s, total: 10h 58min 33s\n",
      "Wall time: 12h 20min 44s\n"
     ]
    },
    {
     "name": "stderr",
     "output_type": "stream",
     "text": [
      "\n"
     ]
    }
   ],
   "source": [
    "%%time\n",
    "kf = KFold(n_splits=5, shuffle=True, random_state=123)\n",
    "df_best_models = pd.DataFrame(columns=all_params + ['iou', 'wrong_count'])\n",
    "for i, split in tqdm(enumerate(kf.split(all_lectures))):\n",
    "    other_lectures = [all_lectures[index] for index in split[0]]\n",
    "    test_lectures = [all_lectures[index] for index in split[1]]\n",
    "    \n",
    "    # Model selection\n",
    "    df_all = pd.DataFrame(columns=all_params + ['iou', 'wrong_count', 'kfold_split'])\n",
    "    \n",
    "    for train_setting in tqdm(train_settings):\n",
    "        train_params_dict = dict(zip(train_params, train_setting))\n",
    "        for j, split in enumerate(kf.split(other_lectures)):\n",
    "            train_lectures = [other_lectures[index] for index in split[0]]\n",
    "            valid_lectures = [other_lectures[index] for index in split[1]]\n",
    "            valid_frames = [frame for lecture in valid_lectures for frame in all_frames_grouped_by_videos[lecture]]\n",
    "\n",
    "            filtered_by = lambda name: any([lecture in str(name) for lecture in train_lectures + valid_lectures])  \\\n",
    "                            and 'frame' in str(name)\n",
    "            split_by = lambda name: any([lecture in str(name) for lecture in valid_lectures])\n",
    "            \n",
    "            detector = FastAIScreenDetector(train_params=train_params_dict, methods=None, filtered_by=filtered_by,\n",
    "                                        valid_func=split_by, progressbar=False, device='cuda')\n",
    "        \n",
    "            detector.train()\n",
    "            \n",
    "            actuals = [actual_detector.detect(frame) for frame in valid_frames]\n",
    "            sem_preds = detector.semantic_segmentation_batch(valid_frames)\n",
    "            \n",
    "            for i, method_setting in enumerate(method_settings):    \n",
    "                preds = detector.post_processing_batch(sem_preds, valid_frames, dict(zip(method_params, method_setting)))\n",
    "                wrong_count, ious, _ = evaluate(actuals, preds)\n",
    "                \n",
    "                iou_score = np.nanmean(ious)\n",
    "                wrong_count = len(wrong_count)\n",
    "                df_all.loc[len(df_all)] = train_setting + method_setting + (iou_score, wrong_count, j)\n",
    "    \n",
    "    unhashable_columns = ['frozen_lr', 'unfrozen_lr', 'base_factors', 'erode_dilate_factors']\n",
    "    df_all[unhashable_columns] = df_all[unhashable_columns].astype(str)\n",
    "    df_all['wrong_count'] = df_all['wrong_count'].astype(int)\n",
    "    \n",
    "    best_params = df_all.groupby(train_params + method_params).mean().sort_values(by=['wrong_count', 'iou']).iloc[0].name\n",
    "    converted_params = []\n",
    "    for i, par in enumerate(best_params):\n",
    "        if isinstance(par, np.int64) or isinstance(par, np.float64):\n",
    "            converted_params.append(par.item())\n",
    "        else:\n",
    "            converted_params.append(par)\n",
    "    best_params = tuple(converted_params)\n",
    "    \n",
    "    best_methods = dict(zip(method_params, best_params[-len(method_params):]))\n",
    "    best_train_params_dict = dict(zip(train_params, best_params[:len(train_params)]))\n",
    "    best_train_params_dict['frozen_lr'] = eval(best_train_params_dict['frozen_lr'])\n",
    "    best_train_params_dict['unfrozen_lr'] = eval(best_train_params_dict['unfrozen_lr'])\n",
    "    best_methods['base_factors'] = eval(best_methods['base_factors'])\n",
    "    best_methods['erode_dilate_factors'] = eval(best_methods['erode_dilate_factors'])\n",
    "    \n",
    "    \n",
    "    filtered_by = lambda name: 'frame' in str(name)\n",
    "    split_by = lambda name: any([lecture in str(name) for lecture in test_lectures])\n",
    "    \n",
    "    best_detector = FastAIScreenDetector(train_params=best_train_params_dict, methods=best_methods, \n",
    "                                         filtered_by=filtered_by, valid_func=split_by, progressbar=True, device='cuda')\n",
    "    best_detector.train()\n",
    "\n",
    "    actuals = [actual_detector.detect(frame) for frame in valid_frames]\n",
    "    preds = [best_detector.detect(frame) for frame in valid_frames]\n",
    "    wrong_count, iou, _ = evaluate(actuals, preds)\n",
    "    iou_score = np.nanmean(ious)\n",
    "    wrong_count = len(wrong_count)\n",
    "    df_best_models.loc[len(df_best_models)] = train_setting + method_setting + (iou_score, wrong_count)\n",
    "    df_best_models.to_csv('cross_validation_results.csv', index=False)\n",
    "df_best_models.to_csv('cross_validation_results.csv')"
   ]
  },
  {
   "cell_type": "code",
   "execution_count": null,
   "metadata": {},
   "outputs": [],
   "source": []
  }
 ],
 "metadata": {
  "kernelspec": {
   "display_name": "Python 3",
   "language": "python",
   "name": "python3"
  },
  "language_info": {
   "codemirror_mode": {
    "name": "ipython",
    "version": 3
   },
   "file_extension": ".py",
   "mimetype": "text/x-python",
   "name": "python",
   "nbconvert_exporter": "python",
   "pygments_lexer": "ipython3",
   "version": "3.7.4"
  }
 },
 "nbformat": 4,
 "nbformat_minor": 4
}
