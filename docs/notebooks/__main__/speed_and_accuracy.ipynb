{
 "cells": [
  {
   "cell_type": "markdown",
   "metadata": {},
   "source": [
    "# Measuring the speed and accuracy for all combinations of page detectors, screen detectors, and scene detectors"
   ]
  },
  {
   "cell_type": "code",
   "execution_count": 1,
   "metadata": {},
   "outputs": [],
   "source": [
    "from argparse import Namespace\n",
    "from contextlib import redirect_stderr\n",
    "from datetime import datetime, timedelta\n",
    "from itertools import product\n",
    "from pathlib import Path\n",
    "from string import Template\n",
    "import os\n",
    "\n",
    "import pandas as pd\n",
    "from IPython.display import display\n",
    "with open(os.devnull, 'w') as f:\n",
    "    with redirect_stderr(f):\n",
    "        import keras\n",
    "from tqdm import tqdm\n",
    "from video699.__main__ import PAGE_DETECTOR_NAMES, SCREEN_DETECTOR_NAMES, SCENE_DETECTOR_NAMES, _screen_event_detector\n",
    "\n",
    "from annotated import VIDEO_FILENAME, DOCUMENT_FILENAME, evaluate_event_detector\n",
    "\n",
    "COLUMN_NAMES = ['Page detector', 'Screen detector', 'Scene detector']\n",
    "SCREEN_DETECTOR_NAMES = [name for name in SCREEN_DETECTOR_NAMES if name != 'fastai']  # fastai is too large to load"
   ]
  },
  {
   "cell_type": "code",
   "execution_count": 2,
   "metadata": {},
   "outputs": [],
   "source": [
    "def duration_and_accuracy(parameters):\n",
    "    page_detector_name, screen_detector_name, scene_detector_name = parameters\n",
    "    start_time = datetime.now()\n",
    "    directory = Path('speed_and_accuracy_outputs')\n",
    "    directory.mkdir(exist_ok=True)\n",
    "    output = directory / Path(VIDEO_FILENAME).with_suffix('').name\n",
    "    output = Path(f'{output}-{page_detector_name}-{screen_detector_name}-{scene_detector_name}')\n",
    "    accuracy_output = output.with_suffix('.accuracy')\n",
    "    duration_output = output.with_suffix('.duration')\n",
    "    try:\n",
    "        with accuracy_output.open('rt') as af, duration_output.open('rt') as df:\n",
    "            accuracy = float(af.read())\n",
    "            duration = timedelta(seconds=float(df.read()))\n",
    "    except IOError:\n",
    "        args = Namespace(**{\n",
    "            'convex_quadrangle_tracker': 'rtree_deque',\n",
    "            'screen_detector': screen_detector_name,\n",
    "            'scene_detector': scene_detector_name,\n",
    "            'page_detector': page_detector_name,\n",
    "            'institution': 'fimu',\n",
    "            'room': 'd2',\n",
    "            'camera': 'default_2004',\n",
    "            'date': '2019-11-12T12:00:00+01:00',\n",
    "            'documents': [DOCUMENT_FILENAME],\n",
    "            'video': VIDEO_FILENAME,\n",
    "            'quiet': True,\n",
    "        })\n",
    "        screen_event_detector = _screen_event_detector(args)\n",
    "        num_successes, num_trials = evaluate_event_detector(screen_event_detector)\n",
    "        finish_time = datetime.now()\n",
    "        duration = finish_time - start_time\n",
    "        accuracy = 100.0 * num_successes / num_trials\n",
    "        with accuracy_output.open('wt') as af, duration_output.open('wt') as df:\n",
    "            print(accuracy, file=af)\n",
    "            print(duration.total_seconds(), file=df)\n",
    "    return (duration, accuracy)"
   ]
  },
  {
   "cell_type": "code",
   "execution_count": 3,
   "metadata": {},
   "outputs": [
    {
     "name": "stderr",
     "output_type": "stream",
     "text": [
      "100%|██████████| 8/8 [00:00<00:00, 6598.71it/s]\n"
     ]
    }
   ],
   "source": [
    "parameters_list = list(product(PAGE_DETECTOR_NAMES, SCREEN_DETECTOR_NAMES, SCENE_DETECTOR_NAMES))\n",
    "results = list(map(duration_and_accuracy, tqdm(parameters_list)))\n",
    "durations, accuracies = zip(*results)"
   ]
  },
  {
   "cell_type": "code",
   "execution_count": 4,
   "metadata": {},
   "outputs": [
    {
     "data": {
      "text/html": [
       "<style  type=\"text/css\" >\n",
       "#T_8a75bfaa_dda8_11ea_8ef8_1831bfdd86f9row0_col0{\n",
       "            background-color:  #fa9857;\n",
       "            color:  #000000;\n",
       "        }#T_8a75bfaa_dda8_11ea_8ef8_1831bfdd86f9row0_col1{\n",
       "            background-color:  #c01a27;\n",
       "            color:  #f1f1f1;\n",
       "        }#T_8a75bfaa_dda8_11ea_8ef8_1831bfdd86f9row1_col0{\n",
       "            background-color:  #feca79;\n",
       "            color:  #000000;\n",
       "        }#T_8a75bfaa_dda8_11ea_8ef8_1831bfdd86f9row1_col1{\n",
       "            background-color:  #fba35c;\n",
       "            color:  #000000;\n",
       "        }#T_8a75bfaa_dda8_11ea_8ef8_1831bfdd86f9row2_col0{\n",
       "            background-color:  #d02927;\n",
       "            color:  #f1f1f1;\n",
       "        }#T_8a75bfaa_dda8_11ea_8ef8_1831bfdd86f9row2_col1{\n",
       "            background-color:  #a50026;\n",
       "            color:  #f1f1f1;\n",
       "        }#T_8a75bfaa_dda8_11ea_8ef8_1831bfdd86f9row3_col0{\n",
       "            background-color:  #fed683;\n",
       "            color:  #000000;\n",
       "        }#T_8a75bfaa_dda8_11ea_8ef8_1831bfdd86f9row3_col1{\n",
       "            background-color:  #006837;\n",
       "            color:  #f1f1f1;\n",
       "        }</style><table id=\"T_8a75bfaa_dda8_11ea_8ef8_1831bfdd86f9\" ><caption>Speeds</caption><thead>    <tr>        <th class=\"index_name level0\" >Screen detector</th>        <th class=\"col_heading level0 col0\" colspan=2>annotated</th>    </tr>    <tr>        <th class=\"index_name level1\" >Scene detector</th>        <th class=\"col_heading level1 col0\" >distance</th>        <th class=\"col_heading level1 col1\" >none</th>    </tr>    <tr>        <th class=\"index_name level0\" >Page detector</th>        <th class=\"blank\" ></th>        <th class=\"blank\" ></th>    </tr></thead><tbody>\n",
       "                <tr>\n",
       "                        <th id=\"T_8a75bfaa_dda8_11ea_8ef8_1831bfdd86f9level0_row0\" class=\"row_heading level0 row0\" >siamese</th>\n",
       "                        <td id=\"T_8a75bfaa_dda8_11ea_8ef8_1831bfdd86f9row0_col0\" class=\"data row0 col0\" >17.72×</td>\n",
       "                        <td id=\"T_8a75bfaa_dda8_11ea_8ef8_1831bfdd86f9row0_col1\" class=\"data row0 col1\" >4.03×</td>\n",
       "            </tr>\n",
       "            <tr>\n",
       "                        <th id=\"T_8a75bfaa_dda8_11ea_8ef8_1831bfdd86f9level0_row1\" class=\"row_heading level0 row1\" >imagehash</th>\n",
       "                        <td id=\"T_8a75bfaa_dda8_11ea_8ef8_1831bfdd86f9row1_col0\" class=\"data row1 col0\" >23.46×</td>\n",
       "                        <td id=\"T_8a75bfaa_dda8_11ea_8ef8_1831bfdd86f9row1_col1\" class=\"data row1 col1\" >18.67×</td>\n",
       "            </tr>\n",
       "            <tr>\n",
       "                        <th id=\"T_8a75bfaa_dda8_11ea_8ef8_1831bfdd86f9level0_row2\" class=\"row_heading level0 row2\" >vgg16</th>\n",
       "                        <td id=\"T_8a75bfaa_dda8_11ea_8ef8_1831bfdd86f9row2_col0\" class=\"data row2 col0\" >6.14×</td>\n",
       "                        <td id=\"T_8a75bfaa_dda8_11ea_8ef8_1831bfdd86f9row2_col1\" class=\"data row2 col1\" >0.51×</td>\n",
       "            </tr>\n",
       "            <tr>\n",
       "                        <th id=\"T_8a75bfaa_dda8_11ea_8ef8_1831bfdd86f9level0_row3\" class=\"row_heading level0 row3\" >annotated</th>\n",
       "                        <td id=\"T_8a75bfaa_dda8_11ea_8ef8_1831bfdd86f9row3_col0\" class=\"data row3 col0\" >24.99×</td>\n",
       "                        <td id=\"T_8a75bfaa_dda8_11ea_8ef8_1831bfdd86f9row3_col1\" class=\"data row3 col1\" >64.51×</td>\n",
       "            </tr>\n",
       "    </tbody></table>"
      ],
      "text/plain": [
       "<pandas.io.formats.style.Styler at 0x7fa4da0ee208>"
      ]
     },
     "execution_count": 4,
     "metadata": {},
     "output_type": "execute_result"
    }
   ],
   "source": [
    "index = pd.MultiIndex.from_tuples(parameters_list, names=COLUMN_NAMES)\n",
    "df = pd.Series(map(lambda d: 4546.0 / d.total_seconds(), durations), index=index).unstack(level=0)\n",
    "df = df[PAGE_DETECTOR_NAMES]\n",
    "df = df.T[SCREEN_DETECTOR_NAMES].T\n",
    "df.T.style.set_caption('Speeds').format('{:,.2f}×').background_gradient(cmap='RdYlGn', axis=None)"
   ]
  },
  {
   "cell_type": "code",
   "execution_count": 5,
   "metadata": {},
   "outputs": [
    {
     "data": {
      "text/html": [
       "<style  type=\"text/css\" >\n",
       "#T_8a75bfab_dda8_11ea_8ef8_1831bfdd86f9row0_col0,#T_8a75bfab_dda8_11ea_8ef8_1831bfdd86f9row0_col1{\n",
       "            background-color:  #a50026;\n",
       "            color:  #f1f1f1;\n",
       "        }#T_8a75bfab_dda8_11ea_8ef8_1831bfdd86f9row1_col0,#T_8a75bfab_dda8_11ea_8ef8_1831bfdd86f9row1_col1{\n",
       "            background-color:  #b30d26;\n",
       "            color:  #f1f1f1;\n",
       "        }#T_8a75bfab_dda8_11ea_8ef8_1831bfdd86f9row2_col0,#T_8a75bfab_dda8_11ea_8ef8_1831bfdd86f9row2_col1{\n",
       "            background-color:  #d7ee8a;\n",
       "            color:  #000000;\n",
       "        }#T_8a75bfab_dda8_11ea_8ef8_1831bfdd86f9row3_col0,#T_8a75bfab_dda8_11ea_8ef8_1831bfdd86f9row3_col1{\n",
       "            background-color:  #006837;\n",
       "            color:  #f1f1f1;\n",
       "        }</style><table id=\"T_8a75bfab_dda8_11ea_8ef8_1831bfdd86f9\" ><caption>Accuracies</caption><thead>    <tr>        <th class=\"index_name level0\" >Screen detector</th>        <th class=\"col_heading level0 col0\" colspan=2>annotated</th>    </tr>    <tr>        <th class=\"index_name level1\" >Scene detector</th>        <th class=\"col_heading level1 col0\" >distance</th>        <th class=\"col_heading level1 col1\" >none</th>    </tr>    <tr>        <th class=\"index_name level0\" >Page detector</th>        <th class=\"blank\" ></th>        <th class=\"blank\" ></th>    </tr></thead><tbody>\n",
       "                <tr>\n",
       "                        <th id=\"T_8a75bfab_dda8_11ea_8ef8_1831bfdd86f9level0_row0\" class=\"row_heading level0 row0\" >siamese</th>\n",
       "                        <td id=\"T_8a75bfab_dda8_11ea_8ef8_1831bfdd86f9row0_col0\" class=\"data row0 col0\" >3.95%</td>\n",
       "                        <td id=\"T_8a75bfab_dda8_11ea_8ef8_1831bfdd86f9row0_col1\" class=\"data row0 col1\" >3.95%</td>\n",
       "            </tr>\n",
       "            <tr>\n",
       "                        <th id=\"T_8a75bfab_dda8_11ea_8ef8_1831bfdd86f9level0_row1\" class=\"row_heading level0 row1\" >imagehash</th>\n",
       "                        <td id=\"T_8a75bfab_dda8_11ea_8ef8_1831bfdd86f9row1_col0\" class=\"data row1 col0\" >6.58%</td>\n",
       "                        <td id=\"T_8a75bfab_dda8_11ea_8ef8_1831bfdd86f9row1_col1\" class=\"data row1 col1\" >6.58%</td>\n",
       "            </tr>\n",
       "            <tr>\n",
       "                        <th id=\"T_8a75bfab_dda8_11ea_8ef8_1831bfdd86f9level0_row2\" class=\"row_heading level0 row2\" >vgg16</th>\n",
       "                        <td id=\"T_8a75bfab_dda8_11ea_8ef8_1831bfdd86f9row2_col0\" class=\"data row2 col0\" >61.84%</td>\n",
       "                        <td id=\"T_8a75bfab_dda8_11ea_8ef8_1831bfdd86f9row2_col1\" class=\"data row2 col1\" >61.84%</td>\n",
       "            </tr>\n",
       "            <tr>\n",
       "                        <th id=\"T_8a75bfab_dda8_11ea_8ef8_1831bfdd86f9level0_row3\" class=\"row_heading level0 row3\" >annotated</th>\n",
       "                        <td id=\"T_8a75bfab_dda8_11ea_8ef8_1831bfdd86f9row3_col0\" class=\"data row3 col0\" >100.00%</td>\n",
       "                        <td id=\"T_8a75bfab_dda8_11ea_8ef8_1831bfdd86f9row3_col1\" class=\"data row3 col1\" >100.00%</td>\n",
       "            </tr>\n",
       "    </tbody></table>"
      ],
      "text/plain": [
       "<pandas.io.formats.style.Styler at 0x7fa4da151a58>"
      ]
     },
     "execution_count": 5,
     "metadata": {},
     "output_type": "execute_result"
    }
   ],
   "source": [
    "index = pd.MultiIndex.from_tuples(parameters_list, names=COLUMN_NAMES)\n",
    "df = pd.Series(accuracies, index=index).unstack(level=0)\n",
    "df = df[PAGE_DETECTOR_NAMES]\n",
    "df = df.T[SCREEN_DETECTOR_NAMES].T\n",
    "df.T.style.set_caption('Accuracies').format('{:,.2f}%').background_gradient(cmap='RdYlGn', axis=None)"
   ]
  }
 ],
 "metadata": {
  "kernelspec": {
   "display_name": "Python 3",
   "language": "python",
   "name": "python3"
  },
  "language_info": {
   "codemirror_mode": {
    "name": "ipython",
    "version": 3
   },
   "file_extension": ".py",
   "mimetype": "text/x-python",
   "name": "python",
   "nbconvert_exporter": "python",
   "pygments_lexer": "ipython3",
   "version": "3.6.9"
  }
 },
 "nbformat": 4,
 "nbformat_minor": 4
}
