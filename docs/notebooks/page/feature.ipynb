{
 "cells": [
  {
   "cell_type": "markdown",
   "metadata": {},
   "source": [
    "## Optimizing `num_features`, `min_feature_percentage`, `num_nearest_features`, and `min_page_vote_percentage` parameters of `LocalFeatureKNNPageDetector`"
   ]
  },
  {
   "cell_type": "code",
   "execution_count": 1,
   "metadata": {},
   "outputs": [],
   "source": [
    "from itertools import product\n",
    "\n",
    "from video699.configuration import get_configuration\n",
    "from video699.video.annotated import (\n",
    "    AnnotatedSampledVideoScreenDetector,\n",
    "    evaluate_event_detector,\n",
    "    get_videos,\n",
    ")\n",
    "from video699.page.feature import LocalFeatureKNNPageDetector\n",
    "from video699.quadrangle.rtree import RTreeDequeConvexQuadrangleTracker\n",
    "from video699.event.screen import ScreenEventDetector\n",
    "\n",
    "import numpy as np\n",
    "\n",
    "\n",
    "CONFIGURATION = get_configuration()['LocalFeatureKNNPageDetector']"
   ]
  },
  {
   "cell_type": "code",
   "execution_count": 2,
   "metadata": {},
   "outputs": [],
   "source": [
    "def accuracy(num_features, min_feature_percentage, num_nearest_features, min_page_vote_percentage):\n",
    "    CONFIGURATION['num_features'] = str(num_features)\n",
    "    CONFIGURATION['min_feature_percentage'] = str(min_feature_percentage)\n",
    "    CONFIGURATION['num_nearest_features'] = str(num_nearest_features)\n",
    "    CONFIGURATION['min_page_vote_percentage'] = str(min_page_vote_percentage)\n",
    "    num_successes_total = 0\n",
    "    num_trials_total = 0\n",
    "    for annotated_video in get_videos().values():\n",
    "        convex_quadrangle_tracker = RTreeDequeConvexQuadrangleTracker(2)\n",
    "        screen_detector = AnnotatedSampledVideoScreenDetector()\n",
    "        documents = annotated_video.documents.values()\n",
    "        page_detector = LocalFeatureKNNPageDetector(documents)\n",
    "        screen_event_detector = ScreenEventDetector(\n",
    "            annotated_video,\n",
    "            convex_quadrangle_tracker,\n",
    "            screen_detector,\n",
    "            page_detector\n",
    "        )\n",
    "        num_successes, num_trials = evaluate_event_detector(annotated_video, screen_event_detector)\n",
    "        num_successes_total += num_successes\n",
    "        num_trials_total += num_trials\n",
    "    accuracy = 1.0 * num_successes_total / num_trials_total\n",
    "    return accuracy"
   ]
  },
  {
   "cell_type": "code",
   "execution_count": null,
   "metadata": {},
   "outputs": [],
   "source": [
    "%%time\n",
    "nums_features = [5, 10, 20, 40, 80, 160, 320, 640, 1280]\n",
    "min_feature_percentages = np.linspace(0.0, 1.0, num=50)\n",
    "nums_nearest_features = [5, 10, 20, 40]\n",
    "min_page_vote_percentages = np.linspace(0.0, 1.0, num=50)\n",
    "parameters = list(product(nums_features, min_feature_percentages, nums_nearest_features, min_page_vote_percentages))\n",
    "accuracies = [accuracy(*parameter) for parameter in parameters]\n",
    "\n",
    "best_accuracy, (\n",
    "    best_num_features,\n",
    "    best_min_feature_percentage,\n",
    "    best_num_nearest_features,\n",
    "    best_min_page_vote_percentage,\n",
    ") = max(zip(accuracies, parameters))\n",
    "print('Optimal parameters (accuracy {}):'.format(best_accuracy))\n",
    "print('- num_features:             {}'.format(best_num_features))\n",
    "print('- min_feature_percentage:   {}'.format(best_min_feature_percentage))\n",
    "print('- num_nearest_features:     {}'.format(best_num_nearest_features))\n",
    "print('- min_page_vote_percentage: {}'.format(best_min_page_vote_percentage))"
   ]
  }
 ],
 "metadata": {
  "kernelspec": {
   "display_name": "Python 3",
   "language": "python",
   "name": "python3"
  },
  "language_info": {
   "codemirror_mode": {
    "name": "ipython",
    "version": 3
   },
   "file_extension": ".py",
   "mimetype": "text/x-python",
   "name": "python",
   "nbconvert_exporter": "python",
   "pygments_lexer": "ipython3",
   "version": "3.7.3"
  }
 },
 "nbformat": 4,
 "nbformat_minor": 4
}
