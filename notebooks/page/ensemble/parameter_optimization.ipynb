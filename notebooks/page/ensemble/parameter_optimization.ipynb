{
 "cells": [
  {
   "cell_type": "markdown",
   "metadata": {},
   "source": [
    "## Optimizing `quorum` parameter and page detector weights in `EnsemblePageDetector`"
   ]
  },
  {
   "cell_type": "code",
   "execution_count": 1,
   "metadata": {},
   "outputs": [
    {
     "name": "stderr",
     "output_type": "stream",
     "text": [
      "Using TensorFlow backend.\n"
     ]
    }
   ],
   "source": [
    "from itertools import product, chain, combinations\n",
    "\n",
    "from video699.video.annotated import (\n",
    "    AnnotatedSampledVideoScreenDetector,\n",
    "    evaluate_event_detector,\n",
    "    get_videos,\n",
    ")\n",
    "from video699.page.ensemble import EnsemblePageDetector\n",
    "from video699.page.imagehash import ImageHashPageDetector\n",
    "from video699.page.vgg16 import KerasVGG16PageDetector\n",
    "from video699.page.siamese import KerasSiamesePageDetector\n",
    "from video699.quadrangle.rtree import RTreeDequeConvexQuadrangleTracker\n",
    "from video699.event.screen import ScreenEventDetector\n",
    "\n",
    "import numpy as np\n",
    "from tqdm import tqdm"
   ]
  },
  {
   "cell_type": "code",
   "execution_count": 2,
   "metadata": {},
   "outputs": [],
   "source": [
    "def accuracy(quorum, imagehash_weight, vgg16_weight, siamese_weight):\n",
    "    num_successes_total = 0\n",
    "    num_trials_total = 0\n",
    "    for annotated_video in get_videos().values():\n",
    "        convex_quadrangle_tracker = RTreeDequeConvexQuadrangleTracker(2)\n",
    "        screen_detector = AnnotatedSampledVideoScreenDetector()\n",
    "        documents = annotated_video.documents.values()\n",
    "        page_detector = EnsemblePageDetector(\n",
    "            {\n",
    "                ImageHashPageDetector(documents): imagehash_weight,\n",
    "                KerasVGG16PageDetector(documents): vgg16_weight,\n",
    "                KerasSiamesePageDetector(documents): siamese_weight,\n",
    "            },\n",
    "            quorum,\n",
    "        )\n",
    "        screen_event_detector = ScreenEventDetector(\n",
    "            annotated_video,\n",
    "            convex_quadrangle_tracker,\n",
    "            screen_detector,\n",
    "            page_detector\n",
    "        )\n",
    "        num_successes, num_trials = evaluate_event_detector(annotated_video, screen_event_detector)\n",
    "        num_successes_total += num_successes\n",
    "        num_trials_total += num_trials\n",
    "    accuracy = 1.0 * num_successes_total / num_trials_total\n",
    "    return accuracy"
   ]
  },
  {
   "cell_type": "code",
   "execution_count": 3,
   "metadata": {},
   "outputs": [],
   "source": [
    "def parameters(refinement):\n",
    "    weight = np.linspace(0.0, 1.0, num=refinement + 1)\n",
    "    parameters = [\n",
    "        (quorum, *weights)\n",
    "        for weights in product(weight, weight, weight) if sum(weights) == 1.0\n",
    "        for quorum in set(\n",
    "            float(sum(weight_subset))\n",
    "            for weight_subset in chain(*[\n",
    "                combinations(weights, r + 1)\n",
    "                for r in range(len(weights))\n",
    "            ])\n",
    "        ) if quorum > 0.0\n",
    "    ]\n",
    "    return tqdm(parameters)"
   ]
  },
  {
   "cell_type": "code",
   "execution_count": 4,
   "metadata": {},
   "outputs": [],
   "source": [
    "def print_results(accuracies):\n",
    "    best_parameter, best_accuracy = max(accuracies.items(), key=lambda x: x[1])\n",
    "    best_quorum, *best_weights = best_parameter\n",
    "    print('Optimal parameters (accuracy {}):'.format(best_accuracy))\n",
    "    print('- quorum:  {}'.format(best_quorum))\n",
    "    print('- weights: {}'.format(best_weights))"
   ]
  },
  {
   "cell_type": "code",
   "execution_count": 5,
   "metadata": {},
   "outputs": [
    {
     "name": "stderr",
     "output_type": "stream",
     "text": [
      "100%|██████████| 69/69 [27:27:46<00:00, 1432.85s/it]   "
     ]
    },
    {
     "name": "stdout",
     "output_type": "stream",
     "text": [
      "Optimal parameters (accuracy 0.8557457212713936):\n",
      "- quorum:  1.0\n",
      "- weights: [0.0, 0.0, 1.0]\n"
     ]
    }
   ],
   "source": [
    "accuracies = dict()\n",
    "for parameter in parameters(refinement=5):\n",
    "    if parameter not in accuracies:\n",
    "        accuracies[parameter] = accuracy(*parameter)\n",
    "print_results(accuracies)"
   ]
  }
 ],
 "metadata": {
  "kernelspec": {
   "display_name": "Python 3",
   "language": "python",
   "name": "python3"
  },
  "language_info": {
   "codemirror_mode": {
    "name": "ipython",
    "version": 3
   },
   "file_extension": ".py",
   "mimetype": "text/x-python",
   "name": "python",
   "nbconvert_exporter": "python",
   "pygments_lexer": "ipython3",
   "version": "3.7.3"
  }
 },
 "nbformat": 4,
 "nbformat_minor": 4
}
