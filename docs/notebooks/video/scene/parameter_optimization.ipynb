{
 "cells": [
  {
   "cell_type": "markdown",
   "metadata": {},
   "source": [
    "## Optimizing `max_mean_distance` parameter of `FrameImageDistanceSceneDetector`"
   ]
  },
  {
   "cell_type": "code",
   "execution_count": 1,
   "metadata": {},
   "outputs": [],
   "source": [
    "from datetime import datetime, timedelta\n",
    "\n",
    "from video699.configuration import get_configuration\n",
    "from video699.video.annotated import (\n",
    "    AnnotatedSampledVideoScreenDetector,\n",
    "    AnnotatedSampledVideoPageDetector,\n",
    "    evaluate_event_detector,\n",
    "    get_videos,\n",
    ")\n",
    "from video699.video.scene import FrameImageDistanceSceneDetector\n",
    "from video699.quadrangle.rtree import RTreeDequeConvexQuadrangleTracker\n",
    "from video699.event.screen import ScreenEventDetector\n",
    "\n",
    "\n",
    "CONFIGURATION = get_configuration()['FrameImageDistanceSceneDetector']"
   ]
  },
  {
   "cell_type": "code",
   "execution_count": 2,
   "metadata": {},
   "outputs": [],
   "source": [
    "def accuracy(max_mean_distance):\n",
    "    CONFIGURATION['max_mean_distance'] = str(max_mean_distance)\n",
    "    num_successes_total = 0\n",
    "    num_trials_total = 0\n",
    "    for annotated_video in get_videos().values():        \n",
    "        convex_quadrangle_tracker = RTreeDequeConvexQuadrangleTracker(2)\n",
    "        screen_detector = AnnotatedSampledVideoScreenDetector()\n",
    "        page_detector = AnnotatedSampledVideoPageDetector()\n",
    "        video = FrameImageDistanceSceneDetector(annotated_video)\n",
    "        screen_event_detector = ScreenEventDetector(\n",
    "            video,\n",
    "            convex_quadrangle_tracker,\n",
    "            screen_detector,\n",
    "            page_detector\n",
    "        )\n",
    "        num_successes, num_trials = evaluate_event_detector(annotated_video, screen_event_detector)\n",
    "        num_successes_total += num_successes\n",
    "        num_trials_total += num_trials\n",
    "    accuracy = 1.0 * num_successes_total / num_trials_total\n",
    "    return accuracy"
   ]
  },
  {
   "cell_type": "code",
   "execution_count": 4,
   "metadata": {},
   "outputs": [
    {
     "name": "stdout",
     "output_type": "stream",
     "text": [
      "The highest max_mean_distance with perfect accuracy after 480 rounds of binary search: 0.12336959687424347\n"
     ]
    }
   ],
   "source": [
    "start_time = datetime.now()\n",
    "num_iterations = 0\n",
    "while True:\n",
    "    limit = lower_limit + 0.5 * (upper_limit - lower_limit)\n",
    "    value = accuracy(limit)\n",
    "    if value < 1.0:\n",
    "        best_limit = lower_limit\n",
    "        upper_limit = limit\n",
    "    else:\n",
    "        best_limit = limit\n",
    "        lower_limit = limit\n",
    "    num_iterations += 1\n",
    "    if datetime.now() - start_time > duration:\n",
    "        break\n",
    "print(\n",
    "    'The highest max_mean_distance with perfect accuracy after {} rounds of binary search: {}'.format(\n",
    "        num_iterations,\n",
    "        best_limit,\n",
    "    )\n",
    ")"
   ]
  }
 ],
 "metadata": {
  "kernelspec": {
   "display_name": "Python 3",
   "language": "python",
   "name": "python3"
  },
  "language_info": {
   "codemirror_mode": {
    "name": "ipython",
    "version": 3
   },
   "file_extension": ".py",
   "mimetype": "text/x-python",
   "name": "python",
   "nbconvert_exporter": "python",
   "pygments_lexer": "ipython3",
   "version": "3.7.3"
  }
 },
 "nbformat": 4,
 "nbformat_minor": 4
}
