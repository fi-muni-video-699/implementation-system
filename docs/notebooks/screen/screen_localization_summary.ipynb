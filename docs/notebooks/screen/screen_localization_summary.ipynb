{
 "cells": [
  {
   "cell_type": "code",
   "execution_count": 1,
   "metadata": {},
   "outputs": [
    {
     "name": "stdout",
     "output_type": "stream",
     "text": [
      "CPU times: user 5.89 s, sys: 1.2 s, total: 7.09 s\n",
      "Wall time: 20.4 s\n"
     ]
    }
   ],
   "source": [
    "%%time\n",
    "from functools import partial\n",
    "from collections import defaultdict, namedtuple\n",
    "import numpy as np\n",
    "import pandas as pd\n",
    "import scipy\n",
    "from sklearn.model_selection import KFold\n",
    "from tqdm.notebook import tqdm\n",
    "from itertools import product\n",
    "import time\n",
    "\n",
    "from video699.screen.semantic_segmentation.fastai_detector import *\n",
    "from video699.screen.semantic_segmentation.common import *\n",
    "from video699.screen.semantic_segmentation.postprocessing import *\n",
    "from video699.screen.semantic_segmentation.evaluation import *\n",
    "\n",
    "Split = namedtuple('Split', 'train valid')\n",
    "all_lectures = [video.filename for video in ALL_VIDEOS]"
   ]
  },
  {
   "cell_type": "code",
   "execution_count": 6,
   "metadata": {},
   "outputs": [],
   "source": [
    "detector= FastAIScreenDetector()\n",
    "method_params = list(detector.methods.keys())\n",
    "train_params = list(detector.train_params.keys())\n",
    "all_frames = [frame for video in ALL_VIDEOS for frame in video]"
   ]
  },
  {
   "cell_type": "code",
   "execution_count": 7,
   "metadata": {},
   "outputs": [],
   "source": [
    "def get_best_params(df):\n",
    "    unhashable_columns = ['frozen_lr', 'unfrozen_lr', 'base_factors', 'erode_dilate_factors']\n",
    "    df[unhashable_columns] = df[unhashable_columns].astype(str)\n",
    "    df['wrong_count'] = df['wrong_count'].astype(int)\n",
    "    best_params = df.groupby(train_params + method_params).mean().sort_values(by=['wrong_count', 'iou']).iloc[0].name\n",
    "\n",
    "    converted_params = []\n",
    "    for i, par in enumerate(best_params):\n",
    "        if isinstance(par, np.int64) or isinstance(par, np.float64):\n",
    "            converted_params.append(par.item())\n",
    "        else:\n",
    "            converted_params.append(par)\n",
    "    best_params = tuple(converted_params)\n",
    "\n",
    "    best_methods = dict(zip(method_params, best_params[-len(method_params):]))\n",
    "    best_train_params_dict = dict(zip(train_params, best_params[:len(train_params)]))\n",
    "    best_train_params_dict['frozen_lr'] = eval(best_train_params_dict['frozen_lr'])\n",
    "    best_train_params_dict['unfrozen_lr'] = eval(best_train_params_dict['unfrozen_lr'])\n",
    "    best_methods['base_factors'] = eval(best_methods['base_factors'])\n",
    "    best_methods['erode_dilate_factors'] = eval(best_methods['erode_dilate_factors'])\n",
    "    return best_methods, best_train_params_dict"
   ]
  },
  {
   "cell_type": "code",
   "execution_count": 8,
   "metadata": {
    "scrolled": true
   },
   "outputs": [
    {
     "name": "stderr",
     "output_type": "stream",
     "text": [
      "5it [00:00, 1177.18it/s]\n"
     ]
    }
   ],
   "source": [
    "kf = KFold(n_splits=5, shuffle=True, random_state=123)\n",
    "outer_splits = {}\n",
    "for i, split in tqdm(enumerate(kf.split(all_lectures))):\n",
    "    other_lectures = [all_lectures[index] for index in split[0]]\n",
    "    test_lectures = [all_lectures[index] for index in split[1]]\n",
    "    outer_splits[i] = Split(train=other_lectures, valid=test_lectures)"
   ]
  },
  {
   "cell_type": "markdown",
   "metadata": {},
   "source": [
    "## Cross validation summary"
   ]
  },
  {
   "cell_type": "code",
   "execution_count": 9,
   "metadata": {},
   "outputs": [],
   "source": [
    "df_cv = pd.read_csv(\"cross_validation_results.csv\", usecols = [i for i in range(1, 21)])"
   ]
  },
  {
   "cell_type": "code",
   "execution_count": 12,
   "metadata": {},
   "outputs": [
    {
     "data": {
      "text/html": [
       "<div>\n",
       "<style scoped>\n",
       "    .dataframe tbody tr th:only-of-type {\n",
       "        vertical-align: middle;\n",
       "    }\n",
       "\n",
       "    .dataframe tbody tr th {\n",
       "        vertical-align: top;\n",
       "    }\n",
       "\n",
       "    .dataframe thead th {\n",
       "        text-align: right;\n",
       "    }\n",
       "</style>\n",
       "<table border=\"1\" class=\"dataframe\">\n",
       "  <thead>\n",
       "    <tr style=\"text-align: right;\">\n",
       "      <th></th>\n",
       "      <th>batch_size</th>\n",
       "      <th>resize_factor</th>\n",
       "      <th>frozen_epochs</th>\n",
       "      <th>unfrozen_epochs</th>\n",
       "      <th>frozen_lr</th>\n",
       "      <th>unfrozen_lr</th>\n",
       "      <th>base</th>\n",
       "      <th>erode_dilate</th>\n",
       "      <th>ratio_split</th>\n",
       "      <th>base_lower_bound</th>\n",
       "      <th>base_upper_bound</th>\n",
       "      <th>base_factors</th>\n",
       "      <th>erode_dilate_lower_bound</th>\n",
       "      <th>erode_dilate_upper_bound</th>\n",
       "      <th>erode_dilate_factors</th>\n",
       "      <th>erode_dilate_iterations</th>\n",
       "      <th>ratio_split_lower_bound</th>\n",
       "      <th>ratio_split_upper_bound</th>\n",
       "      <th>iou</th>\n",
       "      <th>wrong_count</th>\n",
       "    </tr>\n",
       "  </thead>\n",
       "  <tbody>\n",
       "    <tr>\n",
       "      <th>0</th>\n",
       "      <td>8</td>\n",
       "      <td>2</td>\n",
       "      <td>9</td>\n",
       "      <td>10</td>\n",
       "      <td>0.001</td>\n",
       "      <td>slice(0.0001, 0.0002, None)</td>\n",
       "      <td>True</td>\n",
       "      <td>True</td>\n",
       "      <td>True</td>\n",
       "      <td>10</td>\n",
       "      <td>70</td>\n",
       "      <td>[0.1, 0.01]</td>\n",
       "      <td>5</td>\n",
       "      <td>40</td>\n",
       "      <td>[0.1, 0.01]</td>\n",
       "      <td>100</td>\n",
       "      <td>0.9</td>\n",
       "      <td>1.5</td>\n",
       "      <td>0.952741</td>\n",
       "      <td>0</td>\n",
       "    </tr>\n",
       "    <tr>\n",
       "      <th>1</th>\n",
       "      <td>8</td>\n",
       "      <td>2</td>\n",
       "      <td>9</td>\n",
       "      <td>10</td>\n",
       "      <td>0.001</td>\n",
       "      <td>slice(0.0001, 0.0002, None)</td>\n",
       "      <td>True</td>\n",
       "      <td>True</td>\n",
       "      <td>True</td>\n",
       "      <td>10</td>\n",
       "      <td>70</td>\n",
       "      <td>[0.1, 0.01]</td>\n",
       "      <td>5</td>\n",
       "      <td>40</td>\n",
       "      <td>[0.1, 0.01]</td>\n",
       "      <td>100</td>\n",
       "      <td>0.9</td>\n",
       "      <td>1.5</td>\n",
       "      <td>0.970236</td>\n",
       "      <td>0</td>\n",
       "    </tr>\n",
       "    <tr>\n",
       "      <th>2</th>\n",
       "      <td>8</td>\n",
       "      <td>2</td>\n",
       "      <td>9</td>\n",
       "      <td>10</td>\n",
       "      <td>0.001</td>\n",
       "      <td>slice(0.0001, 0.0002, None)</td>\n",
       "      <td>True</td>\n",
       "      <td>True</td>\n",
       "      <td>True</td>\n",
       "      <td>10</td>\n",
       "      <td>70</td>\n",
       "      <td>[0.1, 0.01]</td>\n",
       "      <td>5</td>\n",
       "      <td>40</td>\n",
       "      <td>[0.1, 0.01]</td>\n",
       "      <td>100</td>\n",
       "      <td>0.9</td>\n",
       "      <td>1.5</td>\n",
       "      <td>0.942571</td>\n",
       "      <td>1</td>\n",
       "    </tr>\n",
       "    <tr>\n",
       "      <th>3</th>\n",
       "      <td>8</td>\n",
       "      <td>2</td>\n",
       "      <td>9</td>\n",
       "      <td>10</td>\n",
       "      <td>0.001</td>\n",
       "      <td>slice(0.0001, 0.0002, None)</td>\n",
       "      <td>True</td>\n",
       "      <td>True</td>\n",
       "      <td>True</td>\n",
       "      <td>10</td>\n",
       "      <td>70</td>\n",
       "      <td>[0.1, 0.01]</td>\n",
       "      <td>5</td>\n",
       "      <td>40</td>\n",
       "      <td>[0.1, 0.01]</td>\n",
       "      <td>100</td>\n",
       "      <td>0.9</td>\n",
       "      <td>1.5</td>\n",
       "      <td>0.929329</td>\n",
       "      <td>0</td>\n",
       "    </tr>\n",
       "    <tr>\n",
       "      <th>4</th>\n",
       "      <td>8</td>\n",
       "      <td>2</td>\n",
       "      <td>9</td>\n",
       "      <td>10</td>\n",
       "      <td>0.001</td>\n",
       "      <td>slice(0.0001, 0.0002, None)</td>\n",
       "      <td>True</td>\n",
       "      <td>True</td>\n",
       "      <td>True</td>\n",
       "      <td>10</td>\n",
       "      <td>70</td>\n",
       "      <td>[0.1, 0.01]</td>\n",
       "      <td>5</td>\n",
       "      <td>40</td>\n",
       "      <td>[0.1, 0.01]</td>\n",
       "      <td>100</td>\n",
       "      <td>0.9</td>\n",
       "      <td>1.5</td>\n",
       "      <td>0.960310</td>\n",
       "      <td>0</td>\n",
       "    </tr>\n",
       "  </tbody>\n",
       "</table>\n",
       "</div>"
      ],
      "text/plain": [
       "   batch_size  resize_factor  frozen_epochs  unfrozen_epochs frozen_lr  \\\n",
       "0           8              2              9               10     0.001   \n",
       "1           8              2              9               10     0.001   \n",
       "2           8              2              9               10     0.001   \n",
       "3           8              2              9               10     0.001   \n",
       "4           8              2              9               10     0.001   \n",
       "\n",
       "                   unfrozen_lr  base  erode_dilate  ratio_split  \\\n",
       "0  slice(0.0001, 0.0002, None)  True          True         True   \n",
       "1  slice(0.0001, 0.0002, None)  True          True         True   \n",
       "2  slice(0.0001, 0.0002, None)  True          True         True   \n",
       "3  slice(0.0001, 0.0002, None)  True          True         True   \n",
       "4  slice(0.0001, 0.0002, None)  True          True         True   \n",
       "\n",
       "   base_lower_bound  base_upper_bound base_factors  erode_dilate_lower_bound  \\\n",
       "0                10                70  [0.1, 0.01]                         5   \n",
       "1                10                70  [0.1, 0.01]                         5   \n",
       "2                10                70  [0.1, 0.01]                         5   \n",
       "3                10                70  [0.1, 0.01]                         5   \n",
       "4                10                70  [0.1, 0.01]                         5   \n",
       "\n",
       "   erode_dilate_upper_bound erode_dilate_factors  erode_dilate_iterations  \\\n",
       "0                        40          [0.1, 0.01]                      100   \n",
       "1                        40          [0.1, 0.01]                      100   \n",
       "2                        40          [0.1, 0.01]                      100   \n",
       "3                        40          [0.1, 0.01]                      100   \n",
       "4                        40          [0.1, 0.01]                      100   \n",
       "\n",
       "   ratio_split_lower_bound  ratio_split_upper_bound       iou  wrong_count  \n",
       "0                      0.9                      1.5  0.952741            0  \n",
       "1                      0.9                      1.5  0.970236            0  \n",
       "2                      0.9                      1.5  0.942571            1  \n",
       "3                      0.9                      1.5  0.929329            0  \n",
       "4                      0.9                      1.5  0.960310            0  "
      ]
     },
     "execution_count": 12,
     "metadata": {},
     "output_type": "execute_result"
    }
   ],
   "source": [
    "df_cv"
   ]
  },
  {
   "cell_type": "code",
   "execution_count": 10,
   "metadata": {},
   "outputs": [
    {
     "data": {
      "text/plain": [
       "({'base': True,\n",
       "  'erode_dilate': True,\n",
       "  'ratio_split': True,\n",
       "  'base_lower_bound': 10,\n",
       "  'base_upper_bound': 70,\n",
       "  'base_factors': [0.1, 0.01],\n",
       "  'erode_dilate_lower_bound': 5,\n",
       "  'erode_dilate_upper_bound': 40,\n",
       "  'erode_dilate_factors': [0.1, 0.01],\n",
       "  'erode_dilate_iterations': 100,\n",
       "  'ratio_split_lower_bound': 0.9,\n",
       "  'ratio_split_upper_bound': 1.5},\n",
       " {'batch_size': 8,\n",
       "  'resize_factor': 2,\n",
       "  'frozen_epochs': 9,\n",
       "  'unfrozen_epochs': 10,\n",
       "  'frozen_lr': 0.001,\n",
       "  'unfrozen_lr': slice(0.0001, 0.0002, None)})"
      ]
     },
     "execution_count": 10,
     "metadata": {},
     "output_type": "execute_result"
    }
   ],
   "source": [
    "get_best_params(df_cv)"
   ]
  },
  {
   "cell_type": "code",
   "execution_count": 13,
   "metadata": {},
   "outputs": [
    {
     "data": {
      "text/plain": [
       "0.0488997555012225"
      ]
     },
     "execution_count": 13,
     "metadata": {},
     "output_type": "execute_result"
    }
   ],
   "source": [
    "percentage_of_missed_screens  = df_cv['wrong_count'].mean() / len(all_frames) * 100\n",
    "percentage_of_missed_screens"
   ]
  },
  {
   "cell_type": "code",
   "execution_count": 14,
   "metadata": {
    "pycharm": {
     "name": "#%%\n"
    }
   },
   "outputs": [
    {
     "data": {
      "text/plain": [
       "95.1037527143004"
      ]
     },
     "execution_count": 14,
     "metadata": {},
     "output_type": "execute_result"
    }
   ],
   "source": [
    "iou_score = df_cv['iou'].mean() * 100\n",
    "iou_score"
   ]
  },
  {
   "cell_type": "markdown",
   "metadata": {
    "pycharm": {
     "name": "#%% md\n"
    }
   },
   "source": [
    "### Outer splits with most missed screens"
   ]
  },
  {
   "cell_type": "code",
   "execution_count": 16,
   "metadata": {
    "scrolled": true,
    "pycharm": {
     "name": "#%%\n"
    }
   },
   "outputs": [
    {
     "name": "stdout",
     "output_type": "stream",
     "text": [
      "['PA159-D1-20121004.avi', 'PV211-D2-20160315.mp4', 'PB029-D3-20161026.mp4']\n"
     ]
    }
   ],
   "source": [
    "for i in list(df_cv[df_cv['wrong_count'] > 0].index):\n",
    "    print(outer_splits[i].valid)"
   ]
  },
  {
   "cell_type": "markdown",
   "metadata": {
    "pycharm": {
     "name": "#%% md\n"
    }
   },
   "source": [
    "### Outer splits with worst iou"
   ]
  },
  {
   "cell_type": "code",
   "execution_count": 50,
   "metadata": {
    "pycharm": {
     "name": "#%%\n"
    }
   },
   "outputs": [
    {
     "name": "stdout",
     "output_type": "stream",
     "text": [
      "['PV112-D2-20130311.avi', 'PB156-D1-20130312.avi', 'PB069-D2-20140305.mp4']\n"
     ]
    }
   ],
   "source": [
    "for i in list(df_cv[df_cv['iou'] < 0.6].index):\n",
    "    print(outer_splits[i].valid)"
   ]
  },
  {
   "cell_type": "markdown",
   "metadata": {
    "pycharm": {
     "name": "#%% md\n"
    }
   },
   "source": [
    "## Model selection summary"
   ]
  },
  {
   "cell_type": "code",
   "execution_count": 51,
   "metadata": {},
   "outputs": [],
   "source": [
    "df_ms = pd.read_csv(\"model_selection.csv\", usecols = [i for i in range(1, 21)])"
   ]
  },
  {
   "cell_type": "code",
   "execution_count": 56,
   "metadata": {},
   "outputs": [],
   "source": [
    "unhashable_columns = ['frozen_lr', 'unfrozen_lr', 'base_factors', 'erode_dilate_factors']\n",
    "df_ms[unhashable_columns] = df_ms[unhashable_columns].astype(str)\n",
    "df_ms['wrong_count'] = df_ms['wrong_count'].astype(int)\n",
    "best_params = df_ms.groupby(train_params + method_params).mean().sort_values(by=['wrong_count', 'iou']).iloc[0].name\n",
    "\n",
    "converted_params = []\n",
    "for i, par in enumerate(best_params):\n",
    "    if isinstance(par, np.int64) or isinstance(par, np.float64):\n",
    "        converted_params.append(par.item())\n",
    "    else:\n",
    "        converted_params.append(par)\n",
    "best_params = tuple(converted_params)\n",
    "\n",
    "best_methods = dict(zip(method_params, best_params[-len(method_params):]))\n",
    "best_train_params_dict = dict(zip(train_params, best_params[:len(train_params)]))\n",
    "best_train_params_dict['frozen_lr'] = eval(best_train_params_dict['frozen_lr'])\n",
    "best_train_params_dict['unfrozen_lr'] = eval(best_train_params_dict['unfrozen_lr'])\n",
    "best_methods['base_factors'] = eval(best_methods['base_factors'])\n",
    "best_methods['erode_dilate_factors'] = eval(best_methods['erode_dilate_factors'])"
   ]
  },
  {
   "cell_type": "code",
   "execution_count": 58,
   "metadata": {},
   "outputs": [
    {
     "data": {
      "text/plain": [
       "({'base': True,\n",
       "  'erode_dilate': True,\n",
       "  'ratio_split': True,\n",
       "  'base_lower_bound': 7,\n",
       "  'base_upper_bound': 70,\n",
       "  'base_factors': [0.1, 0.01],\n",
       "  'erode_dilate_lower_bound': 7,\n",
       "  'erode_dilate_upper_bound': 70,\n",
       "  'erode_dilate_factors': [0.1, 0.01],\n",
       "  'erode_dilate_iterations': 40,\n",
       "  'ratio_split_lower_bound': 0.7,\n",
       "  'ratio_split_upper_bound': 1.5},\n",
       " {'batch_size': 8,\n",
       "  'resize_factor': 2,\n",
       "  'frozen_epochs': 2,\n",
       "  'unfrozen_epochs': 3,\n",
       "  'frozen_lr': 0.0001,\n",
       "  'unfrozen_lr': slice(0.0001, 0.0002, None)})"
      ]
     },
     "execution_count": 58,
     "metadata": {},
     "output_type": "execute_result"
    }
   ],
   "source": [
    "best_methods, best_train_params_dict"
   ]
  },
  {
   "cell_type": "code",
   "execution_count": null,
   "outputs": [],
   "source": [],
   "metadata": {
    "collapsed": false,
    "pycharm": {
     "name": "#%%\n"
    }
   }
  },
  {
   "cell_type": "code",
   "execution_count": null,
   "metadata": {},
   "outputs": [],
   "source": []
  }
 ],
 "metadata": {
  "kernelspec": {
   "display_name": "Python 3",
   "language": "python",
   "name": "python3"
  },
  "language_info": {
   "codemirror_mode": {
    "name": "ipython",
    "version": 3
   },
   "file_extension": ".py",
   "mimetype": "text/x-python",
   "name": "python",
   "nbconvert_exporter": "python",
   "pygments_lexer": "ipython3",
   "version": "3.7.4"
  }
 },
 "nbformat": 4,
 "nbformat_minor": 4
}