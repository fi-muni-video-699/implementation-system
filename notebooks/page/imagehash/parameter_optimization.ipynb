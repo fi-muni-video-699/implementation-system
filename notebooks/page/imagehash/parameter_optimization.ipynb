{
 "cells": [
  {
   "cell_type": "markdown",
   "metadata": {},
   "source": [
    "## Optimizing `max_distance` and `hash_function` parameters of `ImageHashPageDetector`"
   ]
  },
  {
   "cell_type": "code",
   "execution_count": 1,
   "metadata": {},
   "outputs": [],
   "source": [
    "from itertools import product\n",
    "\n",
    "from video699.configuration import get_configuration\n",
    "from video699.video.annotated import (\n",
    "    AnnotatedSampledVideoScreenDetector,\n",
    "    evaluate_event_detector,\n",
    "    get_videos,\n",
    ")\n",
    "from video699.page.imagehash import ImageHashPageDetector\n",
    "from video699.quadrangle.rtree import RTreeDequeConvexQuadrangleTracker\n",
    "from video699.event.screen import ScreenEventDetector\n",
    "\n",
    "\n",
    "CONFIGURATION = get_configuration()['ImageHashPageDetector']"
   ]
  },
  {
   "cell_type": "code",
   "execution_count": 2,
   "metadata": {},
   "outputs": [],
   "source": [
    "def accuracy(max_distance, hash_function):\n",
    "    CONFIGURATION['max_distance'] = str(max_distance)\n",
    "    CONFIGURATION['hash_function'] = hash_function\n",
    "    num_successes_total = 0\n",
    "    num_trials_total = 0\n",
    "    for annotated_video in get_videos().values():\n",
    "        convex_quadrangle_tracker = RTreeDequeConvexQuadrangleTracker(2)\n",
    "        screen_detector = AnnotatedSampledVideoScreenDetector()\n",
    "        documents = annotated_video.documents.values()\n",
    "        page_detector = ImageHashPageDetector(documents)\n",
    "        screen_event_detector = ScreenEventDetector(\n",
    "            annotated_video,\n",
    "            convex_quadrangle_tracker,\n",
    "            screen_detector,\n",
    "            page_detector\n",
    "        )\n",
    "        num_successes, num_trials = evaluate_event_detector(annotated_video, screen_event_detector)\n",
    "        num_successes_total += num_successes\n",
    "        num_trials_total += num_trials\n",
    "    accuracy = 1.0 * num_successes_total / num_trials_total\n",
    "    return accuracy"
   ]
  },
  {
   "cell_type": "code",
   "execution_count": 3,
   "metadata": {},
   "outputs": [
    {
     "name": "stdout",
     "output_type": "stream",
     "text": [
      "Optimal parameters (accuracy 0.37163814180929094):\n",
      "- max_distance:  22\n",
      "- hash_function: phash\n",
      "CPU times: user 1d 18h 46min 51s, sys: 9h 12min 36s, total: 2d 3h 59min 28s\n",
      "Wall time: 2d 1h 32min 36s\n"
     ]
    }
   ],
   "source": [
    "%%time\n",
    "max_distances = range(0, 64 + 1, 1)\n",
    "hash_functions = ['average_hash', 'phash', 'dhash', 'whash']\n",
    "parameters = list(product(max_distances, hash_functions))\n",
    "accuracies = [accuracy(*parameter) for parameter in parameters]\n",
    "\n",
    "best_accuracy, (best_max_distance, best_hash_function) = max(zip(accuracies, parameters))\n",
    "print('Optimal parameters (accuracy {}):'.format(best_accuracy))\n",
    "print('- max_distance:  {}'.format(best_max_distance))\n",
    "print('- hash_function: {}'.format(best_hash_function))"
   ]
  }
 ],
 "metadata": {
  "kernelspec": {
   "display_name": "Python 3",
   "language": "python",
   "name": "python3"
  },
  "language_info": {
   "codemirror_mode": {
    "name": "ipython",
    "version": 3
   },
   "file_extension": ".py",
   "mimetype": "text/x-python",
   "name": "python",
   "nbconvert_exporter": "python",
   "pygments_lexer": "ipython3",
   "version": "3.7.3"
  }
 },
 "nbformat": 4,
 "nbformat_minor": 4
}
