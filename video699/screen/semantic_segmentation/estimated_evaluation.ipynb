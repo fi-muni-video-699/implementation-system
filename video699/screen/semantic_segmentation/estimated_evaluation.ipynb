{
 "cells": [
  {
   "cell_type": "code",
   "execution_count": 1,
   "metadata": {
    "pycharm": {
     "is_executing": true,
     "name": "#%%\n"
    }
   },
   "outputs": [],
   "source": [
    "# from google.colab import drive\n",
    "# drive.mount('/content/drive')\n",
    "# %cd /content/drive/My\\ Drive\n",
    "# %tensorflow_version 1.x\n",
    "# # !git clone --recurse-submodules https://github.com/xbankov/implementation-system.git\n",
    "# %cd implementation-system/\n",
    "# !git pull\n",
    "# !sudo apt-get install libspatialindex-dev libxml2-dev libxslt-dev python-dev python3-xdg"
   ]
  },
  {
   "cell_type": "code",
   "execution_count": 2,
   "metadata": {
    "pycharm": {
     "name": "#%%\n"
    }
   },
   "outputs": [
    {
     "name": "stdout",
     "output_type": "stream",
     "text": [
      "CPU times: user 4 µs, sys: 0 ns, total: 4 µs\n",
      "Wall time: 8.34 µs\n"
     ]
    }
   ],
   "source": [
    "%%time\n",
    "# !pip install --no-deps ."
   ]
  },
  {
   "cell_type": "code",
   "execution_count": 3,
   "metadata": {
    "colab": {},
    "colab_type": "code",
    "id": "7t1ISZ87AamU",
    "pycharm": {
     "is_executing": true
    }
   },
   "outputs": [],
   "source": [
    "from functools import partial\n",
    "from collections import defaultdict\n",
    "import numpy as np\n",
    "import pandas as pd\n",
    "import scipy\n",
    "from sklearn.model_selection import KFold\n",
    "from tqdm.notebook import tqdm\n",
    "from itertools import product\n",
    "import time\n",
    "\n",
    "from video699.screen.semantic_segmentation.fastai_detector import *\n",
    "from video699.screen.semantic_segmentation.common import *\n",
    "from video699.screen.semantic_segmentation.postprocessing import *\n",
    "from video699.screen.semantic_segmentation.evaluation import *"
   ]
  },
  {
   "cell_type": "code",
   "execution_count": 4,
   "metadata": {
    "colab": {},
    "colab_type": "code",
    "id": "HeB3jlspYf9m",
    "pycharm": {
     "is_executing": false
    }
   },
   "outputs": [],
   "source": [
    "detector = FastAIScreenDetector()\n",
    "method_params = list(detector.methods.keys())\n",
    "train_params = list(detector.train_params.keys())\n",
    "all_params = train_params + method_params"
   ]
  },
  {
   "cell_type": "code",
   "execution_count": 5,
   "metadata": {
    "colab": {},
    "colab_type": "code",
    "id": "DE_2h_0o4cEb"
   },
   "outputs": [],
   "source": [
    "base = [True]\n",
    "base_lower_bounds = [5, 7]\n",
    "base_upper_bounds = [40, 70]\n",
    "base_factors = [[0.1, 0.01]]\n",
    "\n",
    "erode_dilate = [True]\n",
    "erode_dilate_lower_bounds = [5, 7, 15]\n",
    "erode_dilate_upper_bounds = [40, 50]\n",
    "erode_dilate_factors = [[0.1, 0.01]]\n",
    "erode_dilate_iterations = [40, 100]\n",
    "\n",
    "ratio_split = [True]\n",
    "ratio_split_lower_bounds = [0.7, 0.9]\n",
    "ratio_split_upper_bounds = [1.1, 1.5]\n",
    "\n",
    "methods_values = [base] + [erode_dilate] + [ratio_split] + [base_lower_bounds] + [base_upper_bounds] \\\n",
    "        + [base_factors] + [erode_dilate_lower_bounds] + [erode_dilate_upper_bounds] + [erode_dilate_factors] \\\n",
    "        + [erode_dilate_iterations] + [ratio_split_lower_bounds] + [ratio_split_upper_bounds]"
   ]
  },
  {
   "cell_type": "code",
   "execution_count": 6,
   "metadata": {
    "colab": {},
    "colab_type": "code",
    "id": "-bqnCbVz4cJY"
   },
   "outputs": [],
   "source": [
    "batch_size = [8]\n",
    "resize_factor = [2, 4]\n",
    "frozen_epochs = [7, 11]\n",
    "unfrozen_epochs = [6, 11]\n",
    "frozen_lr = [1e-2, 1e-3, 1e-4]\n",
    "unfrozen_lr = [slice(1e-4, 2e-4), slice(1e-3, 1e-4)]\n",
    "\n",
    "train_params_values = [batch_size] + [resize_factor] + [frozen_epochs] + [unfrozen_epochs] + [frozen_lr] + [unfrozen_lr]"
   ]
  },
  {
   "cell_type": "code",
   "execution_count": 7,
   "metadata": {
    "colab": {},
    "colab_type": "code",
    "id": "R-VihPIaQDWN"
   },
   "outputs": [],
   "source": [
    "method_settings = list(product(*methods_values))\n",
    "train_settings = list(product(*train_params_values))"
   ]
  },
  {
   "cell_type": "code",
   "execution_count": 8,
   "metadata": {
    "colab": {},
    "colab_type": "code",
    "id": "9W3oDgAp4ape"
   },
   "outputs": [],
   "source": [
    "all_lectures = [video.filename for video in ALL_VIDEOS]\n",
    "all_frames = [frame for video in ALL_VIDEOS for frame in video]\n",
    "all_frames_grouped_by_videos = {video.filename: [frame for frame in video] for video in ALL_VIDEOS}\n",
    "actual_detector = AnnotatedSampledVideoScreenDetector()"
   ]
  },
  {
   "cell_type": "code",
   "execution_count": 9,
   "metadata": {},
   "outputs": [],
   "source": [
    "DEBUG_ENV = None"
   ]
  },
  {
   "cell_type": "code",
   "execution_count": 10,
   "metadata": {
    "colab": {},
    "colab_type": "code",
    "id": "r9UR7a4D4bu-",
    "pycharm": {
     "name": "#%%\n"
    }
   },
   "outputs": [
    {
     "name": "stderr",
     "output_type": "stream",
     "text": [
      "\r",
      "  0%|          | 0/2 [00:00<?, ?it/s]"
     ]
    },
    {
     "data": {
      "text/html": [
       "<table border=\"1\" class=\"dataframe\">\n",
       "  <thead>\n",
       "    <tr style=\"text-align: left;\">\n",
       "      <th>epoch</th>\n",
       "      <th>train_loss</th>\n",
       "      <th>valid_loss</th>\n",
       "      <th>acc</th>\n",
       "      <th>dice</th>\n",
       "      <th>iou</th>\n",
       "      <th>time</th>\n",
       "    </tr>\n",
       "  </thead>\n",
       "  <tbody>\n",
       "    <tr>\n",
       "      <td>0</td>\n",
       "      <td>0.504003</td>\n",
       "      <td>0.206067</td>\n",
       "      <td>0.958636</td>\n",
       "      <td>0.938684</td>\n",
       "      <td>0.894617</td>\n",
       "      <td>00:20</td>\n",
       "    </tr>\n",
       "  </tbody>\n",
       "</table>"
      ],
      "text/plain": [
       "<IPython.core.display.HTML object>"
      ]
     },
     "metadata": {},
     "output_type": "display_data"
    },
    {
     "name": "stdout",
     "output_type": "stream",
     "text": [
      "Iterating through 192 methods in split 0.\n"
     ]
    },
    {
     "ename": "ValueError",
     "evalue": "not enough values to unpack (expected 3, got 2)",
     "output_type": "error",
     "traceback": [
      "\u001b[0;31m---------------------------------------------------------------------------\u001b[0m",
      "\u001b[0;31mValueError\u001b[0m                                Traceback (most recent call last)",
      "\u001b[0;32m<ipython-input-10-72242d97da73>\u001b[0m in \u001b[0;36m<module>\u001b[0;34m\u001b[0m\n\u001b[1;32m     40\u001b[0m \u001b[0;34m\u001b[0m\u001b[0m\n\u001b[1;32m     41\u001b[0m             \u001b[0;32mfor\u001b[0m \u001b[0mi\u001b[0m\u001b[0;34m,\u001b[0m \u001b[0mmethod_setting\u001b[0m \u001b[0;32min\u001b[0m \u001b[0menumerate\u001b[0m\u001b[0;34m(\u001b[0m\u001b[0mmethod_settings\u001b[0m\u001b[0;34m[\u001b[0m\u001b[0;34m:\u001b[0m\u001b[0;36m5\u001b[0m\u001b[0;34m]\u001b[0m\u001b[0;34m)\u001b[0m\u001b[0;34m:\u001b[0m\u001b[0;34m\u001b[0m\u001b[0;34m\u001b[0m\u001b[0m\n\u001b[0;32m---> 42\u001b[0;31m                 \u001b[0mpreds\u001b[0m \u001b[0;34m=\u001b[0m \u001b[0mdetector\u001b[0m\u001b[0;34m.\u001b[0m\u001b[0mpost_processing_batch\u001b[0m\u001b[0;34m(\u001b[0m\u001b[0msem_preds\u001b[0m\u001b[0;34m,\u001b[0m \u001b[0mvalid_frames\u001b[0m\u001b[0;34m,\u001b[0m \u001b[0mdict\u001b[0m\u001b[0;34m(\u001b[0m\u001b[0mzip\u001b[0m\u001b[0;34m(\u001b[0m\u001b[0mmethod_params\u001b[0m\u001b[0;34m,\u001b[0m \u001b[0mmethod_setting\u001b[0m\u001b[0;34m)\u001b[0m\u001b[0;34m)\u001b[0m\u001b[0;34m)\u001b[0m\u001b[0;34m\u001b[0m\u001b[0;34m\u001b[0m\u001b[0m\n\u001b[0m\u001b[1;32m     43\u001b[0m                 \u001b[0mwrong_count\u001b[0m\u001b[0;34m,\u001b[0m \u001b[0mious\u001b[0m\u001b[0;34m,\u001b[0m \u001b[0m_\u001b[0m \u001b[0;34m=\u001b[0m \u001b[0mevaluate\u001b[0m\u001b[0;34m(\u001b[0m\u001b[0mactuals\u001b[0m\u001b[0;34m,\u001b[0m \u001b[0mpreds\u001b[0m\u001b[0;34m)\u001b[0m\u001b[0;34m\u001b[0m\u001b[0;34m\u001b[0m\u001b[0m\n\u001b[1;32m     44\u001b[0m \u001b[0;34m\u001b[0m\u001b[0m\n",
      "\u001b[0;32m~/anaconda3/envs/video699/lib/python3.7/site-packages/video699/screen/semantic_segmentation/fastai_detector.py\u001b[0m in \u001b[0;36mpost_processing_batch\u001b[0;34m(self, preds, frames, methods)\u001b[0m\n\u001b[1;32m    204\u001b[0m         \u001b[0;32mif\u001b[0m \u001b[0mmethods\u001b[0m \u001b[0;32mis\u001b[0m \u001b[0;32mNone\u001b[0m\u001b[0;34m:\u001b[0m\u001b[0;34m\u001b[0m\u001b[0;34m\u001b[0m\u001b[0m\n\u001b[1;32m    205\u001b[0m             \u001b[0mmethods\u001b[0m \u001b[0;34m=\u001b[0m \u001b[0mself\u001b[0m\u001b[0;34m.\u001b[0m\u001b[0mmethods\u001b[0m\u001b[0;34m\u001b[0m\u001b[0;34m\u001b[0m\u001b[0m\n\u001b[0;32m--> 206\u001b[0;31m         \u001b[0;32mreturn\u001b[0m \u001b[0;34m[\u001b[0m\u001b[0mself\u001b[0m\u001b[0;34m.\u001b[0m\u001b[0mpost_processing\u001b[0m\u001b[0;34m(\u001b[0m\u001b[0mpreds\u001b[0m\u001b[0;34m,\u001b[0m \u001b[0mframes\u001b[0m\u001b[0;34m,\u001b[0m \u001b[0mmethods\u001b[0m\u001b[0;34m)\u001b[0m \u001b[0;32mfor\u001b[0m \u001b[0mpreds\u001b[0m\u001b[0;34m,\u001b[0m \u001b[0mframes\u001b[0m \u001b[0;32min\u001b[0m \u001b[0mzip\u001b[0m\u001b[0;34m(\u001b[0m\u001b[0mpreds\u001b[0m\u001b[0;34m,\u001b[0m \u001b[0mframes\u001b[0m\u001b[0;34m)\u001b[0m\u001b[0;34m]\u001b[0m\u001b[0;34m\u001b[0m\u001b[0;34m\u001b[0m\u001b[0m\n\u001b[0m\u001b[1;32m    207\u001b[0m \u001b[0;34m\u001b[0m\u001b[0m\n\u001b[1;32m    208\u001b[0m     \u001b[0;32mdef\u001b[0m \u001b[0mdetect_batch\u001b[0m\u001b[0;34m(\u001b[0m\u001b[0mself\u001b[0m\u001b[0;34m,\u001b[0m \u001b[0mframes\u001b[0m\u001b[0;34m,\u001b[0m \u001b[0mmethods\u001b[0m\u001b[0;34m=\u001b[0m\u001b[0;32mNone\u001b[0m\u001b[0;34m)\u001b[0m\u001b[0;34m:\u001b[0m\u001b[0;34m\u001b[0m\u001b[0;34m\u001b[0m\u001b[0m\n",
      "\u001b[0;32m~/anaconda3/envs/video699/lib/python3.7/site-packages/video699/screen/semantic_segmentation/fastai_detector.py\u001b[0m in \u001b[0;36m<listcomp>\u001b[0;34m(.0)\u001b[0m\n\u001b[1;32m    204\u001b[0m         \u001b[0;32mif\u001b[0m \u001b[0mmethods\u001b[0m \u001b[0;32mis\u001b[0m \u001b[0;32mNone\u001b[0m\u001b[0;34m:\u001b[0m\u001b[0;34m\u001b[0m\u001b[0;34m\u001b[0m\u001b[0m\n\u001b[1;32m    205\u001b[0m             \u001b[0mmethods\u001b[0m \u001b[0;34m=\u001b[0m \u001b[0mself\u001b[0m\u001b[0;34m.\u001b[0m\u001b[0mmethods\u001b[0m\u001b[0;34m\u001b[0m\u001b[0;34m\u001b[0m\u001b[0m\n\u001b[0;32m--> 206\u001b[0;31m         \u001b[0;32mreturn\u001b[0m \u001b[0;34m[\u001b[0m\u001b[0mself\u001b[0m\u001b[0;34m.\u001b[0m\u001b[0mpost_processing\u001b[0m\u001b[0;34m(\u001b[0m\u001b[0mpreds\u001b[0m\u001b[0;34m,\u001b[0m \u001b[0mframes\u001b[0m\u001b[0;34m,\u001b[0m \u001b[0mmethods\u001b[0m\u001b[0;34m)\u001b[0m \u001b[0;32mfor\u001b[0m \u001b[0mpreds\u001b[0m\u001b[0;34m,\u001b[0m \u001b[0mframes\u001b[0m \u001b[0;32min\u001b[0m \u001b[0mzip\u001b[0m\u001b[0;34m(\u001b[0m\u001b[0mpreds\u001b[0m\u001b[0;34m,\u001b[0m \u001b[0mframes\u001b[0m\u001b[0;34m)\u001b[0m\u001b[0;34m]\u001b[0m\u001b[0;34m\u001b[0m\u001b[0;34m\u001b[0m\u001b[0m\n\u001b[0m\u001b[1;32m    207\u001b[0m \u001b[0;34m\u001b[0m\u001b[0m\n\u001b[1;32m    208\u001b[0m     \u001b[0;32mdef\u001b[0m \u001b[0mdetect_batch\u001b[0m\u001b[0;34m(\u001b[0m\u001b[0mself\u001b[0m\u001b[0;34m,\u001b[0m \u001b[0mframes\u001b[0m\u001b[0;34m,\u001b[0m \u001b[0mmethods\u001b[0m\u001b[0;34m=\u001b[0m\u001b[0;32mNone\u001b[0m\u001b[0;34m)\u001b[0m\u001b[0;34m:\u001b[0m\u001b[0;34m\u001b[0m\u001b[0;34m\u001b[0m\u001b[0m\n",
      "\u001b[0;32m~/anaconda3/envs/video699/lib/python3.7/site-packages/video699/screen/semantic_segmentation/fastai_detector.py\u001b[0m in \u001b[0;36mpost_processing\u001b[0;34m(self, pred, frame, methods)\u001b[0m\n\u001b[1;32m    153\u001b[0m         \u001b[0;32mif\u001b[0m \u001b[0mmethods\u001b[0m \u001b[0;32mis\u001b[0m \u001b[0;32mNone\u001b[0m\u001b[0;34m:\u001b[0m\u001b[0;34m\u001b[0m\u001b[0;34m\u001b[0m\u001b[0m\n\u001b[1;32m    154\u001b[0m             \u001b[0mmethods\u001b[0m \u001b[0;34m=\u001b[0m \u001b[0mself\u001b[0m\u001b[0;34m.\u001b[0m\u001b[0mmethods\u001b[0m\u001b[0;34m\u001b[0m\u001b[0;34m\u001b[0m\u001b[0m\n\u001b[0;32m--> 155\u001b[0;31m         \u001b[0mgeos_quadrangles\u001b[0m \u001b[0;34m=\u001b[0m \u001b[0mapproximate\u001b[0m\u001b[0;34m(\u001b[0m\u001b[0mpred\u001b[0m\u001b[0;34m,\u001b[0m \u001b[0mmethods\u001b[0m\u001b[0;34m=\u001b[0m\u001b[0mmethods\u001b[0m\u001b[0;34m)\u001b[0m\u001b[0;34m\u001b[0m\u001b[0;34m\u001b[0m\u001b[0m\n\u001b[0m\u001b[1;32m    156\u001b[0m         \u001b[0msorted_by_top_left_corner\u001b[0m \u001b[0;34m=\u001b[0m \u001b[0msorted\u001b[0m\u001b[0;34m(\u001b[0m\u001b[0mgeos_quadrangles\u001b[0m\u001b[0;34m,\u001b[0m \u001b[0mkey\u001b[0m\u001b[0;34m=\u001b[0m\u001b[0mget_top_left_x\u001b[0m\u001b[0;34m)\u001b[0m\u001b[0;34m\u001b[0m\u001b[0;34m\u001b[0m\u001b[0m\n\u001b[1;32m    157\u001b[0m         return [FastAIScreenDetectorVideoScreen(frame, screen_index, quadrangle) for\n",
      "\u001b[0;32m~/anaconda3/envs/video699/lib/python3.7/site-packages/video699/screen/semantic_segmentation/postprocessing.py\u001b[0m in \u001b[0;36mapproximate\u001b[0;34m(pred, methods)\u001b[0m\n\u001b[1;32m     37\u001b[0m     \u001b[0mquadrangles\u001b[0m \u001b[0;34m=\u001b[0m \u001b[0;34m[\u001b[0m\u001b[0;34m]\u001b[0m\u001b[0;34m\u001b[0m\u001b[0;34m\u001b[0m\u001b[0m\n\u001b[1;32m     38\u001b[0m     \u001b[0;32mif\u001b[0m \u001b[0mmethods\u001b[0m\u001b[0;34m[\u001b[0m\u001b[0;34m'base'\u001b[0m\u001b[0;34m]\u001b[0m\u001b[0;34m:\u001b[0m\u001b[0;34m\u001b[0m\u001b[0;34m\u001b[0m\u001b[0m\n\u001b[0;32m---> 39\u001b[0;31m         \u001b[0mquadrangles\u001b[0m \u001b[0;34m=\u001b[0m \u001b[0mapproximate_baseline\u001b[0m\u001b[0;34m(\u001b[0m\u001b[0mpred\u001b[0m\u001b[0;34m,\u001b[0m \u001b[0;34m**\u001b[0m\u001b[0mmethods\u001b[0m\u001b[0;34m)\u001b[0m\u001b[0;34m\u001b[0m\u001b[0;34m\u001b[0m\u001b[0m\n\u001b[0m\u001b[1;32m     40\u001b[0m \u001b[0;34m\u001b[0m\u001b[0m\n\u001b[1;32m     41\u001b[0m     \u001b[0;32mif\u001b[0m \u001b[0mmethods\u001b[0m\u001b[0;34m[\u001b[0m\u001b[0;34m'erode_dilate'\u001b[0m\u001b[0;34m]\u001b[0m\u001b[0;34m:\u001b[0m\u001b[0;34m\u001b[0m\u001b[0;34m\u001b[0m\u001b[0m\n",
      "\u001b[0;32m~/anaconda3/envs/video699/lib/python3.7/site-packages/video699/screen/semantic_segmentation/postprocessing.py\u001b[0m in \u001b[0;36mapproximate_baseline\u001b[0;34m(pred, base_lower_bound, base_upper_bound, base_factors, **params)\u001b[0m\n\u001b[1;32m     54\u001b[0m \u001b[0;34m\u001b[0m\u001b[0m\n\u001b[1;32m     55\u001b[0m \u001b[0;32mdef\u001b[0m \u001b[0mapproximate_baseline\u001b[0m\u001b[0;34m(\u001b[0m\u001b[0mpred\u001b[0m\u001b[0;34m,\u001b[0m \u001b[0mbase_lower_bound\u001b[0m\u001b[0;34m,\u001b[0m \u001b[0mbase_upper_bound\u001b[0m\u001b[0;34m,\u001b[0m \u001b[0mbase_factors\u001b[0m\u001b[0;34m,\u001b[0m \u001b[0;34m**\u001b[0m\u001b[0mparams\u001b[0m\u001b[0;34m)\u001b[0m\u001b[0;34m:\u001b[0m\u001b[0;34m\u001b[0m\u001b[0;34m\u001b[0m\u001b[0m\n\u001b[0;32m---> 56\u001b[0;31m     \u001b[0m_\u001b[0m\u001b[0;34m,\u001b[0m \u001b[0mcontours\u001b[0m\u001b[0;34m,\u001b[0m \u001b[0m_\u001b[0m \u001b[0;34m=\u001b[0m \u001b[0mcv2\u001b[0m\u001b[0;34m.\u001b[0m\u001b[0mfindContours\u001b[0m\u001b[0;34m(\u001b[0m\u001b[0mpred\u001b[0m\u001b[0;34m,\u001b[0m \u001b[0mcv2\u001b[0m\u001b[0;34m.\u001b[0m\u001b[0mRETR_TREE\u001b[0m\u001b[0;34m,\u001b[0m \u001b[0mcv2\u001b[0m\u001b[0;34m.\u001b[0m\u001b[0mCHAIN_APPROX_SIMPLE\u001b[0m\u001b[0;34m)\u001b[0m\u001b[0;34m\u001b[0m\u001b[0;34m\u001b[0m\u001b[0m\n\u001b[0m\u001b[1;32m     57\u001b[0m     \u001b[0mquadrangles\u001b[0m \u001b[0;34m=\u001b[0m \u001b[0mcontour_approx\u001b[0m\u001b[0;34m(\u001b[0m\u001b[0mcontours\u001b[0m\u001b[0;34m,\u001b[0m \u001b[0mbase_lower_bound\u001b[0m\u001b[0;34m,\u001b[0m \u001b[0mbase_upper_bound\u001b[0m\u001b[0;34m,\u001b[0m \u001b[0mbase_factors\u001b[0m\u001b[0;34m)\u001b[0m\u001b[0;34m\u001b[0m\u001b[0;34m\u001b[0m\u001b[0m\n\u001b[1;32m     58\u001b[0m     \u001b[0;32mreturn\u001b[0m \u001b[0mquadrangles\u001b[0m\u001b[0;34m\u001b[0m\u001b[0;34m\u001b[0m\u001b[0m\n",
      "\u001b[0;31mValueError\u001b[0m: not enough values to unpack (expected 3, got 2)"
     ]
    }
   ],
   "source": [
    "kf = KFold(n_splits=2, shuffle=True, random_state=123)\n",
    "for i, split in enumerate(kf.split(all_lectures)):\n",
    "    other_lectures = [all_lectures[index] for index in split[0]]\n",
    "    test_lectures = [all_lectures[index] for index in split[1]]\n",
    "    \n",
    "    # Model selection\n",
    "    method_settings = list(product(*methods_values))\n",
    "    train_settings = list(product(*train_params_values))\n",
    "    df_all = pd.DataFrame(columns=all_params + ['iou', 'wrong_count', 'kfold_split'])\n",
    "    df_best_models = pd.DataFrame(columns=all_params + ['iou', 'wrong_count'])\n",
    "    \n",
    "    for train_setting in tqdm(train_settings[:2]):\n",
    "        train_params_dict = dict(zip(train_params, train_setting))\n",
    "        for j, split in enumerate(kf.split(other_lectures)):\n",
    "            train_lectures = [other_lectures[index] for index in split[0]]\n",
    "            valid_lectures = [other_lectures[index] for index in split[1]]\n",
    "            valid_frames = [frame for lecture in valid_lectures for frame in all_frames_grouped_by_videos[lecture]]\n",
    "\n",
    "            filtered_by = lambda name: any([lecture in str(name) for lecture in train_lectures + valid_lectures])  \\\n",
    "                            and 'frame' in str(name)\n",
    "            split_by = lambda name: any([lecture in str(name) for lecture in valid_lectures])\n",
    "\n",
    "                    \n",
    "            #TODO REMOVE, ONLY FOR DEBUG PURPOSE\n",
    "            train_params_dict['unfrozen_epochs'] = 1\n",
    "            train_params_dict['frozen_epochs'] = 0\n",
    "            train_params_dict['resize_factor'] = 8\n",
    "            \n",
    "            detector = FastAIScreenDetector(train_params=train_params_dict, methods=None, filtered_by=filtered_by,\n",
    "                                        valid_func=split_by, device='cpu')\n",
    "        \n",
    "            detector.train()\n",
    "            \n",
    "            actuals = [actual_detector.detect(frame) for frame in valid_frames]\n",
    "            sem_preds = detector.semantic_segmentation_batch(valid_frames)\n",
    "            \n",
    "            # Save inter results, average them and save them into DataFrame\n",
    "            \n",
    "            print(f\"Iterating through {len(method_settings)} methods in split {j}.\")\n",
    "            \n",
    "            for i, method_setting in enumerate(method_settings[:5]):    \n",
    "                preds = detector.post_processing_batch(sem_preds, valid_frames, dict(zip(method_params, method_setting)))\n",
    "                wrong_count, ious, _ = evaluate(actuals, preds)\n",
    "                \n",
    "                iou_score = np.nanmean(ious)\n",
    "                wrong_count = len(wrong_count)\n",
    "                df_all.loc[len(df_all)] = train_setting + method_setting + (iou_score, wrong_count, j)\n",
    "    \n",
    "    unhashable_columns = ['frozen_lr', 'unfrozen_lr', 'base_factors', 'erode_dilate_factors']\n",
    "    df_all[unhashable_columns] = df_all[unhashable_columns].astype(str)\n",
    "    df_all['wrong_count'] = df_all['wrong_count'].astype(int)\n",
    "    \n",
    "    best_params = df_all.groupby(train_params + method_params).mean().sort_values(by=['wrong_count', 'iou']).iloc[0].name\n",
    "    converted_params = []\n",
    "    for i, par in enumerate(best_params):\n",
    "        if isinstance(par, np.int64) or isinstance(par, np.float64):\n",
    "            converted_params.append(par.item())\n",
    "        else:\n",
    "            converted_params.append(par)\n",
    "    best_params = tuple(converted_params)\n",
    "    print(df_all.groupby(train_params + method_params).mean().sort_values(by=['wrong_count', 'iou']).iloc[0])\n",
    "    \n",
    "    best_methods = dict(zip(method_params, best_params[-len(method_params):]))\n",
    "    best_train_params_dict = dict(zip(train_params, best_params[:len(train_params)]))\n",
    "    best_train_params_dict['frozen_lr'] = float(best_train_params_dict['frozen_lr'])\n",
    "    best_train_params_dict['unfrozen_lr'] = eval(best_train_params_dict['unfrozen_lr'])\n",
    "    \n",
    "    filtered_by = lambda name: 'frame' in str(name)\n",
    "    split_by = lambda name: any([lecture in str(name) for lecture in test_lectures])\n",
    "    \n",
    "    best_detector = FastAIScreenDetector(train_params=best_train_params_dict, methods=best_methods, filtered_by=filtered_by,\n",
    "                                        valid_func=split_by, device='cpu')\n",
    "    print(type(best_detector.train_params['batch_size']))\n",
    "    best_detector.train()\n",
    "\n",
    "    actuals = [actual_detector.detect(frame) for frame in valid_frames]\n",
    "    preds = [best_detector.detect(frame) for frame in valid_frames]\n",
    "    wrong_count, iou, _ = evaluate(actuals, preds)\n",
    "    iou_score = np.nanmean(ious)\n",
    "    wrong_count = len(wrong_count)\n",
    "    df_best_models.loc[len(df_best_models)] = train_setting + method_setting + (iou_score, wrong_count, j)\n",
    "\n",
    "df_best_models.to_csv('cross_validation_results.csv')\n",
    "    \n",
    "    "
   ]
  },
  {
   "cell_type": "code",
   "execution_count": null,
   "metadata": {},
   "outputs": [],
   "source": [
    "detector"
   ]
  },
  {
   "cell_type": "code",
   "execution_count": 27,
   "metadata": {},
   "outputs": [],
   "source": [
    "seg = detector.semantic_segmentation(all_frames[0])"
   ]
  },
  {
   "cell_type": "code",
   "execution_count": 37,
   "metadata": {},
   "outputs": [],
   "source": [
    "a, b = cv2.findContours(seg, cv2.RETR_TREE, cv2.CHAIN_APPROX_SIMPLE)"
   ]
  },
  {
   "cell_type": "code",
   "execution_count": 38,
   "metadata": {},
   "outputs": [
    {
     "data": {
      "text/plain": [
       "[array([[[ 55,  38]],\n",
       " \n",
       "        [[ 54,  39]],\n",
       " \n",
       "        [[ 52,  39]],\n",
       " \n",
       "        [[ 50,  41]],\n",
       " \n",
       "        ...,\n",
       " \n",
       "        [[149,  41]],\n",
       " \n",
       "        [[147,  39]],\n",
       " \n",
       "        [[145,  39]],\n",
       " \n",
       "        [[144,  38]]], dtype=int32),\n",
       " array([[[ 10, 141]],\n",
       " \n",
       "        [[ 11, 140]],\n",
       " \n",
       "        [[ 18, 140]],\n",
       " \n",
       "        [[ 19, 141]],\n",
       " \n",
       "        ...,\n",
       " \n",
       "        [[  9, 143]],\n",
       " \n",
       "        [[  8, 143]],\n",
       " \n",
       "        [[  7, 142]],\n",
       " \n",
       "        [[  8, 141]]], dtype=int32),\n",
       " array([[[ 10, 122]],\n",
       " \n",
       "        [[ 11, 121]],\n",
       " \n",
       "        [[ 18, 121]],\n",
       " \n",
       "        [[ 19, 122]],\n",
       " \n",
       "        [[ 20, 122]],\n",
       " \n",
       "        [[ 21, 123]],\n",
       " \n",
       "        [[ 20, 124]],\n",
       " \n",
       "        [[ 21, 125]],\n",
       " \n",
       "        [[ 20, 126]],\n",
       " \n",
       "        [[ 18, 126]],\n",
       " \n",
       "        [[ 19, 127]],\n",
       " \n",
       "        [[ 18, 128]],\n",
       " \n",
       "        [[ 11, 128]],\n",
       " \n",
       "        [[ 10, 127]],\n",
       " \n",
       "        [[ 11, 126]],\n",
       " \n",
       "        [[  9, 126]],\n",
       " \n",
       "        [[  8, 125]],\n",
       " \n",
       "        [[  9, 124]],\n",
       " \n",
       "        [[  8, 123]],\n",
       " \n",
       "        [[  9, 122]]], dtype=int32),\n",
       " array([[[ 10, 109]],\n",
       " \n",
       "        [[ 11, 108]],\n",
       " \n",
       "        [[ 18, 108]],\n",
       " \n",
       "        [[ 19, 109]],\n",
       " \n",
       "        [[ 21, 109]],\n",
       " \n",
       "        [[ 22, 110]],\n",
       " \n",
       "        [[ 21, 111]],\n",
       " \n",
       "        [[ 20, 111]],\n",
       " \n",
       "        [[ 20, 112]],\n",
       " \n",
       "        [[ 21, 112]],\n",
       " \n",
       "        [[ 22, 113]],\n",
       " \n",
       "        [[ 21, 114]],\n",
       " \n",
       "        [[ 19, 114]],\n",
       " \n",
       "        [[ 18, 115]],\n",
       " \n",
       "        [[ 11, 115]],\n",
       " \n",
       "        [[ 10, 114]],\n",
       " \n",
       "        [[  8, 114]],\n",
       " \n",
       "        [[  7, 113]],\n",
       " \n",
       "        [[  8, 112]],\n",
       " \n",
       "        [[  9, 112]],\n",
       " \n",
       "        [[  9, 111]],\n",
       " \n",
       "        [[  8, 111]],\n",
       " \n",
       "        [[  7, 110]],\n",
       " \n",
       "        [[  8, 109]]], dtype=int32),\n",
       " array([[[524,  32]],\n",
       " \n",
       "        [[523,  33]],\n",
       " \n",
       "        [[522,  33]],\n",
       " \n",
       "        [[520,  35]],\n",
       " \n",
       "        ...,\n",
       " \n",
       "        [[569,  35]],\n",
       " \n",
       "        [[567,  33]],\n",
       " \n",
       "        [[566,  33]],\n",
       " \n",
       "        [[565,  32]]], dtype=int32),\n",
       " array([[[690,  77]],\n",
       " \n",
       "        [[691,  76]],\n",
       " \n",
       "        [[698,  76]],\n",
       " \n",
       "        [[699,  77]],\n",
       " \n",
       "        ...,\n",
       " \n",
       "        [[689,  79]],\n",
       " \n",
       "        [[688,  79]],\n",
       " \n",
       "        [[687,  78]],\n",
       " \n",
       "        [[688,  77]]], dtype=int32)]"
      ]
     },
     "execution_count": 38,
     "metadata": {},
     "output_type": "execute_result"
    }
   ],
   "source": [
    "a"
   ]
  },
  {
   "cell_type": "code",
   "execution_count": 39,
   "metadata": {},
   "outputs": [
    {
     "data": {
      "text/plain": [
       "array([[[ 4, -1,  1, -1],\n",
       "        [ 2, -1, -1,  0],\n",
       "        [ 3,  1, -1,  0],\n",
       "        [-1,  2, -1,  0],\n",
       "        [-1,  0,  5, -1],\n",
       "        [-1, -1, -1,  4]]], dtype=int32)"
      ]
     },
     "execution_count": 39,
     "metadata": {},
     "output_type": "execute_result"
    }
   ],
   "source": [
    "b"
   ]
  },
  {
   "cell_type": "code",
   "execution_count": null,
   "metadata": {},
   "outputs": [],
   "source": []
  }
 ],
 "metadata": {
  "accelerator": "GPU",
  "colab": {
   "collapsed_sections": [],
   "name": "estimated_evaluation.ipynb",
   "provenance": [],
   "toc_visible": true
  },
  "kernelspec": {
   "display_name": "Python 3",
   "language": "python",
   "name": "python3"
  },
  "language_info": {
   "codemirror_mode": {
    "name": "ipython",
    "version": 3
   },
   "file_extension": ".py",
   "mimetype": "text/x-python",
   "name": "python",
   "nbconvert_exporter": "python",
   "pygments_lexer": "ipython3",
   "version": "3.7.6"
  },
  "pycharm": {
   "stem_cell": {
    "cell_type": "raw",
    "metadata": {
     "collapsed": false
    },
    "source": []
   }
  }
 },
 "nbformat": 4,
 "nbformat_minor": 1
}
