{
 "cells": [
  {
   "cell_type": "markdown",
   "metadata": {},
   "source": [
    "## Optimizing `max_mse` parameter of `MeanSquaredErrorSceneDetector`"
   ]
  },
  {
   "cell_type": "code",
   "execution_count": 1,
   "metadata": {},
   "outputs": [],
   "source": [
    "from video699.configuration import get_configuration\n",
    "from video699.video.annotated import (\n",
    "    AnnotatedSampledVideoScreenDetector,\n",
    "    AnnotatedSampledVideoPageDetector,\n",
    "    evaluate_event_detector,\n",
    "    get_videos,\n",
    ")\n",
    "from video699.video.scene import MeanSquaredErrorSceneDetector\n",
    "from video699.quadrangle.rtree import RTreeDequeConvexQuadrangleTracker\n",
    "from video699.event.screen import ScreenEventDetector\n",
    "\n",
    "\n",
    "CONFIGURATION = get_configuration()['MeanSquaredErrorSceneDetector']"
   ]
  },
  {
   "cell_type": "code",
   "execution_count": 2,
   "metadata": {},
   "outputs": [],
   "source": [
    "def accuracy(max_mse):\n",
    "    CONFIGURATION['max_mse'] = str(max_mse)\n",
    "    num_successes_total = 0\n",
    "    num_trials_total = 0\n",
    "    for annotated_video in get_videos().values():        \n",
    "        convex_quadrangle_tracker = RTreeDequeConvexQuadrangleTracker(2)\n",
    "        screen_detector = AnnotatedSampledVideoScreenDetector()\n",
    "        page_detector = AnnotatedSampledVideoPageDetector()\n",
    "        video = MeanSquaredErrorSceneDetector(annotated_video)\n",
    "        screen_event_detector = ScreenEventDetector(\n",
    "            video,\n",
    "            convex_quadrangle_tracker,\n",
    "            screen_detector,\n",
    "            page_detector,\n",
    "        )\n",
    "        num_successes, num_trials = evaluate_event_detector(annotated_video, screen_event_detector)\n",
    "        num_successes_total += num_successes\n",
    "        num_trials_total += num_trials\n",
    "    accuracy = 100.0 * num_successes_total / num_trials_total\n",
    "    return accuracy"
   ]
  },
  {
   "cell_type": "code",
   "execution_count": 3,
   "metadata": {},
   "outputs": [],
   "source": [
    "def binary_search(min_accuracy):\n",
    "    lower_limit = 0.0\n",
    "    upper_limit = 1.0\n",
    "    best_value = lower_limit\n",
    "    max_num_rounds = 100\n",
    "\n",
    "    num_rounds = 1\n",
    "    while True:\n",
    "        value = lower_limit + 0.5 * (upper_limit - lower_limit)\n",
    "        if accuracy(value) >= min_accuracy:\n",
    "            best_value = value\n",
    "            lower_limit = value\n",
    "        else:\n",
    "            best_value = lower_limit\n",
    "            upper_limit = value\n",
    "        print(\n",
    "            f'The highest max_mse with accuracy ≥ {min_accuracy:g}% after {num_rounds} rounds of '\n",
    "            f'binary search: {best_value}\\r',\n",
    "            end = '',\n",
    "        )\n",
    "        num_rounds += 1\n",
    "        if num_rounds > max_num_rounds:\n",
    "            break"
   ]
  },
  {
   "cell_type": "code",
   "execution_count": 4,
   "metadata": {},
   "outputs": [
    {
     "name": "stdout",
     "output_type": "stream",
     "text": [
      "The highest max_mse with accuracy ≥ 100% after 100 rounds of binary search: 0.2205490400326797\r"
     ]
    }
   ],
   "source": [
    "binary_search(min_accuracy=100.0)"
   ]
  },
  {
   "cell_type": "code",
   "execution_count": 5,
   "metadata": {},
   "outputs": [
    {
     "name": "stdout",
     "output_type": "stream",
     "text": [
      "The highest max_mse with accuracy ≥ 95% after 100 rounds of binary search: 0.2507322944033277\r"
     ]
    }
   ],
   "source": [
    "binary_search(min_accuracy=95.0)"
   ]
  }
 ],
 "metadata": {
  "kernelspec": {
   "display_name": "Python 3",
   "language": "python",
   "name": "python3"
  },
  "language_info": {
   "codemirror_mode": {
    "name": "ipython",
    "version": 3
   },
   "file_extension": ".py",
   "mimetype": "text/x-python",
   "name": "python",
   "nbconvert_exporter": "python",
   "pygments_lexer": "ipython3",
   "version": "3.6.9"
  }
 },
 "nbformat": 4,
 "nbformat_minor": 4
}
