{
 "cells": [
  {
   "cell_type": "markdown",
   "metadata": {},
   "source": [
    "## Optimizing `frozen_epochs`, `unfrozen_epochs`, `base_lower_bound`, `factors`, `ratio_split_lower_bound` , parameter of `FastAIScreenDetector`"
   ]
  },
  {
   "cell_type": "code",
   "execution_count": null,
   "metadata": {
    "colab": {
     "base_uri": "https://localhost:8080/",
     "height": 990
    },
    "colab_type": "code",
    "id": "dTSNs4D-YCX4",
    "outputId": "1aa1d720-639a-4874-802e-0d8a6a9e2bfa"
   },
   "outputs": [],
   "source": [
    "%%time\n",
    "import warnings\n",
    "warnings.filterwarnings('ignore')\n",
    "from functools import partial\n",
    "from collections import defaultdict, namedtuple\n",
    "import numpy as np\n",
    "import pandas as pd\n",
    "import scipy\n",
    "from sklearn.model_selection import KFold\n",
    "from tqdm.notebook import tqdm\n",
    "from itertools import product\n",
    "\n",
    "from video699.screen.semantic_segmentation.fastai_detector import *\n",
    "from video699.screen.semantic_segmentation.common import *\n",
    "from video699.screen.semantic_segmentation.postprocessing import *\n",
    "from video699.screen.semantic_segmentation.evaluation import *"
   ]
  },
  {
   "cell_type": "code",
   "execution_count": null,
   "metadata": {
    "colab": {},
    "colab_type": "code",
    "id": "6mFt_2PfYiU8"
   },
   "outputs": [],
   "source": [
    "resize_factor = [2, 8]\n",
    "frozen_epochs = [2, 6, 9]\n",
    "unfrozen_epochs = [3, 7, 10]\n",
    "base_lower_bound = [5, 7, 10, 15]\n",
    "erosion_dilation_kernel_size = [20, 50, 80, 150]\n",
    "ratio_split_lower_bound = [0.3, 0.4, 0.5, 0.7, 0.8, 0.9]"
   ]
  },
  {
   "cell_type": "code",
   "execution_count": null,
   "metadata": {},
   "outputs": [],
   "source": [
    "# resize_factor = [8]\n",
    "# frozen_epochs = [1]\n",
    "# unfrozen_epochs = [0]\n",
    "# base_lower_bound = [5]\n",
    "# erosion_dilation_kernel_size = [80]\n",
    "# ratio_split_lower_bound = [0.5]"
   ]
  },
  {
   "cell_type": "code",
   "execution_count": null,
   "metadata": {
    "colab": {},
    "colab_type": "code",
    "id": "Mm-VLP10criJ"
   },
   "outputs": [],
   "source": [
    "train = list(product(resize_factor, frozen_epochs, unfrozen_epochs))\n",
    "train_names = ['resize_factor', 'frozen_epochs', 'unfrozen_epochs']\n",
    "\n",
    "post_processing = list(product(base_lower_bound, erosion_dilation_kernel_size, ratio_split_lower_bound))\n",
    "post_processing_names = ['base_lower_bound', 'erosion_dilation_kernel_size', 'ratio_split_lower_bound']\n",
    "\n",
    "all_lectures = [video.filename for video in ALL_VIDEOS]\n",
    "all_frames = [frame for video in ALL_VIDEOS for frame in video]\n",
    "all_frames_grouped_by_videos = {video.filename: [frame for frame in video] for video in ALL_VIDEOS}\n",
    "\n",
    "detector = FastAIScreenDetector()\n",
    "actual_detector = AnnotatedSampledVideoScreenDetector()"
   ]
  },
  {
   "cell_type": "code",
   "execution_count": null,
   "metadata": {},
   "outputs": [],
   "source": [
    "def filtered_by(name, used):\n",
    "    return any([lecture in str(name) for lecture in used]) and 'frame002000' in str(name)\n",
    "\n",
    "def split_by(name, validation):\n",
    "    return any([lecture in str(name) for lecture in validation])"
   ]
  },
  {
   "cell_type": "markdown",
   "metadata": {},
   "source": [
    "### Cross validation splits by lecture"
   ]
  },
  {
   "cell_type": "code",
   "execution_count": null,
   "metadata": {},
   "outputs": [],
   "source": [
    "def make_splits(all_lectures):\n",
    "    Split = namedtuple('Split', ['train', 'valid'])\n",
    "    kf = KFold(n_splits=5, shuffle=True, random_state=123)\n",
    "    splits = {}\n",
    "    for j, split in enumerate(kf.split(all_lectures)):    \n",
    "        train_lectures = [all_lectures[index] for index in split[0]]\n",
    "        valid_lectures = [all_lectures[index] for index in split[1]]\n",
    "        valid_frames = [frame for lecture in valid_lectures for frame in all_frames_grouped_by_videos[lecture]]\n",
    "        splits[j] = Split(train=train_lectures, valid=valid_lectures)\n",
    "    return splits"
   ]
  },
  {
   "cell_type": "code",
   "execution_count": null,
   "metadata": {},
   "outputs": [],
   "source": [
    "def model_selection(all_lectures, train_names, post_processing_names, default_filtered_by, default_split_by):\n",
    "    splits = make_splits(all_lectures)\n",
    "    df_all = pd.DataFrame(columns=train_names + post_processing_names + ['iou', 'wrong_count', 'kfold_split'])\n",
    "\n",
    "    for train_values in tqdm(train):\n",
    "        resize_factor, frozen_epochs, unfrozen_epochs = train_values\n",
    "        CONFIGURATION['resize_factor'] = str(resize_factor)\n",
    "        CONFIGURATION['frozen_epochs'] = str(frozen_epochs)\n",
    "        CONFIGURATION['unfrozen_epochs'] = str(unfrozen_epochs)\n",
    "\n",
    "        for j in splits.keys():\n",
    "            filtered_by = partial(default_filtered_by, used=splits[j].train + splits[j].valid)\n",
    "            split_by = partial(default_split_by, validation=splits[j].valid)\n",
    "\n",
    "            detector = FastAIScreenDetector(filtered_by=filtered_by, valid_func=split_by)\n",
    "            detector.train()\n",
    "\n",
    "            valid_frames = [frame for frame in all_frames if split_by(frame.pathname)]\n",
    "            actuals = [actual_detector.detect(frame) for frame in valid_frames]\n",
    "            sem_preds = detector.semantic_segmentation_batch(valid_frames)\n",
    "\n",
    "            for post_processing_values in post_processing:    \n",
    "                preds = detector.post_processing_batch(sem_preds, valid_frames)\n",
    "                wrong_count, ious, _ = evaluate(actuals, preds)\n",
    "\n",
    "                iou_score = np.nanmean(ious)\n",
    "                wrong_count = len(wrong_count)\n",
    "                df_all.loc[len(df_all)] = train_values + post_processing_values + (iou_score, wrong_count, j)\n",
    "                df_all.to_csv(\"model_selection.csv\")\n",
    "            df_all.to_csv(\"model_selection.csv\")\n",
    "    return df_all"
   ]
  },
  {
   "cell_type": "code",
   "execution_count": null,
   "metadata": {
    "colab": {
     "base_uri": "https://localhost:8080/",
     "height": 547,
     "referenced_widgets": [
      "1ee90e6c6fac44d3ac7f1380512b4f5a",
      "6770cda89cdc44cfab331bec39fde924",
      "b157a18af5524744913e20afe42984dd",
      "f9b5091bd60b4cf08e3e5b4bc1ef94e6",
      "2d3b732e92f74a3982896fa5b3006f68",
      "a4a3c3f4c0ff4843ba5bb34fb5e8da21",
      "fd1f3a86603846ebab1976e6b11f2e84",
      "11ac3fd1eb5b49ab8f7898101defc615"
     ]
    },
    "colab_type": "code",
    "id": "w6YqRWescrp1",
    "outputId": "61939b6e-258c-4a23-b322-7ec1fbde6516"
   },
   "outputs": [],
   "source": [
    "%%time\n",
    "model_selection(all_lectures, train_names, post_processing_names, filtered_by, split_by)"
   ]
  },
  {
   "cell_type": "code",
   "execution_count": null,
   "metadata": {
    "colab": {},
    "colab_type": "code",
    "id": "Rnm5Uys789dr"
   },
   "outputs": [],
   "source": [
    "df_all.to_csv(\"model_selection.csv\")"
   ]
  }
 ],
 "metadata": {
  "accelerator": "GPU",
  "colab": {
   "name": "model_selection.ipynb",
   "provenance": []
  },
  "kernelspec": {
   "display_name": "Python 3",
   "language": "python",
   "name": "python3"
  },
  "language_info": {
   "codemirror_mode": {
    "name": "ipython",
    "version": 3
   },
   "file_extension": ".py",
   "mimetype": "text/x-python",
   "name": "python",
   "nbconvert_exporter": "python",
   "pygments_lexer": "ipython3",
   "version": "3.7.6"
  },
  "widgets": {
   "application/vnd.jupyter.widget-state+json": {
    "11ac3fd1eb5b49ab8f7898101defc615": {
     "model_module": "@jupyter-widgets/base",
     "model_name": "LayoutModel",
     "state": {
      "_model_module": "@jupyter-widgets/base",
      "_model_module_version": "1.2.0",
      "_model_name": "LayoutModel",
      "_view_count": null,
      "_view_module": "@jupyter-widgets/base",
      "_view_module_version": "1.2.0",
      "_view_name": "LayoutView",
      "align_content": null,
      "align_items": null,
      "align_self": null,
      "border": null,
      "bottom": null,
      "display": null,
      "flex": null,
      "flex_flow": null,
      "grid_area": null,
      "grid_auto_columns": null,
      "grid_auto_flow": null,
      "grid_auto_rows": null,
      "grid_column": null,
      "grid_gap": null,
      "grid_row": null,
      "grid_template_areas": null,
      "grid_template_columns": null,
      "grid_template_rows": null,
      "height": null,
      "justify_content": null,
      "justify_items": null,
      "left": null,
      "margin": null,
      "max_height": null,
      "max_width": null,
      "min_height": null,
      "min_width": null,
      "object_fit": null,
      "object_position": null,
      "order": null,
      "overflow": null,
      "overflow_x": null,
      "overflow_y": null,
      "padding": null,
      "right": null,
      "top": null,
      "visibility": null,
      "width": null
     }
    },
    "1ee90e6c6fac44d3ac7f1380512b4f5a": {
     "model_module": "@jupyter-widgets/controls",
     "model_name": "HBoxModel",
     "state": {
      "_dom_classes": [],
      "_model_module": "@jupyter-widgets/controls",
      "_model_module_version": "1.5.0",
      "_model_name": "HBoxModel",
      "_view_count": null,
      "_view_module": "@jupyter-widgets/controls",
      "_view_module_version": "1.5.0",
      "_view_name": "HBoxView",
      "box_style": "",
      "children": [
       "IPY_MODEL_b157a18af5524744913e20afe42984dd",
       "IPY_MODEL_f9b5091bd60b4cf08e3e5b4bc1ef94e6"
      ],
      "layout": "IPY_MODEL_6770cda89cdc44cfab331bec39fde924"
     }
    },
    "2d3b732e92f74a3982896fa5b3006f68": {
     "model_module": "@jupyter-widgets/controls",
     "model_name": "ProgressStyleModel",
     "state": {
      "_model_module": "@jupyter-widgets/controls",
      "_model_module_version": "1.5.0",
      "_model_name": "ProgressStyleModel",
      "_view_count": null,
      "_view_module": "@jupyter-widgets/base",
      "_view_module_version": "1.2.0",
      "_view_name": "StyleView",
      "bar_color": null,
      "description_width": "initial"
     }
    },
    "6770cda89cdc44cfab331bec39fde924": {
     "model_module": "@jupyter-widgets/base",
     "model_name": "LayoutModel",
     "state": {
      "_model_module": "@jupyter-widgets/base",
      "_model_module_version": "1.2.0",
      "_model_name": "LayoutModel",
      "_view_count": null,
      "_view_module": "@jupyter-widgets/base",
      "_view_module_version": "1.2.0",
      "_view_name": "LayoutView",
      "align_content": null,
      "align_items": null,
      "align_self": null,
      "border": null,
      "bottom": null,
      "display": null,
      "flex": null,
      "flex_flow": null,
      "grid_area": null,
      "grid_auto_columns": null,
      "grid_auto_flow": null,
      "grid_auto_rows": null,
      "grid_column": null,
      "grid_gap": null,
      "grid_row": null,
      "grid_template_areas": null,
      "grid_template_columns": null,
      "grid_template_rows": null,
      "height": null,
      "justify_content": null,
      "justify_items": null,
      "left": null,
      "margin": null,
      "max_height": null,
      "max_width": null,
      "min_height": null,
      "min_width": null,
      "object_fit": null,
      "object_position": null,
      "order": null,
      "overflow": null,
      "overflow_x": null,
      "overflow_y": null,
      "padding": null,
      "right": null,
      "top": null,
      "visibility": null,
      "width": null
     }
    },
    "a4a3c3f4c0ff4843ba5bb34fb5e8da21": {
     "model_module": "@jupyter-widgets/base",
     "model_name": "LayoutModel",
     "state": {
      "_model_module": "@jupyter-widgets/base",
      "_model_module_version": "1.2.0",
      "_model_name": "LayoutModel",
      "_view_count": null,
      "_view_module": "@jupyter-widgets/base",
      "_view_module_version": "1.2.0",
      "_view_name": "LayoutView",
      "align_content": null,
      "align_items": null,
      "align_self": null,
      "border": null,
      "bottom": null,
      "display": null,
      "flex": null,
      "flex_flow": null,
      "grid_area": null,
      "grid_auto_columns": null,
      "grid_auto_flow": null,
      "grid_auto_rows": null,
      "grid_column": null,
      "grid_gap": null,
      "grid_row": null,
      "grid_template_areas": null,
      "grid_template_columns": null,
      "grid_template_rows": null,
      "height": null,
      "justify_content": null,
      "justify_items": null,
      "left": null,
      "margin": null,
      "max_height": null,
      "max_width": null,
      "min_height": null,
      "min_width": null,
      "object_fit": null,
      "object_position": null,
      "order": null,
      "overflow": null,
      "overflow_x": null,
      "overflow_y": null,
      "padding": null,
      "right": null,
      "top": null,
      "visibility": null,
      "width": null
     }
    },
    "b157a18af5524744913e20afe42984dd": {
     "model_module": "@jupyter-widgets/controls",
     "model_name": "IntProgressModel",
     "state": {
      "_dom_classes": [],
      "_model_module": "@jupyter-widgets/controls",
      "_model_module_version": "1.5.0",
      "_model_name": "IntProgressModel",
      "_view_count": null,
      "_view_module": "@jupyter-widgets/controls",
      "_view_module_version": "1.5.0",
      "_view_name": "ProgressView",
      "bar_style": "success",
      "description": "100%",
      "description_tooltip": null,
      "layout": "IPY_MODEL_a4a3c3f4c0ff4843ba5bb34fb5e8da21",
      "max": 46827520,
      "min": 0,
      "orientation": "horizontal",
      "style": "IPY_MODEL_2d3b732e92f74a3982896fa5b3006f68",
      "value": 46827520
     }
    },
    "f9b5091bd60b4cf08e3e5b4bc1ef94e6": {
     "model_module": "@jupyter-widgets/controls",
     "model_name": "HTMLModel",
     "state": {
      "_dom_classes": [],
      "_model_module": "@jupyter-widgets/controls",
      "_model_module_version": "1.5.0",
      "_model_name": "HTMLModel",
      "_view_count": null,
      "_view_module": "@jupyter-widgets/controls",
      "_view_module_version": "1.5.0",
      "_view_name": "HTMLView",
      "description": "",
      "description_tooltip": null,
      "layout": "IPY_MODEL_11ac3fd1eb5b49ab8f7898101defc615",
      "placeholder": "​",
      "style": "IPY_MODEL_fd1f3a86603846ebab1976e6b11f2e84",
      "value": " 44.7M/44.7M [00:14&lt;00:00, 3.32MB/s]"
     }
    },
    "fd1f3a86603846ebab1976e6b11f2e84": {
     "model_module": "@jupyter-widgets/controls",
     "model_name": "DescriptionStyleModel",
     "state": {
      "_model_module": "@jupyter-widgets/controls",
      "_model_module_version": "1.5.0",
      "_model_name": "DescriptionStyleModel",
      "_view_count": null,
      "_view_module": "@jupyter-widgets/base",
      "_view_module_version": "1.2.0",
      "_view_name": "StyleView",
      "description_width": ""
     }
    }
   }
  }
 },
 "nbformat": 4,
 "nbformat_minor": 1
}
