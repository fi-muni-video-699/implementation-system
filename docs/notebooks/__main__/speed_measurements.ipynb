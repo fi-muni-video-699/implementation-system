{
 "cells": [
  {
   "cell_type": "markdown",
   "metadata": {},
   "source": [
    "# Measuring the speed for all of page detectors and screen detectors"
   ]
  },
  {
   "cell_type": "code",
   "execution_count": 14,
   "metadata": {},
   "outputs": [],
   "source": [
    "from datetime import datetime\n",
    "\n",
    "from video699.__main__ import PAGE_DETECTOR_NAMES, SCREEN_DETECTOR_NAMES"
   ]
  },
  {
   "cell_type": "code",
   "execution_count": 15,
   "metadata": {},
   "outputs": [],
   "source": [
    "def duration(page_detector_name, screen_detector_name):\n",
    "    start_time = datetime.now()\n",
    "    ! TF_CPP_MIN_LOG_LEVEL=2 python -m video699 \\\n",
    "        --institution 'fimu' \\\n",
    "        --room 'd2' \\\n",
    "        --camera 'default_2004' \\\n",
    "        --date '2019-11-12T12:00:00+01:00' \\\n",
    "        --documents 'Blockchain-FI-MUNI.pdf' \\\n",
    "        --video 'IA067-D2-20191112.mp4' \\\n",
    "        --output '/dev/null' \\\n",
    "        --page-detector '{page_detector_name}' \\\n",
    "        --screen-detector '{screen_detector_name}' \\\n",
    "        --scene-detector 'none'\n",
    "    finish_time = datetime.now()\n",
    "    duration = finish_time - start_time\n",
    "    return duration"
   ]
  },
  {
   "cell_type": "code",
   "execution_count": 17,
   "metadata": {},
   "outputs": [
    {
     "name": "stdout",
     "output_type": "stream",
     "text": [
      "Using TensorFlow backend.\n",
      "Reading IA067-D2-20191112.mp4: frame 50541, time 0:56:09.266667, speed 0.80x"
     ]
    },
    {
     "name": "stderr",
     "output_type": "stream",
     "text": [
      "IOPub message rate exceeded.\n",
      "The notebook server will temporarily stop sending output\n",
      "to the client in order to avoid crashing it.\n",
      "To change this limit, set the config variable\n",
      "`--NotebookApp.iopub_msg_rate_limit`.\n",
      "\n",
      "Current values:\n",
      "NotebookApp.iopub_msg_rate_limit=1000.0 (msgs/sec)\n",
      "NotebookApp.rate_limit_window=3.0 (secs)\n",
      "\n"
     ]
    },
    {
     "name": "stdout",
     "output_type": "stream",
     "text": [
      "Reading IA067-D2-20191112.mp4: frame 68178, time 1:15:45.066667, speed 0.80x\n",
      "Exception ignored in: <function Handle.__del__ at 0x7f790dfaa4d0>\n",
      "Traceback (most recent call last):\n",
      "  File \"/opt/conda/lib/python3.7/site-packages/rtree/index.py\", line 875, in __del__\n",
      "  File \"/opt/conda/lib/python3.7/site-packages/rtree/index.py\", line 864, in destroy\n",
      "  File \"/opt/conda/lib/python3.7/site-packages/rtree/core.py\", line 34, in check_void_done\n",
      "AttributeError: 'NoneType' object has no attribute 'Error_GetErrorCount'\n",
      "Exception ignored in: <function Handle.__del__ at 0x7f790dfaa4d0>\n",
      "Traceback (most recent call last):\n",
      "  File \"/opt/conda/lib/python3.7/site-packages/rtree/index.py\", line 875, in __del__\n",
      "  File \"/opt/conda/lib/python3.7/site-packages/rtree/index.py\", line 864, in destroy\n",
      "  File \"/opt/conda/lib/python3.7/site-packages/rtree/core.py\", line 34, in check_void_done\n",
      "AttributeError: 'NoneType' object has no attribute 'Error_GetErrorCount'\n",
      "durations[siamese][fastai] = 5688.935913\n",
      "Using TensorFlow backend.\n",
      "Reading IA067-D2-20191112.mp4: frame 68178, time 1:15:45.066667, speed 5.16x\n",
      "durations[siamese][annotated] = 894.030955\n",
      "Reading IA067-D2-20191112.mp4: frame 31433, time 0:34:55.400000, speed 0.89x"
     ]
    },
    {
     "name": "stderr",
     "output_type": "stream",
     "text": [
      "IOPub message rate exceeded.\n",
      "The notebook server will temporarily stop sending output\n",
      "to the client in order to avoid crashing it.\n",
      "To change this limit, set the config variable\n",
      "`--NotebookApp.iopub_msg_rate_limit`.\n",
      "\n",
      "Current values:\n",
      "NotebookApp.iopub_msg_rate_limit=1000.0 (msgs/sec)\n",
      "NotebookApp.rate_limit_window=3.0 (secs)\n",
      "\n"
     ]
    },
    {
     "name": "stdout",
     "output_type": "stream",
     "text": [
      "Reading IA067-D2-20191112.mp4: frame 37453, time 0:41:36.733333, speed 0.89x"
     ]
    },
    {
     "name": "stderr",
     "output_type": "stream",
     "text": [
      "IOPub message rate exceeded.\n",
      "The notebook server will temporarily stop sending output\n",
      "to the client in order to avoid crashing it.\n",
      "To change this limit, set the config variable\n",
      "`--NotebookApp.iopub_msg_rate_limit`.\n",
      "\n",
      "Current values:\n",
      "NotebookApp.iopub_msg_rate_limit=1000.0 (msgs/sec)\n",
      "NotebookApp.rate_limit_window=3.0 (secs)\n",
      "\n"
     ]
    },
    {
     "name": "stdout",
     "output_type": "stream",
     "text": [
      "Reading IA067-D2-20191112.mp4: frame 43531, time 0:48:21.933333, speed 0.89x"
     ]
    },
    {
     "name": "stderr",
     "output_type": "stream",
     "text": [
      "IOPub message rate exceeded.\n",
      "The notebook server will temporarily stop sending output\n",
      "to the client in order to avoid crashing it.\n",
      "To change this limit, set the config variable\n",
      "`--NotebookApp.iopub_msg_rate_limit`.\n",
      "\n",
      "Current values:\n",
      "NotebookApp.iopub_msg_rate_limit=1000.0 (msgs/sec)\n",
      "NotebookApp.rate_limit_window=3.0 (secs)\n",
      "\n"
     ]
    },
    {
     "name": "stdout",
     "output_type": "stream",
     "text": [
      "Reading IA067-D2-20191112.mp4: frame 49294, time 0:54:46.133333, speed 0.89x"
     ]
    },
    {
     "name": "stderr",
     "output_type": "stream",
     "text": [
      "IOPub message rate exceeded.\n",
      "The notebook server will temporarily stop sending output\n",
      "to the client in order to avoid crashing it.\n",
      "To change this limit, set the config variable\n",
      "`--NotebookApp.iopub_msg_rate_limit`.\n",
      "\n",
      "Current values:\n",
      "NotebookApp.iopub_msg_rate_limit=1000.0 (msgs/sec)\n",
      "NotebookApp.rate_limit_window=3.0 (secs)\n",
      "\n"
     ]
    },
    {
     "name": "stdout",
     "output_type": "stream",
     "text": [
      "Reading IA067-D2-20191112.mp4: frame 68178, time 1:15:45.066667, speed 0.89x\n",
      "durations[imagehash][fastai] = 5119.43368\n",
      "Reading IA067-D2-20191112.mp4: frame 68178, time 1:15:45.066667, speed 10.31x\n",
      "durations[imagehash][annotated] = 442.221636\n",
      "Using TensorFlow backend.\n",
      "Reading IA067-D2-20191112.mp4: frame 68178, time 1:15:45.066667, speed 0.71x\n",
      "Exception ignored in: <function Handle.__del__ at 0x7f38222834d0>\n",
      "Traceback (most recent call last):\n",
      "  File \"/opt/conda/lib/python3.7/site-packages/rtree/index.py\", line 875, in __del__\n",
      "  File \"/opt/conda/lib/python3.7/site-packages/rtree/index.py\", line 864, in destroy\n",
      "  File \"/opt/conda/lib/python3.7/site-packages/rtree/core.py\", line 34, in check_void_done\n",
      "AttributeError: 'NoneType' object has no attribute 'Error_GetErrorCount'\n",
      "Exception ignored in: <function Handle.__del__ at 0x7f38222834d0>\n",
      "Traceback (most recent call last):\n",
      "  File \"/opt/conda/lib/python3.7/site-packages/rtree/index.py\", line 875, in __del__\n",
      "  File \"/opt/conda/lib/python3.7/site-packages/rtree/index.py\", line 864, in destroy\n",
      "  File \"/opt/conda/lib/python3.7/site-packages/rtree/core.py\", line 34, in check_void_done\n",
      "AttributeError: 'NoneType' object has no attribute 'Error_GetErrorCount'\n",
      "durations[vgg16][fastai] = 6444.280601\n",
      "Using TensorFlow backend.\n",
      "Reading IA067-D2-20191112.mp4: frame 68178, time 1:15:45.066667, speed 2.51x\n",
      "durations[vgg16][annotated] = 1820.135811\n",
      "Reading IA067-D2-20191112.mp4: frame 68178, time 1:15:45.066667, speed 0.94x\n",
      "durations[annotated][fastai] = 4852.824049\n",
      "Reading IA067-D2-20191112.mp4: frame 68178, time 1:15:45.066667, speed 21.70x\n",
      "durations[annotated][annotated] = 210.367324\n"
     ]
    }
   ],
   "source": [
    "durations = {}\n",
    "for page_detector_name in PAGE_DETECTOR_NAMES:\n",
    "    durations[page_detector_name] = dict()\n",
    "    for screen_detector_name in SCREEN_DETECTOR_NAMES:\n",
    "        durations[page_detector_name][screen_detector_name] = duration(page_detector_name, screen_detector_name)\n",
    "        \n",
    "        print(\n",
    "            'durations[{}][{}] = {}'.format(\n",
    "                page_detector_name,\n",
    "                screen_detector_name,\n",
    "                durations[page_detector_name][screen_detector_name].total_seconds(),\n",
    "            )\n",
    "        )"
   ]
  }
 ],
 "metadata": {
  "kernelspec": {
   "display_name": "Python 3",
   "language": "python",
   "name": "python3"
  },
  "language_info": {
   "codemirror_mode": {
    "name": "ipython",
    "version": 3
   },
   "file_extension": ".py",
   "mimetype": "text/x-python",
   "name": "python",
   "nbconvert_exporter": "python",
   "pygments_lexer": "ipython3",
   "version": "3.7.6"
  }
 },
 "nbformat": 4,
 "nbformat_minor": 4
}
