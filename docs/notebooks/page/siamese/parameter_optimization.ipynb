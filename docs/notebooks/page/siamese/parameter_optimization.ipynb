{
 "cells": [
  {
   "cell_type": "markdown",
   "metadata": {},
   "source": [
    "## Optimizing `significance_level` parameter of `KerasSiamesePageDetector`"
   ]
  },
  {
   "cell_type": "code",
   "execution_count": 1,
   "metadata": {},
   "outputs": [
    {
     "name": "stderr",
     "output_type": "stream",
     "text": [
      "Using TensorFlow backend.\n"
     ]
    }
   ],
   "source": [
    "from itertools import product\n",
    "\n",
    "from video699.configuration import get_configuration\n",
    "from video699.video.annotated import (\n",
    "    AnnotatedSampledVideoScreenDetector,\n",
    "    evaluate_event_detector,\n",
    "    get_videos,\n",
    ")\n",
    "from video699.page.siamese import KerasSiamesePageDetector\n",
    "from video699.quadrangle.rtree import RTreeDequeConvexQuadrangleTracker\n",
    "from video699.event.screen import ScreenEventDetector\n",
    "\n",
    "import numpy as np\n",
    "\n",
    "\n",
    "CONFIGURATION = get_configuration()['KerasSiamesePageDetector']"
   ]
  },
  {
   "cell_type": "code",
   "execution_count": 2,
   "metadata": {},
   "outputs": [],
   "source": [
    "def accuracy(significance_level):\n",
    "    CONFIGURATION['significance_level'] = str(significance_level)\n",
    "    num_successes_total = 0\n",
    "    num_trials_total = 0\n",
    "    for annotated_video in get_videos().values():\n",
    "        convex_quadrangle_tracker = RTreeDequeConvexQuadrangleTracker(2)\n",
    "        screen_detector = AnnotatedSampledVideoScreenDetector()\n",
    "        documents = annotated_video.documents.values()\n",
    "        page_detector = KerasSiamesePageDetector(documents)\n",
    "        screen_event_detector = ScreenEventDetector(\n",
    "            annotated_video,\n",
    "            convex_quadrangle_tracker,\n",
    "            screen_detector,\n",
    "            page_detector\n",
    "        )\n",
    "        num_successes, num_trials = evaluate_event_detector(annotated_video, screen_event_detector)\n",
    "        num_successes_total += num_successes\n",
    "        num_trials_total += num_trials\n",
    "    accuracy = 1.0 * num_successes_total / num_trials_total\n",
    "    return accuracy"
   ]
  },
  {
   "cell_type": "code",
   "execution_count": 3,
   "metadata": {},
   "outputs": [
    {
     "name": "stdout",
     "output_type": "stream",
     "text": [
      "Optimal parameters (accuracy 0.8557457212713936):\n",
      "- significance_level: 0.42857142857142855\n",
      "CPU times: user 3h 27min 16s, sys: 1h 2min 40s, total: 4h 29min 56s\n",
      "Wall time: 3h 48min 48s\n"
     ]
    }
   ],
   "source": [
    "%%time\n",
    "significance_levels = np.linspace(0.0, 1.0, num=50)\n",
    "accuracies = list(map(accuracy, significance_levels))\n",
    "\n",
    "best_accuracy, best_significance_level = max(zip(accuracies, significance_levels))\n",
    "print('Optimal parameters (accuracy {}):'.format(best_accuracy))\n",
    "print('- significance_level: {}'.format(best_significance_level))"
   ]
  }
 ],
 "metadata": {
  "kernelspec": {
   "display_name": "Python 3",
   "language": "python",
   "name": "python3"
  },
  "language_info": {
   "codemirror_mode": {
    "name": "ipython",
    "version": 3
   },
   "file_extension": ".py",
   "mimetype": "text/x-python",
   "name": "python",
   "nbconvert_exporter": "python",
   "pygments_lexer": "ipython3",
   "version": "3.7.3"
  }
 },
 "nbformat": 4,
 "nbformat_minor": 4
}
