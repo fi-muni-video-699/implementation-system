{
 "cells": [
  {
   "cell_type": "code",
   "execution_count": 25,
   "metadata": {},
   "outputs": [
    {
     "name": "stdout",
     "output_type": "stream",
     "text": [
      "CPU times: user 235 µs, sys: 47 µs, total: 282 µs\n",
      "Wall time: 290 µs\n"
     ]
    }
   ],
   "source": [
    "%%time\n",
    "from functools import partial\n",
    "from collections import defaultdict, namedtuple\n",
    "import numpy as np\n",
    "import pandas as pd\n",
    "import scipy\n",
    "from sklearn.model_selection import KFold\n",
    "from tqdm.notebook import tqdm\n",
    "from itertools import product\n",
    "import time\n",
    "\n",
    "from video699.screen.semantic_segmentation.fastai_detector import *\n",
    "from video699.screen.semantic_segmentation.common import *\n",
    "from video699.screen.semantic_segmentation.postprocessing import *\n",
    "from video699.screen.semantic_segmentation.evaluation import *\n",
    "\n",
    "Split = namedtuple('Split', 'train valid')\n",
    "all_lectures = [video.filename for video in ALL_VIDEOS]"
   ]
  },
  {
   "cell_type": "code",
   "execution_count": 64,
   "metadata": {},
   "outputs": [],
   "source": [
    "def get_best_params(df):\n",
    "    unhashable_columns = ['frozen_lr', 'unfrozen_lr', 'base_factors', 'erode_dilate_factors']\n",
    "    df[unhashable_columns] = df[unhashable_columns].astype(str)\n",
    "    df['wrong_count'] = df['wrong_count'].astype(int)\n",
    "    best_params = df.groupby(train_params + method_params).mean().sort_values(by=['wrong_count', 'iou']).iloc[0].name\n",
    "\n",
    "    converted_params = []\n",
    "    for i, par in enumerate(best_params):\n",
    "        if isinstance(par, np.int64) or isinstance(par, np.float64):\n",
    "            converted_params.append(par.item())\n",
    "        else:\n",
    "            converted_params.append(par)\n",
    "    best_params = tuple(converted_params)\n",
    "\n",
    "    best_methods = dict(zip(method_params, best_params[-len(method_params):]))\n",
    "    best_train_params_dict = dict(zip(train_params, best_params[:len(train_params)]))\n",
    "    best_train_params_dict['frozen_lr'] = eval(best_train_params_dict['frozen_lr'])\n",
    "    best_train_params_dict['unfrozen_lr'] = eval(best_train_params_dict['unfrozen_lr'])\n",
    "    best_methods['base_factors'] = eval(best_methods['base_factors'])\n",
    "    best_methods['erode_dilate_factors'] = eval(best_methods['erode_dilate_factors'])\n",
    "    return best_methods, best_train_params_dict"
   ]
  },
  {
   "cell_type": "code",
   "execution_count": 65,
   "metadata": {
    "scrolled": true
   },
   "outputs": [
    {
     "name": "stderr",
     "output_type": "stream",
     "text": [
      "5it [00:00, 5669.51it/s]\n"
     ]
    }
   ],
   "source": [
    "kf = KFold(n_splits=5, shuffle=True, random_state=123)\n",
    "outer_splits = {}\n",
    "for i, split in tqdm(enumerate(kf.split(all_lectures))):\n",
    "    other_lectures = [all_lectures[index] for index in split[0]]\n",
    "    test_lectures = [all_lectures[index] for index in split[1]]\n",
    "    outer_splits[i] = Split(train=other_lectures, valid=test_lectures)"
   ]
  },
  {
   "cell_type": "markdown",
   "metadata": {},
   "source": [
    "## Cross validation summary"
   ]
  },
  {
   "cell_type": "code",
   "execution_count": 66,
   "metadata": {},
   "outputs": [],
   "source": [
    "df_cv = pd.read_csv(\"cross_validation_results.csv\", usecols = [i for i in range(1, 21)])"
   ]
  },
  {
   "cell_type": "code",
   "execution_count": 67,
   "metadata": {},
   "outputs": [
    {
     "data": {
      "text/plain": [
       "({'base': True,\n",
       "  'erode_dilate': True,\n",
       "  'ratio_split': True,\n",
       "  'base_lower_bound': 7,\n",
       "  'base_upper_bound': 70,\n",
       "  'base_factors': [0.1, 0.01],\n",
       "  'erode_dilate_lower_bound': 7,\n",
       "  'erode_dilate_upper_bound': 70,\n",
       "  'erode_dilate_factors': [0.1, 0.01],\n",
       "  'erode_dilate_iterations': 100,\n",
       "  'ratio_split_lower_bound': 0.9,\n",
       "  'ratio_split_upper_bound': 1.5},\n",
       " {'batch_size': 8,\n",
       "  'resize_factor': 2,\n",
       "  'frozen_epochs': 9,\n",
       "  'unfrozen_epochs': 10,\n",
       "  'frozen_lr': 0.0001,\n",
       "  'unfrozen_lr': slice(0.0001, 0.0002, None)})"
      ]
     },
     "execution_count": 67,
     "metadata": {},
     "output_type": "execute_result"
    }
   ],
   "source": [
    "get_best_params(df_cv)"
   ]
  },
  {
   "cell_type": "code",
   "execution_count": 47,
   "metadata": {},
   "outputs": [
    {
     "data": {
      "text/plain": [
       "2.93398533007335"
      ]
     },
     "execution_count": 47,
     "metadata": {},
     "output_type": "execute_result"
    }
   ],
   "source": [
    "percentage_of_missed_screens  = df_cv['wrong_count'].mean() / len(all_frames) * 100\n",
    "percentage_of_missed_screens"
   ]
  },
  {
   "cell_type": "code",
   "execution_count": 48,
   "metadata": {},
   "outputs": [
    {
     "data": {
      "text/plain": [
       "68.42506772524365"
      ]
     },
     "execution_count": 48,
     "metadata": {},
     "output_type": "execute_result"
    }
   ],
   "source": [
    "iou_score = df_cv['iou'].mean() * 100\n",
    "iou_score"
   ]
  },
  {
   "cell_type": "markdown",
   "metadata": {},
   "source": [
    "### Outer splits with most missed screens"
   ]
  },
  {
   "cell_type": "code",
   "execution_count": 49,
   "metadata": {
    "scrolled": true
   },
   "outputs": [
    {
     "name": "stdout",
     "output_type": "stream",
     "text": [
      "['PB001-D1-20121016.avi', 'MB103-D1-20161122.mp4', 'IB111-D1-20151211.mp4', 'MA010-D1-20151015.mp4']\n",
      "['PV112-D2-20130311.avi', 'PB156-D1-20130312.avi', 'PB069-D2-20140305.mp4']\n"
     ]
    }
   ],
   "source": [
    "for i in list(df_cv[df_cv['wrong_count'] > 5].index):\n",
    "    print(outer_splits[i].valid)"
   ]
  },
  {
   "cell_type": "markdown",
   "metadata": {},
   "source": [
    "### Outer splits with worst iou"
   ]
  },
  {
   "cell_type": "code",
   "execution_count": 50,
   "metadata": {},
   "outputs": [
    {
     "name": "stdout",
     "output_type": "stream",
     "text": [
      "['PV112-D2-20130311.avi', 'PB156-D1-20130312.avi', 'PB069-D2-20140305.mp4']\n"
     ]
    }
   ],
   "source": [
    "for i in list(df_cv[df_cv['iou'] < 0.6].index):\n",
    "    print(outer_splits[i].valid)"
   ]
  },
  {
   "cell_type": "markdown",
   "metadata": {},
   "source": [
    "## Model selection summary"
   ]
  },
  {
   "cell_type": "code",
   "execution_count": 51,
   "metadata": {},
   "outputs": [],
   "source": [
    "df_ms = pd.read_csv(\"model_selection.csv\", usecols = [i for i in range(1, 21)])"
   ]
  },
  {
   "cell_type": "code",
   "execution_count": 56,
   "metadata": {},
   "outputs": [],
   "source": [
    "unhashable_columns = ['frozen_lr', 'unfrozen_lr', 'base_factors', 'erode_dilate_factors']\n",
    "df_ms[unhashable_columns] = df_ms[unhashable_columns].astype(str)\n",
    "df_ms['wrong_count'] = df_ms['wrong_count'].astype(int)\n",
    "best_params = df_ms.groupby(train_params + method_params).mean().sort_values(by=['wrong_count', 'iou']).iloc[0].name\n",
    "\n",
    "converted_params = []\n",
    "for i, par in enumerate(best_params):\n",
    "    if isinstance(par, np.int64) or isinstance(par, np.float64):\n",
    "        converted_params.append(par.item())\n",
    "    else:\n",
    "        converted_params.append(par)\n",
    "best_params = tuple(converted_params)\n",
    "\n",
    "best_methods = dict(zip(method_params, best_params[-len(method_params):]))\n",
    "best_train_params_dict = dict(zip(train_params, best_params[:len(train_params)]))\n",
    "best_train_params_dict['frozen_lr'] = eval(best_train_params_dict['frozen_lr'])\n",
    "best_train_params_dict['unfrozen_lr'] = eval(best_train_params_dict['unfrozen_lr'])\n",
    "best_methods['base_factors'] = eval(best_methods['base_factors'])\n",
    "best_methods['erode_dilate_factors'] = eval(best_methods['erode_dilate_factors'])"
   ]
  },
  {
   "cell_type": "code",
   "execution_count": 58,
   "metadata": {},
   "outputs": [
    {
     "data": {
      "text/plain": [
       "({'base': True,\n",
       "  'erode_dilate': True,\n",
       "  'ratio_split': True,\n",
       "  'base_lower_bound': 7,\n",
       "  'base_upper_bound': 70,\n",
       "  'base_factors': [0.1, 0.01],\n",
       "  'erode_dilate_lower_bound': 7,\n",
       "  'erode_dilate_upper_bound': 70,\n",
       "  'erode_dilate_factors': [0.1, 0.01],\n",
       "  'erode_dilate_iterations': 40,\n",
       "  'ratio_split_lower_bound': 0.7,\n",
       "  'ratio_split_upper_bound': 1.5},\n",
       " {'batch_size': 8,\n",
       "  'resize_factor': 2,\n",
       "  'frozen_epochs': 2,\n",
       "  'unfrozen_epochs': 3,\n",
       "  'frozen_lr': 0.0001,\n",
       "  'unfrozen_lr': slice(0.0001, 0.0002, None)})"
      ]
     },
     "execution_count": 58,
     "metadata": {},
     "output_type": "execute_result"
    }
   ],
   "source": [
    "best_methods, best_train_params_dict"
   ]
  },
  {
   "cell_type": "code",
   "execution_count": null,
   "metadata": {},
   "outputs": [],
   "source": []
  }
 ],
 "metadata": {
  "kernelspec": {
   "display_name": "Python 3",
   "language": "python",
   "name": "python3"
  },
  "language_info": {
   "codemirror_mode": {
    "name": "ipython",
    "version": 3
   },
   "file_extension": ".py",
   "mimetype": "text/x-python",
   "name": "python",
   "nbconvert_exporter": "python",
   "pygments_lexer": "ipython3",
   "version": "3.7.6"
  }
 },
 "nbformat": 4,
 "nbformat_minor": 4
}
