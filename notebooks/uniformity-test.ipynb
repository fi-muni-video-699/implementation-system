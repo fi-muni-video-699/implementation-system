{
 "cells": [
  {
   "cell_type": "markdown",
   "metadata": {},
   "source": [
    "# Uniformity test for the dataset\n",
    "A random sample of videos should be uniformly distributed."
   ]
  },
  {
   "cell_type": "code",
   "execution_count": 1,
   "metadata": {},
   "outputs": [],
   "source": [
    "import matplotlib.pyplot as plt\n",
    "from scipy.stats import kstest, uniform\n",
    "from video699.video.annotated import get_videos\n",
    "\n",
    "VIDEOS = get_videos().values()"
   ]
  },
  {
   "cell_type": "code",
   "execution_count": 2,
   "metadata": {},
   "outputs": [
    {
     "data": {
      "image/png": "[encoded data removed]",
      "text/plain": [
       "<Figure size 432x288 with 1 Axes>"
      ]
     },
     "metadata": {
      "needs_background": "light"
     },
     "output_type": "display_data"
    },
    {
     "name": "stdout",
     "output_type": "stream",
     "text": [
      "Kolmogorov-Smirnov test p-value: 0.5904890225360246 > 0.05\n"
     ]
    }
   ],
   "source": [
    "sample = []\n",
    "for video in VIDEOS:\n",
    "    for frame in video:\n",
    "        sample.append(frame.number / video.num_frames)\n",
    "\n",
    "plt.hist(sample)\n",
    "plt.title(\"Positions of $N={}$ video frames\".format(len(sample)))\n",
    "plt.xlim(0, 1)\n",
    "plt.savefig(\"figures/uniformity-test.pdf\")\n",
    "plt.show()\n",
    "\n",
    "_, p_value = kstest(sample, 'uniform')\n",
    "print('Kolmogorov-Smirnov test p-value: {} > 0.05'.format(p_value))"
   ]
  }
 ],
 "metadata": {
  "kernelspec": {
   "display_name": "Python 3",
   "language": "python",
   "name": "python3"
  },
  "language_info": {
   "codemirror_mode": {
    "name": "ipython",
    "version": 3
   },
   "file_extension": ".py",
   "mimetype": "text/x-python",
   "name": "python",
   "nbconvert_exporter": "python",
   "pygments_lexer": "ipython3",
   "version": "3.5.3"
  }
 },
 "nbformat": 4,
 "nbformat_minor": 2
}
